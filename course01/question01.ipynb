{
 "cells": [
  {
   "cell_type": "markdown",
   "metadata": {},
   "source": [
    "## 수행목표\n",
    "본인만의 기준으로 영화를 추천하는 코드를 개발한다.\n",
    "\n",
    "### 수행단계\n",
    "- [x] 데이터는 제공되는 파일인 prob-0101.csv를 사용한다.\n",
    "\n",
    "- [x] 영화 개수, 배급사 수, 감독 수, 출연진 수, 장르 수를 파악한다.\n",
    "\n",
    "- [x] 감독, 출연진 등 중복 조건들에 대해 파악한다.\n",
    "\n",
    "- [x] 본인이 추천하고 싶은 기준을 설정한다.\n",
    "\n",
    "- [x] 본인의 기준에 의해 영화 몇개를 추천하는 것이 적당한지 실험해 본다.\n",
    "\n",
    "- [x] 다양한 접근 조회 방법을 실험한다. (감독, 출연진 중복, 장르별 등)\n",
    "\n",
    "- [x] 개인별로 정한 기준이 서로 어떻게 다른지 확인한다.\n",
    "\n",
    "- [x] 제일 영화가 많이 나온 날"
   ]
  },
  {
   "cell_type": "markdown",
   "metadata": {},
   "source": [
    "## 필요한 라이브러리 설치"
   ]
  },
  {
   "cell_type": "code",
   "execution_count": 1,
   "metadata": {},
   "outputs": [],
   "source": [
    "import pandas as pd\n",
    "import re"
   ]
  },
  {
   "cell_type": "markdown",
   "metadata": {},
   "source": [
    "- 데이터는 제공되는 파일인 prob-0101.csv를 사용한다."
   ]
  },
  {
   "cell_type": "code",
   "execution_count": 2,
   "metadata": {},
   "outputs": [
    {
     "data": {
      "text/html": [
       "<div>\n",
       "<style scoped>\n",
       "    .dataframe tbody tr th:only-of-type {\n",
       "        vertical-align: middle;\n",
       "    }\n",
       "\n",
       "    .dataframe tbody tr th {\n",
       "        vertical-align: top;\n",
       "    }\n",
       "\n",
       "    .dataframe thead th {\n",
       "        text-align: right;\n",
       "    }\n",
       "</style>\n",
       "<table border=\"1\" class=\"dataframe\">\n",
       "  <thead>\n",
       "    <tr style=\"text-align: right;\">\n",
       "      <th></th>\n",
       "      <th>개봉일</th>\n",
       "      <th>제목</th>\n",
       "      <th>배급사</th>\n",
       "      <th>감독</th>\n",
       "      <th>출연진</th>\n",
       "      <th>장르</th>\n",
       "    </tr>\n",
       "  </thead>\n",
       "  <tbody>\n",
       "    <tr>\n",
       "      <th>0</th>\n",
       "      <td>2023-01-04</td>\n",
       "      <td>스위치</td>\n",
       "      <td>롯데컬처웍스, (주)롯데엔터테인먼트</td>\n",
       "      <td>마대윤</td>\n",
       "      <td>권상우, 오정세, 이민정, 박소이, 김준</td>\n",
       "      <td>기타</td>\n",
       "    </tr>\n",
       "    <tr>\n",
       "      <th>1</th>\n",
       "      <td>2023-01-05</td>\n",
       "      <td>강남좀비</td>\n",
       "      <td>(주)와이드릴리즈</td>\n",
       "      <td>이수성</td>\n",
       "      <td>지일주, 지연</td>\n",
       "      <td>드라마</td>\n",
       "    </tr>\n",
       "    <tr>\n",
       "      <th>2</th>\n",
       "      <td>2023-01-12</td>\n",
       "      <td>별 볼일 없는 인생</td>\n",
       "      <td>(주)이놀미디어</td>\n",
       "      <td>서동현</td>\n",
       "      <td>정가은</td>\n",
       "      <td>멜로/로맨스</td>\n",
       "    </tr>\n",
       "    <tr>\n",
       "      <th>3</th>\n",
       "      <td>2023-01-12</td>\n",
       "      <td>10일간의 애인</td>\n",
       "      <td>(주)그노스</td>\n",
       "      <td>이영용</td>\n",
       "      <td>송민경</td>\n",
       "      <td>멜로/로맨스</td>\n",
       "    </tr>\n",
       "    <tr>\n",
       "      <th>4</th>\n",
       "      <td>2023-01-18</td>\n",
       "      <td>교섭</td>\n",
       "      <td>플렉스엠엔터테인먼트</td>\n",
       "      <td>임순례</td>\n",
       "      <td>황정민, 현빈, 강기영</td>\n",
       "      <td>드라마</td>\n",
       "    </tr>\n",
       "  </tbody>\n",
       "</table>\n",
       "</div>"
      ],
      "text/plain": [
       "          개봉일          제목                  배급사   감독                     출연진  \\\n",
       "0  2023-01-04         스위치  롯데컬처웍스, (주)롯데엔터테인먼트  마대윤  권상우, 오정세, 이민정, 박소이, 김준   \n",
       "1  2023-01-05        강남좀비            (주)와이드릴리즈  이수성                 지일주, 지연   \n",
       "2  2023-01-12  별 볼일 없는 인생             (주)이놀미디어  서동현                     정가은   \n",
       "3  2023-01-12    10일간의 애인               (주)그노스  이영용                     송민경   \n",
       "4  2023-01-18          교섭           플렉스엠엔터테인먼트  임순례            황정민, 현빈, 강기영   \n",
       "\n",
       "       장르  \n",
       "0      기타  \n",
       "1     드라마  \n",
       "2  멜로/로맨스  \n",
       "3  멜로/로맨스  \n",
       "4     드라마  "
      ]
     },
     "execution_count": 2,
     "metadata": {},
     "output_type": "execute_result"
    }
   ],
   "source": [
    "df = pd.read_csv(\"prob-0101.csv\")\n",
    "# df\n",
    "df.head()"
   ]
  },
  {
   "cell_type": "code",
   "execution_count": 3,
   "metadata": {},
   "outputs": [
    {
     "name": "stdout",
     "output_type": "stream",
     "text": [
      "<class 'pandas.core.frame.DataFrame'>\n",
      "RangeIndex: 59 entries, 0 to 58\n",
      "Data columns (total 6 columns):\n",
      " #   Column  Non-Null Count  Dtype \n",
      "---  ------  --------------  ----- \n",
      " 0   개봉일     59 non-null     object\n",
      " 1   제목      59 non-null     object\n",
      " 2   배급사     59 non-null     object\n",
      " 3   감독      59 non-null     object\n",
      " 4   출연진     59 non-null     object\n",
      " 5   장르      59 non-null     object\n",
      "dtypes: object(6)\n",
      "memory usage: 2.9+ KB\n"
     ]
    }
   ],
   "source": [
    "df.info()"
   ]
  },
  {
   "cell_type": "markdown",
   "metadata": {},
   "source": [
    "- 영화 개수, 배급사 수, 감독 수, 출연진 수, 장르 수를 파악한다.\n",
    "- 감독, 출연진 등 중복 조건들에 대해 파악한다."
   ]
  },
  {
   "cell_type": "code",
   "execution_count": 4,
   "metadata": {},
   "outputs": [],
   "source": [
    "# 다중 값을 가진 컬럼 처리하기\n",
    "def split_list(informations):\n",
    "    result = []\n",
    "    pattern = r'[,\\·/]\\s*'\n",
    "\n",
    "    for information in informations:\n",
    "        splitted = re.split(pattern, information)\n",
    "        splitted = [token.strip() for token in splitted if token.strip()]\n",
    "        result.extend(splitted)\n",
    "\n",
    "    return result\n"
   ]
  },
  {
   "cell_type": "code",
   "execution_count": 5,
   "metadata": {},
   "outputs": [
    {
     "data": {
      "text/plain": [
       "(59, 55, 62, 262, 14)"
      ]
     },
     "execution_count": 5,
     "metadata": {},
     "output_type": "execute_result"
    }
   ],
   "source": [
    "# 영화 개수\n",
    "total_movies = len(df)\n",
    "# 배급사 수\n",
    "total_distributor = len(set(split_list(df[\"배급사\"])))\n",
    "# 감독 수\n",
    "total_director = len(set(split_list(df[\"감독\"])))\n",
    "# 출연진 수\n",
    "total_casting = len(set(split_list(df[\"출연진\"])))\n",
    "# 장르 수\n",
    "total_genre = len(set(split_list(df[\"장르\"])))\n",
    "\n",
    "total_movies, total_distributor, total_director, total_casting, total_genre"
   ]
  },
  {
   "cell_type": "code",
   "execution_count": 6,
   "metadata": {},
   "outputs": [
    {
     "data": {
      "text/plain": [
       "{'SF',\n",
       " '가족',\n",
       " '공포',\n",
       " '기타',\n",
       " '다큐멘터리',\n",
       " '드라마',\n",
       " '로맨스',\n",
       " '멜로',\n",
       " '미스터리',\n",
       " '범죄',\n",
       " '스럴리',\n",
       " '스릴러',\n",
       " '액션',\n",
       " '코미디'}"
      ]
     },
     "execution_count": 6,
     "metadata": {},
     "output_type": "execute_result"
    }
   ],
   "source": [
    "set(split_list(df[\"장르\"]))"
   ]
  },
  {
   "cell_type": "markdown",
   "metadata": {},
   "source": [
    "- 본인이 추천하고 싶은 기준을 설정한다.\n",
    "  - 장르, 감독, 날짜 category\n",
    "- 본인의 기준에 의해 영화 몇개를 추천하는 것이 적당한지 실험해 본다.\n",
    "  - 총 영화가 59 개 이므로 너무 많이 추천하면 개인화 추천 성능이 감소.\n",
    "  - 2 ~ 3개"
   ]
  },
  {
   "cell_type": "markdown",
   "metadata": {},
   "source": [
    "- 다양한 접근 조회 방법을 실험한다. (감독, 출연진 중복, 장르별 등)\n"
   ]
  },
  {
   "cell_type": "code",
   "execution_count": 7,
   "metadata": {},
   "outputs": [
    {
     "data": {
      "text/plain": [
       "장르\n",
       "드라마                27\n",
       "액션                  5\n",
       "코미디                 4\n",
       "멜로·로맨스              3\n",
       "기타                  2\n",
       "멜로/로맨스              2\n",
       "멜로·로맨스·코미디          2\n",
       "스릴러                 2\n",
       "범죄·액션·스럴리           1\n",
       "공포,코미디              1\n",
       "범죄, 액션              1\n",
       "공포·미스터리             1\n",
       "드라마,멜로              1\n",
       "코미디, 액션             1\n",
       "멜로,로맨스,드라마          1\n",
       "다큐멘터리               1\n",
       "드라마, 멜로·로맨스, 가족     1\n",
       "범죄, 드라마             1\n",
       "SF                  1\n",
       "범죄                  1\n",
       "Name: count, dtype: int64"
      ]
     },
     "execution_count": 7,
     "metadata": {},
     "output_type": "execute_result"
    }
   ],
   "source": [
    "df[\"장르\"].value_counts()"
   ]
  },
  {
   "cell_type": "code",
   "execution_count": 8,
   "metadata": {},
   "outputs": [
    {
     "data": {
      "text/plain": [
       "0                   [기타]\n",
       "1                  [드라마]\n",
       "2              [멜로, 로맨스]\n",
       "3              [멜로, 로맨스]\n",
       "4                  [드라마]\n",
       "5                   [액션]\n",
       "6                   [SF]\n",
       "7                  [드라마]\n",
       "8                  [드라마]\n",
       "9                  [드라마]\n",
       "10        [멜로, 로맨스, 코미디]\n",
       "11                 [스릴러]\n",
       "12                 [드라마]\n",
       "13                  [액션]\n",
       "14                 [드라마]\n",
       "15                 [드라마]\n",
       "16             [범죄, 드라마]\n",
       "17                 [드라마]\n",
       "18                 [드라마]\n",
       "19                 [드라마]\n",
       "20    [드라마, 멜로, 로맨스, 가족]\n",
       "21             [멜로, 로맨스]\n",
       "22             [코미디, 액션]\n",
       "23                 [드라마]\n",
       "24                 [드라마]\n",
       "25                 [드라마]\n",
       "26               [다큐멘터리]\n",
       "27                 [드라마]\n",
       "28                 [드라마]\n",
       "29        [멜로, 로맨스, 드라마]\n",
       "30                 [드라마]\n",
       "31                 [드라마]\n",
       "32                 [드라마]\n",
       "33         [범죄, 액션, 스럴리]\n",
       "34                 [드라마]\n",
       "35             [드라마, 멜로]\n",
       "36                 [코미디]\n",
       "37             [멜로, 로맨스]\n",
       "38                 [드라마]\n",
       "39                 [드라마]\n",
       "40                 [드라마]\n",
       "41        [멜로, 로맨스, 코미디]\n",
       "42                  [액션]\n",
       "43            [공포, 미스터리]\n",
       "44                 [코미디]\n",
       "45             [멜로, 로맨스]\n",
       "46                  [기타]\n",
       "47                 [드라마]\n",
       "48              [범죄, 액션]\n",
       "49                 [드라마]\n",
       "50                 [코미디]\n",
       "51                 [드라마]\n",
       "52                 [코미디]\n",
       "53                 [드라마]\n",
       "54                  [액션]\n",
       "55             [공포, 코미디]\n",
       "56                  [액션]\n",
       "57                  [범죄]\n",
       "58                 [스릴러]\n",
       "Name: 장르_리스트, dtype: object"
      ]
     },
     "execution_count": 8,
     "metadata": {},
     "output_type": "execute_result"
    }
   ],
   "source": [
    "pattern = r'[,\\·/]\\s*'\n",
    "df[\"장르_리스트\"] = df[\"장르\"].str.split(pattern)\n",
    "df[\"장르_리스트\"]"
   ]
  },
  {
   "cell_type": "code",
   "execution_count": 9,
   "metadata": {},
   "outputs": [
    {
     "data": {
      "text/html": [
       "<div>\n",
       "<style scoped>\n",
       "    .dataframe tbody tr th:only-of-type {\n",
       "        vertical-align: middle;\n",
       "    }\n",
       "\n",
       "    .dataframe tbody tr th {\n",
       "        vertical-align: top;\n",
       "    }\n",
       "\n",
       "    .dataframe thead th {\n",
       "        text-align: right;\n",
       "    }\n",
       "</style>\n",
       "<table border=\"1\" class=\"dataframe\">\n",
       "  <thead>\n",
       "    <tr style=\"text-align: right;\">\n",
       "      <th></th>\n",
       "      <th>개봉일</th>\n",
       "      <th>제목</th>\n",
       "      <th>배급사</th>\n",
       "      <th>감독</th>\n",
       "      <th>출연진</th>\n",
       "      <th>장르</th>\n",
       "      <th>장르_리스트</th>\n",
       "    </tr>\n",
       "  </thead>\n",
       "  <tbody>\n",
       "    <tr>\n",
       "      <th>5</th>\n",
       "      <td>2023-01-18</td>\n",
       "      <td>유령</td>\n",
       "      <td>(주)CJ ENM</td>\n",
       "      <td>이해영</td>\n",
       "      <td>설경구, 이하늬, 박소감, 박해수, 서현우, 김동희</td>\n",
       "      <td>액션</td>\n",
       "      <td>[액션]</td>\n",
       "    </tr>\n",
       "    <tr>\n",
       "      <th>13</th>\n",
       "      <td>2023-02-22</td>\n",
       "      <td>살수</td>\n",
       "      <td>(주)제이앤씨미디어그룹</td>\n",
       "      <td>곽정덕</td>\n",
       "      <td>신현준, 이문식, 김민경, 홍은기, 최성원</td>\n",
       "      <td>액션</td>\n",
       "      <td>[액션]</td>\n",
       "    </tr>\n",
       "    <tr>\n",
       "      <th>22</th>\n",
       "      <td>2023-03-29</td>\n",
       "      <td>웅남이</td>\n",
       "      <td>(주)CJ CGV</td>\n",
       "      <td>박성광</td>\n",
       "      <td>박성웅, 이이경, 염혜란, 최민수, 오달수, 윤제문, 백지혜, 서동원, 한다솔</td>\n",
       "      <td>코미디, 액션</td>\n",
       "      <td>[코미디, 액션]</td>\n",
       "    </tr>\n",
       "    <tr>\n",
       "      <th>33</th>\n",
       "      <td>2023-04-12</td>\n",
       "      <td>나는 여기에 있다</td>\n",
       "      <td>와이드릴리즈(주)</td>\n",
       "      <td>신근호</td>\n",
       "      <td>조한선, 정지운, 정태우, 노수산나, 박순천, 정인기, 이지원</td>\n",
       "      <td>범죄·액션·스럴리</td>\n",
       "      <td>[범죄, 액션, 스럴리]</td>\n",
       "    </tr>\n",
       "    <tr>\n",
       "      <th>42</th>\n",
       "      <td>2023-05-10</td>\n",
       "      <td>바람개비</td>\n",
       "      <td>(주)디스테이션</td>\n",
       "      <td>이상훈</td>\n",
       "      <td>차선우, 유지애, 김소희, 이원석, 서지후</td>\n",
       "      <td>액션</td>\n",
       "      <td>[액션]</td>\n",
       "    </tr>\n",
       "    <tr>\n",
       "      <th>48</th>\n",
       "      <td>2023-05-31</td>\n",
       "      <td>범죄도시 3</td>\n",
       "      <td>(주)에이비오엔터테인먼트</td>\n",
       "      <td>이상용</td>\n",
       "      <td>마동석, 이준혁, 아오키 무네타카, 이범수, 김민재, 이지훈, 김도건, 최동구, 이...</td>\n",
       "      <td>범죄, 액션</td>\n",
       "      <td>[범죄, 액션]</td>\n",
       "    </tr>\n",
       "    <tr>\n",
       "      <th>54</th>\n",
       "      <td>2023-06-21</td>\n",
       "      <td>귀공자</td>\n",
       "      <td>(주)넥스트엔터테인먼트월드</td>\n",
       "      <td>박훈정</td>\n",
       "      <td>김선호, 강태주, 김강우, 고아라</td>\n",
       "      <td>액션</td>\n",
       "      <td>[액션]</td>\n",
       "    </tr>\n",
       "    <tr>\n",
       "      <th>56</th>\n",
       "      <td>2023-06-21</td>\n",
       "      <td>인드림</td>\n",
       "      <td>(주)원더스튜디오</td>\n",
       "      <td>신재호</td>\n",
       "      <td>서효림, 오지호, 김승수, 이설구, 노지유</td>\n",
       "      <td>액션</td>\n",
       "      <td>[액션]</td>\n",
       "    </tr>\n",
       "  </tbody>\n",
       "</table>\n",
       "</div>"
      ],
      "text/plain": [
       "           개봉일         제목             배급사   감독  \\\n",
       "5   2023-01-18         유령       (주)CJ ENM  이해영   \n",
       "13  2023-02-22         살수    (주)제이앤씨미디어그룹  곽정덕   \n",
       "22  2023-03-29        웅남이       (주)CJ CGV  박성광   \n",
       "33  2023-04-12  나는 여기에 있다       와이드릴리즈(주)  신근호   \n",
       "42  2023-05-10       바람개비        (주)디스테이션  이상훈   \n",
       "48  2023-05-31     범죄도시 3   (주)에이비오엔터테인먼트  이상용   \n",
       "54  2023-06-21        귀공자  (주)넥스트엔터테인먼트월드  박훈정   \n",
       "56  2023-06-21        인드림       (주)원더스튜디오  신재호   \n",
       "\n",
       "                                                  출연진         장르  \\\n",
       "5                        설경구, 이하늬, 박소감, 박해수, 서현우, 김동희         액션   \n",
       "13                            신현준, 이문식, 김민경, 홍은기, 최성원         액션   \n",
       "22        박성웅, 이이경, 염혜란, 최민수, 오달수, 윤제문, 백지혜, 서동원, 한다솔    코미디, 액션   \n",
       "33                 조한선, 정지운, 정태우, 노수산나, 박순천, 정인기, 이지원  범죄·액션·스럴리   \n",
       "42                            차선우, 유지애, 김소희, 이원석, 서지후         액션   \n",
       "48  마동석, 이준혁, 아오키 무네타카, 이범수, 김민재, 이지훈, 김도건, 최동구, 이...     범죄, 액션   \n",
       "54                                 김선호, 강태주, 김강우, 고아라         액션   \n",
       "56                            서효림, 오지호, 김승수, 이설구, 노지유         액션   \n",
       "\n",
       "           장르_리스트  \n",
       "5            [액션]  \n",
       "13           [액션]  \n",
       "22      [코미디, 액션]  \n",
       "33  [범죄, 액션, 스럴리]  \n",
       "42           [액션]  \n",
       "48       [범죄, 액션]  \n",
       "54           [액션]  \n",
       "56           [액션]  "
      ]
     },
     "execution_count": 9,
     "metadata": {},
     "output_type": "execute_result"
    }
   ],
   "source": [
    "# 장르별 조회\n",
    "df[df[\"장르_리스트\"].apply(lambda x: \"액션\" in x)]"
   ]
  },
  {
   "cell_type": "code",
   "execution_count": 10,
   "metadata": {},
   "outputs": [
    {
     "data": {
      "text/plain": [
       "0                              [권상우, 오정세, 이민정, 박소이, 김준]\n",
       "1                                             [지일주, 지연]\n",
       "2                                                 [정가은]\n",
       "3                                                 [송민경]\n",
       "4                                        [황정민, 현빈, 강기영]\n",
       "5                        [설경구, 이하늬, 박소감, 박해수, 서현우, 김동희]\n",
       "6                                       [강수연, 김현주, 류경수]\n",
       "7                                  [임선우, 김명찬, 이장유, 박현숙]\n",
       "8                                  [김시은, 배두나, 박우영, 정수하]\n",
       "9                                  [이동휘, 정은채, 강길우, 정다은]\n",
       "10                       [윤시윤, 설인아, 노상현, 문지인, 이규복, 김영웅]\n",
       "11                                      [천우희, 임시완, 김희원]\n",
       "12                       [진선규, 성유빈, 오나라, 고창석, 장동주, 고규필]\n",
       "13                            [신현준, 이문식, 김민경, 홍은기, 최성원]\n",
       "14                        [조은지, 박종환, 곽민규, 소이, 송은지, 곽진무]\n",
       "15                                           [유연석, 차태현]\n",
       "16                                      [조진웅, 이성민, 김무열]\n",
       "17                                      [선동혁, 정아미, 박종진]\n",
       "18                                      [김다미, 전소니, 변우석]\n",
       "19                  [신민재, 송보은, 이경욱, 설유진, 현진영, 박동기, 김세환]\n",
       "20                       [강길우, 강진아, 김시은, 변중희, 이한주, 정수지]\n",
       "21                  [오준택, 임지섭, 박해인, 장영준, 방진원, 서지안, 채수아]\n",
       "22        [박성웅, 이이경, 염혜란, 최민수, 오달수, 윤제문, 백지혜, 서동원, 한다솔]\n",
       "23                                      [허준석, 이영석, 남보라]\n",
       "24                                            [이설, 박지수]\n",
       "25                                           [안재홍, 양한열]\n",
       "26                  [김명임, 김도현, 김순덕, 박유신, 이미경, 최지연, 박혜영]\n",
       "27                                           [양홍주, 나현준]\n",
       "28                                       [이음, 윤가현, 인내상]\n",
       "29         [오원빈, 서지희, 심현탁, 박정철, 김수하, 김민, 김봉주, 조수빈, 정병훈]\n",
       "30                                       [옥자연, 기윤, 하민호]\n",
       "31                       [박호산, 신애리, 백수련, 이노아, 정혜인, 이용녀]\n",
       "32                   [윤박, 우지현, 박미현, 장희령, 이대연, 박소진, 유인수]\n",
       "33                 [조한선, 정지운, 정태우, 노수산나, 박순천, 정인기, 이지원]\n",
       "34                            [신석호, 하성국, 김승윤, 김민희, 김소령]\n",
       "35                                           [박정우, 박영훈]\n",
       "36                                  [이하늬, 이선균, 공명, 김상욱]\n",
       "37                                 [심희섭, 전혜진, 한승도, 박수영]\n",
       "38                       [유다인, 김다현, 문희경, 김정균, 진혜원, 이지용]\n",
       "39    [박서준, 아이유, 김종수, 고창석, 정승길, 이현우, 양현민, 홍완표, 허준석, ...\n",
       "40                                           [허지나, 남명렬]\n",
       "41                                           [장동윤, 박유나]\n",
       "42                            [차선우, 유지애, 김소희, 이원석, 서지후]\n",
       "43                            [이푸름, 권민혁, 김준형, 심소영, 김모범]\n",
       "44    [김경일, 양현민, 김소형, 김우겸, 정승길, 조윤서, 신사랑, 오경화, 서벽준, ...\n",
       "45                                      [윤성모, 정미미, 장원혁]\n",
       "46                  [박성일, 공민정, 임지호, 전신환, 송덕호, 최준혁, 한태경]\n",
       "47                                 [김선영, 이윤지, 최민영, 김용준]\n",
       "48    [마동석, 이준혁, 아오키 무네타카, 이범수, 김민재, 이지훈, 김도건, 최동구, ...\n",
       "49                                                [이나영]\n",
       "50                                      [김재화, 조민재, 박강섭]\n",
       "51                            [김강현, 차선우, 한수연, 신연서, 서은채]\n",
       "52                                                 [소이]\n",
       "53                            [김정팔, 박상욱, 신의현, 이경준, 유재인]\n",
       "54                                 [김선호, 강태주, 김강우, 고아라]\n",
       "55                             [이재원, 박상욱, 정서하, 허웅, 안수호]\n",
       "56                            [서효림, 오지호, 김승수, 이설구, 노지유]\n",
       "57                                 [정영주, 안미나, 배진아, 한가은]\n",
       "58                                      [박성웅, 박선호, 김희정]\n",
       "Name: 출연진_리스트, dtype: object"
      ]
     },
     "execution_count": 10,
     "metadata": {},
     "output_type": "execute_result"
    }
   ],
   "source": [
    "# 출연진\n",
    "pattern = r'[,\\·/]\\s*'\n",
    "df[\"출연진_리스트\"] = df[\"출연진\"].str.split(pattern)\n",
    "df[\"출연진_리스트\"]"
   ]
  },
  {
   "cell_type": "code",
   "execution_count": 11,
   "metadata": {},
   "outputs": [
    {
     "data": {
      "text/html": [
       "<div>\n",
       "<style scoped>\n",
       "    .dataframe tbody tr th:only-of-type {\n",
       "        vertical-align: middle;\n",
       "    }\n",
       "\n",
       "    .dataframe tbody tr th {\n",
       "        vertical-align: top;\n",
       "    }\n",
       "\n",
       "    .dataframe thead th {\n",
       "        text-align: right;\n",
       "    }\n",
       "</style>\n",
       "<table border=\"1\" class=\"dataframe\">\n",
       "  <thead>\n",
       "    <tr style=\"text-align: right;\">\n",
       "      <th></th>\n",
       "      <th>개봉일</th>\n",
       "      <th>제목</th>\n",
       "      <th>배급사</th>\n",
       "      <th>감독</th>\n",
       "      <th>출연진</th>\n",
       "      <th>장르</th>\n",
       "      <th>장르_리스트</th>\n",
       "      <th>출연진_리스트</th>\n",
       "    </tr>\n",
       "  </thead>\n",
       "  <tbody>\n",
       "    <tr>\n",
       "      <th>22</th>\n",
       "      <td>2023-03-29</td>\n",
       "      <td>웅남이</td>\n",
       "      <td>(주)CJ CGV</td>\n",
       "      <td>박성광</td>\n",
       "      <td>박성웅, 이이경, 염혜란, 최민수, 오달수, 윤제문, 백지혜, 서동원, 한다솔</td>\n",
       "      <td>코미디, 액션</td>\n",
       "      <td>[코미디, 액션]</td>\n",
       "      <td>[박성웅, 이이경, 염혜란, 최민수, 오달수, 윤제문, 백지혜, 서동원, 한다솔]</td>\n",
       "    </tr>\n",
       "    <tr>\n",
       "      <th>58</th>\n",
       "      <td>2023-06-28</td>\n",
       "      <td>라방</td>\n",
       "      <td>트리플픽쳐스</td>\n",
       "      <td>최주연</td>\n",
       "      <td>박성웅, 박선호, 김희정</td>\n",
       "      <td>스릴러</td>\n",
       "      <td>[스릴러]</td>\n",
       "      <td>[박성웅, 박선호, 김희정]</td>\n",
       "    </tr>\n",
       "  </tbody>\n",
       "</table>\n",
       "</div>"
      ],
      "text/plain": [
       "           개봉일   제목        배급사   감독  \\\n",
       "22  2023-03-29  웅남이  (주)CJ CGV  박성광   \n",
       "58  2023-06-28   라방     트리플픽쳐스  최주연   \n",
       "\n",
       "                                            출연진       장르     장르_리스트  \\\n",
       "22  박성웅, 이이경, 염혜란, 최민수, 오달수, 윤제문, 백지혜, 서동원, 한다솔  코미디, 액션  [코미디, 액션]   \n",
       "58                                박성웅, 박선호, 김희정      스릴러      [스릴러]   \n",
       "\n",
       "                                          출연진_리스트  \n",
       "22  [박성웅, 이이경, 염혜란, 최민수, 오달수, 윤제문, 백지혜, 서동원, 한다솔]  \n",
       "58                                [박성웅, 박선호, 김희정]  "
      ]
     },
     "execution_count": 11,
     "metadata": {},
     "output_type": "execute_result"
    }
   ],
   "source": [
    "df[df[\"출연진_리스트\"].apply(lambda x: \"박성웅\" in x)]"
   ]
  },
  {
   "cell_type": "code",
   "execution_count": 16,
   "metadata": {},
   "outputs": [
    {
     "data": {
      "text/plain": [
       "np.int64(15)"
      ]
     },
     "execution_count": 16,
     "metadata": {},
     "output_type": "execute_result"
    }
   ],
   "source": [
    "# 제일 영화가 많이 개봉한 날\n",
    "(df[\"개봉일\"].value_counts() >= 2).sum()"
   ]
  },
  {
   "cell_type": "code",
   "execution_count": null,
   "metadata": {},
   "outputs": [],
   "source": []
  }
 ],
 "metadata": {
  "kernelspec": {
   "display_name": ".venv",
   "language": "python",
   "name": "python3"
  },
  "language_info": {
   "codemirror_mode": {
    "name": "ipython",
    "version": 3
   },
   "file_extension": ".py",
   "mimetype": "text/x-python",
   "name": "python",
   "nbconvert_exporter": "python",
   "pygments_lexer": "ipython3",
   "version": "3.9.6"
  }
 },
 "nbformat": 4,
 "nbformat_minor": 2
}
