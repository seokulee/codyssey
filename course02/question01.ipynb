{
 "cells": [
  {
   "cell_type": "markdown",
   "metadata": {},
   "source": [
    "# 수행목표\n",
    "- 영화 관련 공개 데이터셋에 대해 조사한다.\n",
    "# 수행단계\n",
    "- MovieLens\n",
    "- KMRD\n",
    "- Netflix\n",
    "- 각 데이터에서 제공하는 항목이 개발하려고 하는 추천 시스템에서 활용하기 쉬운지 파악한다.\n",
    "- 영화, 사용자, 장르, 출연배우, 제작국가, 제작일, 출시일, 평점, 평가일 등 제공하는 정보를 확인하고 조합해 보면서 확인이 필요하다."
   ]
  },
  {
   "cell_type": "markdown",
   "metadata": {},
   "source": [
    "# 라이브러리 설치"
   ]
  },
  {
   "cell_type": "code",
   "execution_count": 1,
   "metadata": {},
   "outputs": [],
   "source": [
    "import pandas as pd"
   ]
  },
  {
   "cell_type": "code",
   "execution_count": 2,
   "metadata": {},
   "outputs": [
    {
     "data": {
      "text/plain": [
       "(   movieId  imdbId   tmdbId\n",
       " 0        1  114709    862.0\n",
       " 1        2  113497   8844.0\n",
       " 2        3  113228  15602.0\n",
       " 3        4  114885  31357.0\n",
       " 4        5  113041  11862.0,\n",
       "    movieId                               title  \\\n",
       " 0        1                    Toy Story (1995)   \n",
       " 1        2                      Jumanji (1995)   \n",
       " 2        3             Grumpier Old Men (1995)   \n",
       " 3        4            Waiting to Exhale (1995)   \n",
       " 4        5  Father of the Bride Part II (1995)   \n",
       " \n",
       "                                         genres  \n",
       " 0  Adventure|Animation|Children|Comedy|Fantasy  \n",
       " 1                   Adventure|Children|Fantasy  \n",
       " 2                               Comedy|Romance  \n",
       " 3                         Comedy|Drama|Romance  \n",
       " 4                                       Comedy  ,\n",
       "    userId  movieId  rating  timestamp\n",
       " 0       1        1     4.0  964982703\n",
       " 1       1        3     4.0  964981247\n",
       " 2       1        6     4.0  964982224\n",
       " 3       1       47     5.0  964983815\n",
       " 4       1       50     5.0  964982931,\n",
       "    userId  movieId              tag   timestamp\n",
       " 0       2    60756            funny  1445714994\n",
       " 1       2    60756  Highly quotable  1445714996\n",
       " 2       2    60756     will ferrell  1445714992\n",
       " 3       2    89774     Boxing story  1445715207\n",
       " 4       2    89774              MMA  1445715200)"
      ]
     },
     "execution_count": 2,
     "metadata": {},
     "output_type": "execute_result"
    }
   ],
   "source": [
    "# MovieLens\n",
    "\n",
    "ml_links = pd.read_csv(\"data/ml-latest-small/links.csv\")\n",
    "ml_movies = pd.read_csv(\"data/ml-latest-small/movies.csv\")\n",
    "ml_ratings = pd.read_csv(\"data/ml-latest-small/ratings.csv\")\n",
    "ml_tags = pd.read_csv(\"data/ml-latest-small/tags.csv\")\n",
    "\n",
    "ml_links.head(), ml_movies.head(), ml_ratings.head(), ml_tags.head()"
   ]
  },
  {
   "cell_type": "code",
   "execution_count": 4,
   "metadata": {},
   "outputs": [
    {
     "data": {
      "text/plain": [
       "(   movie  people  order  leading\n",
       " 0  10001    4374      1        1\n",
       " 1  10001     178      2        1\n",
       " 2  10001    3241      3        1\n",
       " 3  10001   47952      4        1\n",
       " 4  10001   47953      5        0,\n",
       "    movie country\n",
       " 0  10001    이탈리아\n",
       " 1  10001     프랑스\n",
       " 2  10002      미국\n",
       " 3  10003      미국\n",
       " 4  10004      미국,\n",
       "    movie   genre\n",
       " 0  10001     드라마\n",
       " 1  10001  멜로/로맨스\n",
       " 2  10002      SF\n",
       " 3  10002     코미디\n",
       " 4  10003      SF,\n",
       "    movie                 title                           title_eng    year  \\\n",
       " 0  10001                시네마 천국              Cinema Paradiso , 1988  2013.0   \n",
       " 1  10002              빽 투 더 퓨쳐           Back To The Future , 1985  2015.0   \n",
       " 2  10003            빽 투 더 퓨쳐 2    Back To The Future Part 2 , 1989  2015.0   \n",
       " 3  10004            빽 투 더 퓨쳐 3  Back To The Future Part III , 1990  1990.0   \n",
       " 4  10005  스타워즈 에피소드 4 - 새로운 희망                    Star Wars , 1977  1997.0   \n",
       " \n",
       "      grade  \n",
       " 0   전체 관람가  \n",
       " 1  12세 관람가  \n",
       " 2  12세 관람가  \n",
       " 3   전체 관람가  \n",
       " 4       PG  ,\n",
       "    people    korean        original\n",
       " 0       5    아담 볼드윈    Adam Baldwin\n",
       " 1       8   애드리안 라인     Adrian Lyne\n",
       " 2       9     에이단 퀸     Aidan Quinn\n",
       " 3      13  구로사와 아키라  Akira Kurosawa\n",
       " 4      15     알 파치노       Al Pacino,\n",
       "    user  movie  rate        time\n",
       " 0     0  10003     7  1494128040\n",
       " 1     0  10004     7  1467529800\n",
       " 2     0  10018     9  1513344120\n",
       " 3     0  10021     9  1424497980\n",
       " 4     0  10022     7  1427627340)"
      ]
     },
     "execution_count": 4,
     "metadata": {},
     "output_type": "execute_result"
    }
   ],
   "source": [
    "# kmrd\n",
    "\n",
    "kmrd_castings = pd.read_csv(\"data/kmrd/castings.csv\")\n",
    "kmrd_countries = pd.read_csv(\"data/kmrd/countries.csv\")\n",
    "kmrd_genres = pd.read_csv(\"data/kmrd/genres.csv\")\n",
    "kmrd_movies = pd.read_csv(\"data/kmrd/movies.txt\", sep=\"\\t\")\n",
    "kmrd_peoples = pd.read_csv(\"data/kmrd/peoples.txt\", sep=\"\\t\")\n",
    "kmrd_rates = pd.read_csv(\"data/kmrd/rates.csv\")\n",
    "\n",
    "kmrd_castings.head(), kmrd_countries.head(), kmrd_genres.head(), kmrd_movies.head(), kmrd_peoples.head(), kmrd_rates.head()\n"
   ]
  },
  {
   "cell_type": "code",
   "execution_count": null,
   "metadata": {},
   "outputs": [],
   "source": [
    "# Netflix\n",
    "# 그냥 보여주기..\n"
   ]
  }
 ],
 "metadata": {
  "kernelspec": {
   "display_name": ".venv",
   "language": "python",
   "name": "python3"
  },
  "language_info": {
   "codemirror_mode": {
    "name": "ipython",
    "version": 3
   },
   "file_extension": ".py",
   "mimetype": "text/x-python",
   "name": "python",
   "nbconvert_exporter": "python",
   "pygments_lexer": "ipython3",
   "version": "3.9.6"
  }
 },
 "nbformat": 4,
 "nbformat_minor": 2
}
