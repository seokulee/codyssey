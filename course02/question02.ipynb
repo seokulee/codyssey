{
 "cells": [
  {
   "cell_type": "markdown",
   "metadata": {},
   "source": [
    "# 수행목표\n",
    "- KMRD 데이터셋을 다운로드하고 각 파일 스키마를 확인한다.\n",
    "# 수행단계\n",
    "- KMRD\n",
    "    - KMRD 데이터 다운로드\n",
    "        - 위 github 경로에서 데이터를 확인하고 다운로드 한다.\n",
    "        - kmr_dataset/datafile/kmrd-small 폴더에 필요한 데이터가 있다.\n",
    "    - KMRD 데이터 준비 및 로딩\n",
    "        - 각 파일에는 어떤 데이터가 저장되어 있고 어떤 데이터 필드로 구성되어 있는지 파악하라.\n",
    "        - Pandas를 이용해서 데이터를 로딩해서 데이터를 확인하라.\n",
    "    - 기본 통계 확인\n",
    "        - 사용자 수, 영화 수, 평점 수, 제작국가 수, 출연진 수, 장르 개수 등의 기본 통계를 확인하라."
   ]
  },
  {
   "cell_type": "markdown",
   "metadata": {},
   "source": [
    "# 라이브러리 설치"
   ]
  },
  {
   "cell_type": "code",
   "execution_count": 2,
   "metadata": {},
   "outputs": [],
   "source": [
    "import pandas as pd"
   ]
  },
  {
   "cell_type": "markdown",
   "metadata": {},
   "source": [
    "# KMRD 데이터셋"
   ]
  },
  {
   "cell_type": "code",
   "execution_count": 3,
   "metadata": {},
   "outputs": [
    {
     "data": {
      "text/plain": [
       "(   movie  people  order  leading\n",
       " 0  10001    4374      1        1\n",
       " 1  10001     178      2        1\n",
       " 2  10001    3241      3        1\n",
       " 3  10001   47952      4        1\n",
       " 4  10001   47953      5        0,\n",
       "    movie country\n",
       " 0  10001    이탈리아\n",
       " 1  10001     프랑스\n",
       " 2  10002      미국\n",
       " 3  10003      미국\n",
       " 4  10004      미국,\n",
       "    movie   genre\n",
       " 0  10001     드라마\n",
       " 1  10001  멜로/로맨스\n",
       " 2  10002      SF\n",
       " 3  10002     코미디\n",
       " 4  10003      SF,\n",
       "    movie                 title                           title_eng    year  \\\n",
       " 0  10001                시네마 천국              Cinema Paradiso , 1988  2013.0   \n",
       " 1  10002              빽 투 더 퓨쳐           Back To The Future , 1985  2015.0   \n",
       " 2  10003            빽 투 더 퓨쳐 2    Back To The Future Part 2 , 1989  2015.0   \n",
       " 3  10004            빽 투 더 퓨쳐 3  Back To The Future Part III , 1990  1990.0   \n",
       " 4  10005  스타워즈 에피소드 4 - 새로운 희망                    Star Wars , 1977  1997.0   \n",
       " \n",
       "      grade  \n",
       " 0   전체 관람가  \n",
       " 1  12세 관람가  \n",
       " 2  12세 관람가  \n",
       " 3   전체 관람가  \n",
       " 4       PG  ,\n",
       "    people    korean        original\n",
       " 0       5    아담 볼드윈    Adam Baldwin\n",
       " 1       8   애드리안 라인     Adrian Lyne\n",
       " 2       9     에이단 퀸     Aidan Quinn\n",
       " 3      13  구로사와 아키라  Akira Kurosawa\n",
       " 4      15     알 파치노       Al Pacino,\n",
       "    user  movie  rate        time\n",
       " 0     0  10003     7  1494128040\n",
       " 1     0  10004     7  1467529800\n",
       " 2     0  10018     9  1513344120\n",
       " 3     0  10021     9  1424497980\n",
       " 4     0  10022     7  1427627340)"
      ]
     },
     "execution_count": 3,
     "metadata": {},
     "output_type": "execute_result"
    }
   ],
   "source": [
    "# kmrd\n",
    "\n",
    "kmrd_castings = pd.read_csv(\"data/kmrd/castings.csv\")\n",
    "kmrd_countries = pd.read_csv(\"data/kmrd/countries.csv\")\n",
    "kmrd_genres = pd.read_csv(\"data/kmrd/genres.csv\")\n",
    "kmrd_movies = pd.read_csv(\"data/kmrd/movies.txt\", sep=\"\\t\")\n",
    "kmrd_peoples = pd.read_csv(\"data/kmrd/peoples.txt\", sep=\"\\t\")\n",
    "kmrd_rates = pd.read_csv(\"data/kmrd/rates.csv\")\n",
    "\n",
    "kmrd_castings.head(), kmrd_countries.head(), kmrd_genres.head(), kmrd_movies.head(), kmrd_peoples.head(), kmrd_rates.head()\n"
   ]
  },
  {
   "cell_type": "code",
   "execution_count": 4,
   "metadata": {},
   "outputs": [
    {
     "name": "stdout",
     "output_type": "stream",
     "text": [
      "<class 'pandas.core.frame.DataFrame'>\n",
      "RangeIndex: 9776 entries, 0 to 9775\n",
      "Data columns (total 4 columns):\n",
      " #   Column   Non-Null Count  Dtype\n",
      "---  ------   --------------  -----\n",
      " 0   movie    9776 non-null   int64\n",
      " 1   people   9776 non-null   int64\n",
      " 2   order    9776 non-null   int64\n",
      " 3   leading  9776 non-null   int64\n",
      "dtypes: int64(4)\n",
      "memory usage: 305.6 KB\n"
     ]
    }
   ],
   "source": [
    "# kmrd_castings\n",
    "\n",
    "kmrd_castings.info()"
   ]
  },
  {
   "cell_type": "code",
   "execution_count": 5,
   "metadata": {},
   "outputs": [
    {
     "name": "stdout",
     "output_type": "stream",
     "text": [
      "<class 'pandas.core.frame.DataFrame'>\n",
      "RangeIndex: 1109 entries, 0 to 1108\n",
      "Data columns (total 2 columns):\n",
      " #   Column   Non-Null Count  Dtype \n",
      "---  ------   --------------  ----- \n",
      " 0   movie    1109 non-null   int64 \n",
      " 1   country  1109 non-null   object\n",
      "dtypes: int64(1), object(1)\n",
      "memory usage: 17.5+ KB\n"
     ]
    }
   ],
   "source": [
    "# kmrd_countries\n",
    "\n",
    "kmrd_countries.info()"
   ]
  },
  {
   "cell_type": "code",
   "execution_count": 6,
   "metadata": {},
   "outputs": [
    {
     "name": "stdout",
     "output_type": "stream",
     "text": [
      "<class 'pandas.core.frame.DataFrame'>\n",
      "RangeIndex: 2025 entries, 0 to 2024\n",
      "Data columns (total 2 columns):\n",
      " #   Column  Non-Null Count  Dtype \n",
      "---  ------  --------------  ----- \n",
      " 0   movie   2025 non-null   int64 \n",
      " 1   genre   2025 non-null   object\n",
      "dtypes: int64(1), object(1)\n",
      "memory usage: 31.8+ KB\n"
     ]
    }
   ],
   "source": [
    "# kmrd_genres\n",
    "\n",
    "kmrd_genres.info()"
   ]
  },
  {
   "cell_type": "code",
   "execution_count": 7,
   "metadata": {},
   "outputs": [
    {
     "name": "stdout",
     "output_type": "stream",
     "text": [
      "<class 'pandas.core.frame.DataFrame'>\n",
      "RangeIndex: 999 entries, 0 to 998\n",
      "Data columns (total 5 columns):\n",
      " #   Column     Non-Null Count  Dtype  \n",
      "---  ------     --------------  -----  \n",
      " 0   movie      999 non-null    int64  \n",
      " 1   title      992 non-null    object \n",
      " 2   title_eng  991 non-null    object \n",
      " 3   year       609 non-null    float64\n",
      " 4   grade      957 non-null    object \n",
      "dtypes: float64(1), int64(1), object(3)\n",
      "memory usage: 39.1+ KB\n"
     ]
    }
   ],
   "source": [
    "# kmrd_movies\n",
    "\n",
    "kmrd_movies.info()"
   ]
  },
  {
   "cell_type": "code",
   "execution_count": 8,
   "metadata": {},
   "outputs": [
    {
     "name": "stdout",
     "output_type": "stream",
     "text": [
      "<class 'pandas.core.frame.DataFrame'>\n",
      "RangeIndex: 7172 entries, 0 to 7171\n",
      "Data columns (total 3 columns):\n",
      " #   Column    Non-Null Count  Dtype \n",
      "---  ------    --------------  ----- \n",
      " 0   people    7172 non-null   int64 \n",
      " 1   korean    7172 non-null   object\n",
      " 2   original  6305 non-null   object\n",
      "dtypes: int64(1), object(2)\n",
      "memory usage: 168.2+ KB\n"
     ]
    }
   ],
   "source": [
    "# kmrd_peoples\n",
    "\n",
    "kmrd_peoples.info()"
   ]
  },
  {
   "cell_type": "code",
   "execution_count": 9,
   "metadata": {},
   "outputs": [
    {
     "name": "stdout",
     "output_type": "stream",
     "text": [
      "<class 'pandas.core.frame.DataFrame'>\n",
      "RangeIndex: 140710 entries, 0 to 140709\n",
      "Data columns (total 4 columns):\n",
      " #   Column  Non-Null Count   Dtype\n",
      "---  ------  --------------   -----\n",
      " 0   user    140710 non-null  int64\n",
      " 1   movie   140710 non-null  int64\n",
      " 2   rate    140710 non-null  int64\n",
      " 3   time    140710 non-null  int64\n",
      "dtypes: int64(4)\n",
      "memory usage: 4.3 MB\n"
     ]
    }
   ],
   "source": [
    "# kmrd_rates\n",
    "\n",
    "kmrd_rates.info()"
   ]
  },
  {
   "cell_type": "code",
   "execution_count": 11,
   "metadata": {},
   "outputs": [
    {
     "data": {
      "text/plain": [
       "52028"
      ]
     },
     "execution_count": 11,
     "metadata": {},
     "output_type": "execute_result"
    }
   ],
   "source": [
    "# user 수\n",
    "\n",
    "# user 수는 `user` column의 unique한 값의 수와 같다.\n",
    "# `user` column은 `kmrd_rates` dataframe에 존재한다.\n",
    "\n",
    "user_count = kmrd_rates[\"user\"].nunique()\n",
    "user_count"
   ]
  },
  {
   "cell_type": "code",
   "execution_count": 13,
   "metadata": {},
   "outputs": [
    {
     "data": {
      "text/plain": [
       "999"
      ]
     },
     "execution_count": 13,
     "metadata": {},
     "output_type": "execute_result"
    }
   ],
   "source": [
    "# movie 수\n",
    "\n",
    "# movie 수는 `movie` column의 unique한 값의 수와 같다.\n",
    "# `movie` column은 `kmrd_movies` dataframe에 존재한다.\n",
    "\n",
    "movie_count = kmrd_movies[\"movie\"].nunique()\n",
    "movie_count"
   ]
  },
  {
   "cell_type": "code",
   "execution_count": 15,
   "metadata": {},
   "outputs": [
    {
     "data": {
      "text/plain": [
       "140710"
      ]
     },
     "execution_count": 15,
     "metadata": {},
     "output_type": "execute_result"
    }
   ],
   "source": [
    "# rating 수\n",
    "\n",
    "# rating 수는 kmrd_rates dataframe의 row 수와 같다.\n",
    "\n",
    "rating_count = kmrd_rates.shape[0]\n",
    "rating_count"
   ]
  },
  {
   "cell_type": "code",
   "execution_count": 16,
   "metadata": {},
   "outputs": [
    {
     "data": {
      "text/plain": [
       "36"
      ]
     },
     "execution_count": 16,
     "metadata": {},
     "output_type": "execute_result"
    }
   ],
   "source": [
    "# country 수\n",
    "\n",
    "# country 수는 `country` column의 unique한 값의 수와 같다.\n",
    "\n",
    "country_count = kmrd_countries[\"country\"].nunique()\n",
    "country_count"
   ]
  },
  {
   "cell_type": "code",
   "execution_count": 17,
   "metadata": {},
   "outputs": [
    {
     "data": {
      "text/plain": [
       "7172"
      ]
     },
     "execution_count": 17,
     "metadata": {},
     "output_type": "execute_result"
    }
   ],
   "source": [
    "# people 수\n",
    "\n",
    "# people 수는 `people` column의 unique한 값의 수와 같다.\n",
    "# `people` column은 `kmrd_peoples` dataframe에 존재한다.\n",
    "\n",
    "people_count = kmrd_peoples[\"people\"].nunique()\n",
    "people_count"
   ]
  },
  {
   "cell_type": "code",
   "execution_count": 18,
   "metadata": {},
   "outputs": [
    {
     "data": {
      "text/plain": [
       "20"
      ]
     },
     "execution_count": 18,
     "metadata": {},
     "output_type": "execute_result"
    }
   ],
   "source": [
    "# genre 수\n",
    "\n",
    "# genre 수는 `genre` column의 unique한 값의 수와 같다.\n",
    "# `genre` column은 `kmrd_genres` dataframe에 존재한다.\n",
    "\n",
    "genre_count = kmrd_genres[\"genre\"].nunique()\n",
    "genre_count"
   ]
  },
  {
   "cell_type": "code",
   "execution_count": null,
   "metadata": {},
   "outputs": [],
   "source": []
  }
 ],
 "metadata": {
  "kernelspec": {
   "display_name": ".venv",
   "language": "python",
   "name": "python3"
  },
  "language_info": {
   "codemirror_mode": {
    "name": "ipython",
    "version": 3
   },
   "file_extension": ".py",
   "mimetype": "text/x-python",
   "name": "python",
   "nbconvert_exporter": "python",
   "pygments_lexer": "ipython3",
   "version": "3.9.6"
  }
 },
 "nbformat": 4,
 "nbformat_minor": 2
}
