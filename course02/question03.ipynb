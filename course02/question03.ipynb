{
 "cells": [
  {
   "cell_type": "markdown",
   "metadata": {},
   "source": [
    "# 수행목표\n",
    "- KMRD 데이터셋의 결측치, 이상치를 확인하고 시각화한다.\n",
    "# 수행단계\n",
    "- 데이터의 결측치 및 이상치 확인\n",
    "    - 데이터에 결측치가 있는지 확인하고 처리하라.\n",
    "    - 데이터에 이상치가 있는지 확인하고 처리하라.\n",
    "- 시각화를 통한 탐색\n",
    "    - 사용자별/영화별 평점 분포를 히스토그램, 박스 플롯 등으로 시각화하라. (Histogram)\n",
    "    - 가장 많이 평가된 영화, 가장 높은 평균 평점을 받은 영화 등의 리스트를 확인하라.\n",
    "    - 시간에 따른 평점의 변화나 패턴을 라인 플롯으로 확인하라. (Line chart)"
   ]
  },
  {
   "cell_type": "code",
   "execution_count": 1,
   "metadata": {},
   "outputs": [],
   "source": [
    "# 이전 작업 완료하기\n",
    "\n",
    "import pandas as pd\n",
    "\n",
    "kmrd_castings = pd.read_csv(\"data/kmrd/castings.csv\")\n",
    "kmrd_countries = pd.read_csv(\"data/kmrd/countries.csv\")\n",
    "kmrd_genres = pd.read_csv(\"data/kmrd/genres.csv\")\n",
    "kmrd_movies = pd.read_csv(\"data/kmrd/movies.txt\", sep=\"\\t\")\n",
    "kmrd_peoples = pd.read_csv(\"data/kmrd/peoples.txt\", sep=\"\\t\")\n",
    "kmrd_rates = pd.read_csv(\"data/kmrd/rates.csv\")\n"
   ]
  },
  {
   "cell_type": "markdown",
   "metadata": {},
   "source": [
    "# 추가 라이브러리 설치"
   ]
  },
  {
   "cell_type": "code",
   "execution_count": 2,
   "metadata": {},
   "outputs": [
    {
     "name": "stderr",
     "output_type": "stream",
     "text": [
      "Matplotlib is building the font cache; this may take a moment.\n"
     ]
    }
   ],
   "source": [
    "import matplotlib.pyplot as plt\n",
    "import seaborn as sns"
   ]
  },
  {
   "cell_type": "code",
   "execution_count": 4,
   "metadata": {},
   "outputs": [
    {
     "data": {
      "text/plain": [
       "movie      0\n",
       "people     0\n",
       "order      0\n",
       "leading    0\n",
       "dtype: int64"
      ]
     },
     "execution_count": 4,
     "metadata": {},
     "output_type": "execute_result"
    }
   ],
   "source": [
    "# 결측치 확인하기\n",
    "\n",
    "kmrd_castings.isnull().sum()"
   ]
  },
  {
   "cell_type": "code",
   "execution_count": 5,
   "metadata": {},
   "outputs": [
    {
     "data": {
      "text/plain": [
       "movie          0\n",
       "title          7\n",
       "title_eng      8\n",
       "year         390\n",
       "grade         42\n",
       "dtype: int64"
      ]
     },
     "execution_count": 5,
     "metadata": {},
     "output_type": "execute_result"
    }
   ],
   "source": [
    "kmrd_movies.isnull().sum()"
   ]
  },
  {
   "cell_type": "code",
   "execution_count": 6,
   "metadata": {},
   "outputs": [
    {
     "data": {
      "text/plain": [
       "movie      0\n",
       "country    0\n",
       "dtype: int64"
      ]
     },
     "execution_count": 6,
     "metadata": {},
     "output_type": "execute_result"
    }
   ],
   "source": [
    "kmrd_countries.isnull().sum()"
   ]
  },
  {
   "cell_type": "code",
   "execution_count": 7,
   "metadata": {},
   "outputs": [
    {
     "data": {
      "text/plain": [
       "movie    0\n",
       "genre    0\n",
       "dtype: int64"
      ]
     },
     "execution_count": 7,
     "metadata": {},
     "output_type": "execute_result"
    }
   ],
   "source": [
    "kmrd_genres.isnull().sum()"
   ]
  },
  {
   "cell_type": "code",
   "execution_count": 9,
   "metadata": {},
   "outputs": [
    {
     "data": {
      "text/plain": [
       "people        0\n",
       "korean        0\n",
       "original    867\n",
       "dtype: int64"
      ]
     },
     "execution_count": 9,
     "metadata": {},
     "output_type": "execute_result"
    }
   ],
   "source": [
    "kmrd_peoples.isnull().sum()"
   ]
  },
  {
   "cell_type": "code",
   "execution_count": 10,
   "metadata": {},
   "outputs": [
    {
     "data": {
      "text/plain": [
       "user     0\n",
       "movie    0\n",
       "rate     0\n",
       "time     0\n",
       "dtype: int64"
      ]
     },
     "execution_count": 10,
     "metadata": {},
     "output_type": "execute_result"
    }
   ],
   "source": [
    "kmrd_rates.isnull().sum()"
   ]
  },
  {
   "cell_type": "code",
   "execution_count": 16,
   "metadata": {},
   "outputs": [
    {
     "name": "stdout",
     "output_type": "stream",
     "text": [
      "<class 'pandas.core.frame.DataFrame'>\n",
      "RangeIndex: 9776 entries, 0 to 9775\n",
      "Data columns (total 4 columns):\n",
      " #   Column   Non-Null Count  Dtype\n",
      "---  ------   --------------  -----\n",
      " 0   movie    9776 non-null   int64\n",
      " 1   people   9776 non-null   int64\n",
      " 2   order    9776 non-null   int64\n",
      " 3   leading  9776 non-null   int64\n",
      "dtypes: int64(4)\n",
      "memory usage: 305.6 KB\n"
     ]
    }
   ],
   "source": [
    "kmrd_castings.info()"
   ]
  },
  {
   "cell_type": "code",
   "execution_count": 17,
   "metadata": {},
   "outputs": [
    {
     "data": {
      "text/plain": [
       "(order\n",
       " 1      988\n",
       " 2      982\n",
       " 3      966\n",
       " 4      933\n",
       " 5      854\n",
       "       ... \n",
       " 97       1\n",
       " 98       1\n",
       " 99       1\n",
       " 100      1\n",
       " 101      1\n",
       " Name: count, Length: 101, dtype: int64,\n",
       " leading\n",
       " 0    6889\n",
       " 1    2887\n",
       " Name: count, dtype: int64)"
      ]
     },
     "execution_count": 18,
     "metadata": {},
     "output_type": "execute_result"
    }
   ],
   "source": [
    "kmrd_castings[\"movie\"].value_counts(), kmrd_castings[\"people\"].value_counts(), kmrd_castings[\"order\"].value_counts(), kmrd_castings[\"leading\"].value_counts()"
   ]
  },
  {
   "cell_type": "code",
   "execution_count": 19,
   "metadata": {},
   "outputs": [
    {
     "name": "stdout",
     "output_type": "stream",
     "text": [
      "<class 'pandas.core.frame.DataFrame'>\n",
      "RangeIndex: 999 entries, 0 to 998\n",
      "Data columns (total 5 columns):\n",
      " #   Column     Non-Null Count  Dtype  \n",
      "---  ------     --------------  -----  \n",
      " 0   movie      999 non-null    int64  \n",
      " 1   title      992 non-null    object \n",
      " 2   title_eng  991 non-null    object \n",
      " 3   year       609 non-null    float64\n",
      " 4   grade      957 non-null    object \n",
      "dtypes: float64(1), int64(1), object(3)\n",
      "memory usage: 39.1+ KB\n"
     ]
    }
   ],
   "source": [
    "kmrd_movies.info()"
   ]
  },
  {
   "cell_type": "code",
   "execution_count": 21,
   "metadata": {},
   "outputs": [
    {
     "data": {
      "text/plain": [
       "(movie\n",
       " 10001    1\n",
       " 10672    1\n",
       " 10659    1\n",
       " 10660    1\n",
       " 10661    1\n",
       "         ..\n",
       " 10339    1\n",
       " 10340    1\n",
       " 10341    1\n",
       " 10342    1\n",
       " 10999    1\n",
       " Name: count, Length: 999, dtype: int64,\n",
       " title\n",
       " 노틀담의 꼽추      4\n",
       " 젠다성의 포로      3\n",
       " 39 계단        3\n",
       " 드라큐라         3\n",
       " 죽음의 카운트다운    2\n",
       "             ..\n",
       " 3중대의 병사들     1\n",
       " 레베카          1\n",
       " 말타의 매        1\n",
       " 무숙자          1\n",
       " 프랑켄슈타인       1\n",
       " Name: count, Length: 969, dtype: int64,\n",
       " title_eng\n",
       " 1991                                                  4\n",
       " 1987                                                  3\n",
       " 1992                                                  2\n",
       " 1990                                                  2\n",
       " Black Moon Rising , 1986                              1\n",
       "                                                      ..\n",
       " Deux Hommes Dans La Ville , Two Men In Town , 1973    1\n",
       " Bilitis , 1977                                        1\n",
       " 55 Days At Peking , 1963                              1\n",
       " Protocol , 1984                                       1\n",
       " Frankenstein , 1931                                   1\n",
       " Name: count, Length: 984, dtype: int64,\n",
       " year\n",
       " 1990.0    72\n",
       " 1989.0    53\n",
       " 1991.0    42\n",
       " 1987.0    35\n",
       " 1992.0    29\n",
       "           ..\n",
       " 1998.0     1\n",
       " 2006.0     1\n",
       " 2001.0     1\n",
       " 1965.0     1\n",
       " 1927.0     1\n",
       " Name: count, Length: 72, dtype: int64,\n",
       " grade\n",
       " 청소년 관람불가    229\n",
       " 15세 관람가     199\n",
       " NR          175\n",
       " PG          128\n",
       " 12세 관람가     112\n",
       " 전체 관람가       53\n",
       " PG-13        25\n",
       " R            22\n",
       " G            14\n",
       " Name: count, dtype: int64,\n",
       " grade\n",
       " 청소년 관람불가    229\n",
       " 15세 관람가     199\n",
       " NR          175\n",
       " PG          128\n",
       " 12세 관람가     112\n",
       " 전체 관람가       53\n",
       " PG-13        25\n",
       " R            22\n",
       " G            14\n",
       " Name: count, dtype: int64)"
      ]
     },
     "execution_count": 21,
     "metadata": {},
     "output_type": "execute_result"
    }
   ],
   "source": [
    "kmrd_movies[\"movie\"].value_counts(), kmrd_movies[\"title\"].value_counts(), kmrd_movies[\"title_eng\"].value_counts(), kmrd_movies[\"year\"].value_counts(), kmrd_movies[\"grade\"].value_counts(), kmrd_movies[\"grade\"].value_counts()"
   ]
  },
  {
   "cell_type": "code",
   "execution_count": 22,
   "metadata": {},
   "outputs": [
    {
     "name": "stdout",
     "output_type": "stream",
     "text": [
      "<class 'pandas.core.frame.DataFrame'>\n",
      "RangeIndex: 1109 entries, 0 to 1108\n",
      "Data columns (total 2 columns):\n",
      " #   Column   Non-Null Count  Dtype \n",
      "---  ------   --------------  ----- \n",
      " 0   movie    1109 non-null   int64 \n",
      " 1   country  1109 non-null   object\n",
      "dtypes: int64(1), object(1)\n",
      "memory usage: 17.5+ KB\n"
     ]
    }
   ],
   "source": [
    "kmrd_countries.info()"
   ]
  },
  {
   "cell_type": "code",
   "execution_count": 23,
   "metadata": {},
   "outputs": [
    {
     "data": {
      "text/plain": [
       "(movie\n",
       " 10824    5\n",
       " 10314    4\n",
       " 10168    3\n",
       " 10570    3\n",
       " 10433    3\n",
       "         ..\n",
       " 10353    1\n",
       " 10354    1\n",
       " 10355    1\n",
       " 10356    1\n",
       " 10999    1\n",
       " Name: count, Length: 990, dtype: int64,\n",
       " country\n",
       " 미국            654\n",
       " 영국             94\n",
       " 한국             94\n",
       " 프랑스            70\n",
       " 홍콩             51\n",
       " 이탈리아           43\n",
       " 독일(구 서독)       20\n",
       " 오스트레일리아        12\n",
       " 대만             10\n",
       " 스페인             7\n",
       " 캐나다             6\n",
       " 일본              6\n",
       " 중국              5\n",
       " 스웨덴             4\n",
       " 러시아(구 소련)       4\n",
       " 남아프리카 공화국       3\n",
       " 폴란드             3\n",
       " 알제리             2\n",
       " 독일              2\n",
       " 브라질             2\n",
       " 보츠와나            2\n",
       " 핀란드             1\n",
       " 국가불명            1\n",
       " 터키              1\n",
       " 벨기에             1\n",
       " 노르웨이            1\n",
       " 뉴질랜드            1\n",
       " 그리스             1\n",
       " 덴마크             1\n",
       " 아일랜드            1\n",
       " 네덜란드            1\n",
       " 아르헨티나           1\n",
       " 벨라루스(구 소련)      1\n",
       " 유고슬라비아          1\n",
       " 체코              1\n",
       " 멕시코             1\n",
       " Name: count, dtype: int64)"
      ]
     },
     "execution_count": 23,
     "metadata": {},
     "output_type": "execute_result"
    }
   ],
   "source": [
    "kmrd_countries[\"movie\"].value_counts(), kmrd_countries[\"country\"].value_counts()"
   ]
  },
  {
   "cell_type": "code",
   "execution_count": 24,
   "metadata": {},
   "outputs": [
    {
     "name": "stdout",
     "output_type": "stream",
     "text": [
      "<class 'pandas.core.frame.DataFrame'>\n",
      "RangeIndex: 2025 entries, 0 to 2024\n",
      "Data columns (total 2 columns):\n",
      " #   Column  Non-Null Count  Dtype \n",
      "---  ------  --------------  ----- \n",
      " 0   movie   2025 non-null   int64 \n",
      " 1   genre   2025 non-null   object\n",
      "dtypes: int64(1), object(1)\n",
      "memory usage: 31.8+ KB\n"
     ]
    }
   ],
   "source": [
    "kmrd_genres.info()"
   ]
  },
  {
   "cell_type": "code",
   "execution_count": 25,
   "metadata": {},
   "outputs": [
    {
     "data": {
      "text/plain": [
       "(movie\n",
       " 10669    7\n",
       " 10013    7\n",
       " 10396    6\n",
       " 10965    6\n",
       " 10941    6\n",
       "         ..\n",
       " 10697    1\n",
       " 10283    1\n",
       " 10284    1\n",
       " 10692    1\n",
       " 10743    1\n",
       " Name: count, Length: 964, dtype: int64,\n",
       " genre\n",
       " 드라마       529\n",
       " 코미디       233\n",
       " 액션        211\n",
       " 멜로/로맨스    172\n",
       " 스릴러       162\n",
       " 모험        117\n",
       " 범죄        117\n",
       " SF         80\n",
       " 공포         79\n",
       " 전쟁         75\n",
       " 판타지        55\n",
       " 미스터리       48\n",
       " 뮤지컬        41\n",
       " 가족         40\n",
       " 서부         31\n",
       " 느와르        15\n",
       " 에로         10\n",
       " 애니메이션       6\n",
       " 다큐멘터리       3\n",
       " 서사          1\n",
       " Name: count, dtype: int64)"
      ]
     },
     "execution_count": 25,
     "metadata": {},
     "output_type": "execute_result"
    }
   ],
   "source": [
    "kmrd_genres[\"movie\"].value_counts(), kmrd_genres[\"genre\"].value_counts()"
   ]
  },
  {
   "cell_type": "code",
   "execution_count": 26,
   "metadata": {},
   "outputs": [
    {
     "name": "stdout",
     "output_type": "stream",
     "text": [
      "<class 'pandas.core.frame.DataFrame'>\n",
      "RangeIndex: 7172 entries, 0 to 7171\n",
      "Data columns (total 3 columns):\n",
      " #   Column    Non-Null Count  Dtype \n",
      "---  ------    --------------  ----- \n",
      " 0   people    7172 non-null   int64 \n",
      " 1   korean    7172 non-null   object\n",
      " 2   original  6305 non-null   object\n",
      "dtypes: int64(1), object(2)\n",
      "memory usage: 168.2+ KB\n"
     ]
    }
   ],
   "source": [
    "kmrd_peoples.info()"
   ]
  },
  {
   "cell_type": "code",
   "execution_count": 27,
   "metadata": {},
   "outputs": [
    {
     "data": {
      "text/plain": [
       "(people\n",
       " 5         1\n",
       " 17606     1\n",
       " 22602     1\n",
       " 22523     1\n",
       " 22176     1\n",
       "          ..\n",
       " 11153     1\n",
       " 11152     1\n",
       " 11151     1\n",
       " 11150     1\n",
       " 420466    1\n",
       " Name: count, Length: 7172, dtype: int64,\n",
       " korean\n",
       " 대니 하셀      2\n",
       " 파멜라 브라운    2\n",
       " 린 바게트      2\n",
       " 에릭 로버츠     2\n",
       " 존 카펜터      2\n",
       "           ..\n",
       " 진혜루        1\n",
       " 안정국        1\n",
       " 패트리샤 버치    1\n",
       " 켄 핀클먼      1\n",
       " 김미란        1\n",
       " Name: count, Length: 7153, dtype: int64,\n",
       " <bound method IndexOpsMixin.value_counts of 0         Adam Baldwin\n",
       " 1          Adrian Lyne\n",
       " 2          Aidan Quinn\n",
       " 3       Akira Kurosawa\n",
       " 4            Al Pacino\n",
       "              ...      \n",
       " 7167               NaN\n",
       " 7168               NaN\n",
       " 7169     Norman Wright\n",
       " 7170       Graham Heid\n",
       " 7171               NaN\n",
       " Name: original, Length: 7172, dtype: object>)"
      ]
     },
     "execution_count": 27,
     "metadata": {},
     "output_type": "execute_result"
    }
   ],
   "source": [
    "kmrd_peoples[\"people\"].value_counts(), kmrd_peoples[\"korean\"].value_counts(), kmrd_peoples[\"original\"].value_counts"
   ]
  },
  {
   "cell_type": "code",
   "execution_count": 28,
   "metadata": {},
   "outputs": [
    {
     "name": "stdout",
     "output_type": "stream",
     "text": [
      "<class 'pandas.core.frame.DataFrame'>\n",
      "RangeIndex: 140710 entries, 0 to 140709\n",
      "Data columns (total 4 columns):\n",
      " #   Column  Non-Null Count   Dtype\n",
      "---  ------  --------------   -----\n",
      " 0   user    140710 non-null  int64\n",
      " 1   movie   140710 non-null  int64\n",
      " 2   rate    140710 non-null  int64\n",
      " 3   time    140710 non-null  int64\n",
      "dtypes: int64(4)\n",
      "memory usage: 4.3 MB\n"
     ]
    }
   ],
   "source": [
    "kmrd_rates.info()"
   ]
  },
  {
   "cell_type": "code",
   "execution_count": 29,
   "metadata": {},
   "outputs": [
    {
     "data": {
      "text/plain": [
       "(user\n",
       " 465      413\n",
       " 44       375\n",
       " 1051     322\n",
       " 170      278\n",
       " 110      262\n",
       "         ... \n",
       " 24793      1\n",
       " 24794      1\n",
       " 24796      1\n",
       " 24797      1\n",
       " 52027      1\n",
       " Name: count, Length: 52028, dtype: int64,\n",
       " movie\n",
       " 10200    7265\n",
       " 10048    7016\n",
       " 10102    4391\n",
       " 10016    4029\n",
       " 10936    3690\n",
       "          ... \n",
       " 10939       1\n",
       " 10731       1\n",
       " 10180       1\n",
       " 10853       1\n",
       " 10974       1\n",
       " Name: count, Length: 600, dtype: int64,\n",
       " rate\n",
       " 10    94411\n",
       " 9     14684\n",
       " 8     11514\n",
       " 7      6553\n",
       " 1      5199\n",
       " 6      3642\n",
       " 5      2040\n",
       " 4      1083\n",
       " 3       813\n",
       " 2       771\n",
       " Name: count, dtype: int64,\n",
       " time\n",
       " 1071932400    25\n",
       " 1072018800    23\n",
       " 1071586800    23\n",
       " 1071500400    23\n",
       " 1071414000    20\n",
       "               ..\n",
       " 1496088120     1\n",
       " 1495725480     1\n",
       " 1340774880     1\n",
       " 1324007760     1\n",
       " 1227036960     1\n",
       " Name: count, Length: 136972, dtype: int64)"
      ]
     },
     "execution_count": 29,
     "metadata": {},
     "output_type": "execute_result"
    }
   ],
   "source": [
    "kmrd_rates[\"user\"].value_counts(), kmrd_rates[\"movie\"].value_counts(), kmrd_rates[\"rate\"].value_counts(), kmrd_rates[\"time\"].value_counts()"
   ]
  },
  {
   "cell_type": "code",
   "execution_count": 50,
   "metadata": {},
   "outputs": [
    {
     "data": {
      "text/plain": [
       "rate\n",
       "10    94411\n",
       "9     14684\n",
       "8     11514\n",
       "7      6553\n",
       "1      5199\n",
       "6      3642\n",
       "5      2040\n",
       "4      1083\n",
       "3       813\n",
       "2       771\n",
       "Name: count, dtype: int64"
      ]
     },
     "execution_count": 50,
     "metadata": {},
     "output_type": "execute_result"
    }
   ],
   "source": [
    "kmrd_rates[\"rate\"].value_counts()"
   ]
  },
  {
   "cell_type": "code",
   "execution_count": 30,
   "metadata": {},
   "outputs": [
    {
     "data": {
      "text/plain": [
       "np.int64(1069340400)"
      ]
     },
     "execution_count": 30,
     "metadata": {},
     "output_type": "execute_result"
    }
   ],
   "source": [
    "kmrd_rates[\"time\"].min()"
   ]
  },
  {
   "cell_type": "code",
   "execution_count": 31,
   "metadata": {},
   "outputs": [
    {
     "data": {
      "text/plain": [
       "np.int64(1576525860)"
      ]
     },
     "execution_count": 31,
     "metadata": {},
     "output_type": "execute_result"
    }
   ],
   "source": [
    "kmrd_rates[\"time\"].max()"
   ]
  },
  {
   "cell_type": "code",
   "execution_count": 32,
   "metadata": {},
   "outputs": [
    {
     "data": {
      "text/plain": [
       "(52028, 600)"
      ]
     },
     "execution_count": 32,
     "metadata": {},
     "output_type": "execute_result"
    }
   ],
   "source": [
    "kmrd_rates['user'].nunique(), kmrd_rates['movie'].nunique()"
   ]
  },
  {
   "cell_type": "code",
   "execution_count": 33,
   "metadata": {},
   "outputs": [
    {
     "data": {
      "text/plain": [
       "0.995492491222675"
      ]
     },
     "execution_count": 33,
     "metadata": {},
     "output_type": "execute_result"
    }
   ],
   "source": [
    "# sparsity 계산하기\n",
    "\n",
    "1 - (len(kmrd_rates) / (kmrd_rates['user'].nunique() * kmrd_rates['movie'].nunique()))"
   ]
  },
  {
   "cell_type": "code",
   "execution_count": 57,
   "metadata": {},
   "outputs": [
    {
     "data": {
      "image/png": "[encoded data removed]",
      "text/plain": [
       "<Figure size 1200x800 with 4 Axes>"
      ]
     },
     "metadata": {},
     "output_type": "display_data"
    }
   ],
   "source": [
    "fig, axes = plt.subplots(2, 2, figsize=(12, 8))\n",
    "\n",
    "sns.histplot(kmrd_rates['user'], bins=20, ax=axes[0, 0])\n",
    "sns.histplot(kmrd_rates['movie'], bins=20, ax=axes[0, 1])\n",
    "sns.histplot(kmrd_rates['rate'], bins=10, ax=axes[1, 0])\n",
    "sns.histplot(kmrd_rates['time'], bins=20, ax=axes[1, 1])\n",
    "\n",
    "plt.show()"
   ]
  },
  {
   "cell_type": "code",
   "execution_count": 58,
   "metadata": {},
   "outputs": [
    {
     "data": {
      "text/plain": [
       "(Timestamp('2003-11-20 15:00:00'), Timestamp('2019-12-16 19:51:00'))"
      ]
     },
     "execution_count": 58,
     "metadata": {},
     "output_type": "execute_result"
    }
   ],
   "source": [
    "kmrd_rates['time'] = pd.to_datetime(kmrd_rates['time'], unit='s')\n",
    "kmrd_rates['time'].min(), kmrd_rates['time'].max()"
   ]
  },
  {
   "cell_type": "code",
   "execution_count": 60,
   "metadata": {},
   "outputs": [
    {
     "data": {
      "image/png": "[encoded data removed]",
      "text/plain": [
       "<Figure size 1200x600 with 1 Axes>"
      ]
     },
     "metadata": {},
     "output_type": "display_data"
    }
   ],
   "source": [
    "fig, ax = plt.subplots(1, 1, figsize=(12, 6))\n",
    "\n",
    "sns.histplot(kmrd_rates['time'], bins=10, ax=ax)\n",
    "\n",
    "plt.show()"
   ]
  },
  {
   "cell_type": "code",
   "execution_count": 61,
   "metadata": {},
   "outputs": [
    {
     "data": {
      "image/png": "[encoded data removed]",
      "text/plain": [
       "<Figure size 1200x600 with 1 Axes>"
      ]
     },
     "metadata": {},
     "output_type": "display_data"
    }
   ],
   "source": [
    "fig, ax = plt.subplots(1, 1, figsize=(12, 6))\n",
    "\n",
    "sns.histplot(kmrd_rates['time'], bins=50, ax=ax)\n",
    "\n",
    "plt.show()"
   ]
  },
  {
   "cell_type": "code",
   "execution_count": 64,
   "metadata": {},
   "outputs": [
    {
     "data": {
      "text/plain": [
       "np.int64(10200)"
      ]
     },
     "execution_count": 64,
     "metadata": {},
     "output_type": "execute_result"
    }
   ],
   "source": [
    "# 가장 많이 평가된 영화\n",
    "\n",
    "kmrd_rates['movie'].value_counts().idxmax()"
   ]
  },
  {
   "cell_type": "code",
   "execution_count": 65,
   "metadata": {},
   "outputs": [
    {
     "data": {
      "text/plain": [
       "np.int64(10180)"
      ]
     },
     "execution_count": 65,
     "metadata": {},
     "output_type": "execute_result"
    }
   ],
   "source": [
    "# 가장 높은 평균 평점 받은 영화\n",
    "\n",
    "kmrd_rates.groupby('movie')['rate'].mean().idxmax()"
   ]
  },
  {
   "cell_type": "code",
   "execution_count": 73,
   "metadata": {},
   "outputs": [
    {
     "name": "stderr",
     "output_type": "stream",
     "text": [
      "/var/folders/ph/w9kxghkd5959cwdbzq0m7_9m0000gn/T/ipykernel_45871/1655080770.py:4: FutureWarning: 'M' is deprecated and will be removed in a future version, please use 'ME' instead.\n",
      "  kmrd_rates\n"
     ]
    },
    {
     "data": {
      "text/plain": [
       "[]"
      ]
     },
     "execution_count": 73,
     "metadata": {},
     "output_type": "execute_result"
    },
    {
     "data": {
      "image/png": "[encoded data removed]",
      "text/plain": [
       "<Figure size 1200x600 with 1 Axes>"
      ]
     },
     "metadata": {},
     "output_type": "display_data"
    }
   ],
   "source": [
    "# 시간에 따른 평점의 평균 변화 라인플롯\n",
    "\n",
    "df_monthly = (\n",
    "    kmrd_rates\n",
    "    .set_index('time')\n",
    "    .resample('M')\n",
    "    ['rate'].mean()\n",
    "    .reset_index()\n",
    ")\n",
    "\n",
    "fig, ax = plt.subplots(1, 1, figsize=(12, 6))\n",
    "\n",
    "sns.lineplot(data=df_monthly, x=\"time\", y=\"rate\", ax=ax)\n",
    "\n",
    "plt.plot()"
   ]
  },
  {
   "cell_type": "code",
   "execution_count": null,
   "metadata": {},
   "outputs": [],
   "source": []
  }
 ],
 "metadata": {
  "kernelspec": {
   "display_name": ".venv",
   "language": "python",
   "name": "python3"
  },
  "language_info": {
   "codemirror_mode": {
    "name": "ipython",
    "version": 3
   },
   "file_extension": ".py",
   "mimetype": "text/x-python",
   "name": "python",
   "nbconvert_exporter": "python",
   "pygments_lexer": "ipython3",
   "version": "3.9.6"
  }
 },
 "nbformat": 4,
 "nbformat_minor": 2
}
