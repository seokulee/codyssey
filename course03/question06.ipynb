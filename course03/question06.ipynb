{
 "cells": [
  {
   "cell_type": "markdown",
   "metadata": {},
   "source": [
    "# 수행목표\n",
    "- 사용자별 평균 정밀도 계산 코드를 개발한다.\n",
    "# 수행단계\n",
    "- 아래 데이터를 활용해서 사용자별 평균 정밀도 AP@K를 확인하는 코드를 개발한다.\n",
    "\n",
    "|사용자|가위손|나 홀로 집에|대부|사운드 오브 뮤직|시네마 천국|아마데우스|죽은 시인의 사회|터미네이터 2:오리지널|\n",
    "|---|---|---|---|---|---|---|---|---|\n",
    "|1917|1|0|1|1|1|1|1|1|\n",
    "|10418|1|1|1|1|0|0|1|1|\n",
    "|1980|1|1|1|1|1|1|0|0|\n",
    "|2277|1|1|0|1|1|0|1|1|\n",
    "|1805|0|0|1|1|1|1|1|1|\n",
    "|5136|1|0|1|1|0|1|1|1|\n",
    "|1561|1|0|1|0|1|1|1|1|\n",
    "|1105|1|1|1|0|1|0|1|1|\n",
    "|1312|1|1|0|0|1|0|1|1|\n",
    "|3189|1|0|1|0|1|1|0|1|\n",
    "\n",
    "- 위 데이터는 KMRD-small 데이터에서 사용자별 평가를 10개만 한 사용자와 영화별 평점 개수가 [60, 200)인 영화를 간추린 내용 중 일부이다.\n",
    "- 평균 정밀도 공식은 아래와 같다.\n",
    "    - K는 추천한 영화 개수\n",
    "    - m은 사용자가 좋아한(평점을 매긴) 개수\n",
    "    - Precision@i 는 1개부터 K개까지 각각 정밀도\n",
    "    - rel(i)는 i번째 영화를 좋아했는지(평점 있는지) 여부 (1 or 0)\n",
    "$$ AP@K = \\frac{1}{m} \\sum^{K}_{i=1} Precision@i \\cdot rel(i) $$\n",
    "- 사용자 1917의 AP@4는 아래와 같다. (4개 영화는 가나다순 추천으로 (가위손, 나 홀로 집에, 대부, 사운드 오브 뮤직) 순으로 처리)"
   ]
  },
  {
   "cell_type": "code",
   "execution_count": 1,
   "metadata": {},
   "outputs": [],
   "source": [
    "# Library\n",
    "\n",
    "import os\n",
    "import sys\n",
    "import pandas as pd\n",
    "import numpy as np\n",
    "import matplotlib as mpl\n",
    "import matplotlib.pyplot as plt\n",
    "import seaborn as sns\n",
    "\n",
    "mpl.rcParams['font.family'] = 'AppleGothic'\n",
    "mpl.rcParams['axes.unicode_minus'] = False"
   ]
  },
  {
   "cell_type": "code",
   "execution_count": 2,
   "metadata": {},
   "outputs": [
    {
     "data": {
      "text/html": [
       "<div>\n",
       "<style scoped>\n",
       "    .dataframe tbody tr th:only-of-type {\n",
       "        vertical-align: middle;\n",
       "    }\n",
       "\n",
       "    .dataframe tbody tr th {\n",
       "        vertical-align: top;\n",
       "    }\n",
       "\n",
       "    .dataframe thead th {\n",
       "        text-align: right;\n",
       "    }\n",
       "</style>\n",
       "<table border=\"1\" class=\"dataframe\">\n",
       "  <thead>\n",
       "    <tr style=\"text-align: right;\">\n",
       "      <th></th>\n",
       "      <th>사용자</th>\n",
       "      <th>가위손</th>\n",
       "      <th>나 홀로 집에</th>\n",
       "      <th>대부</th>\n",
       "      <th>사운드 오브 뮤직</th>\n",
       "      <th>시네마 천국</th>\n",
       "      <th>아마데우스</th>\n",
       "      <th>죽은 시인의 사회</th>\n",
       "      <th>터미네이터 2:오리지널</th>\n",
       "    </tr>\n",
       "  </thead>\n",
       "  <tbody>\n",
       "    <tr>\n",
       "      <th>0</th>\n",
       "      <td>1917</td>\n",
       "      <td>1</td>\n",
       "      <td>0</td>\n",
       "      <td>1</td>\n",
       "      <td>1</td>\n",
       "      <td>1</td>\n",
       "      <td>1</td>\n",
       "      <td>1</td>\n",
       "      <td>1</td>\n",
       "    </tr>\n",
       "    <tr>\n",
       "      <th>1</th>\n",
       "      <td>10418</td>\n",
       "      <td>1</td>\n",
       "      <td>1</td>\n",
       "      <td>1</td>\n",
       "      <td>1</td>\n",
       "      <td>0</td>\n",
       "      <td>0</td>\n",
       "      <td>1</td>\n",
       "      <td>1</td>\n",
       "    </tr>\n",
       "    <tr>\n",
       "      <th>2</th>\n",
       "      <td>1980</td>\n",
       "      <td>1</td>\n",
       "      <td>1</td>\n",
       "      <td>1</td>\n",
       "      <td>1</td>\n",
       "      <td>1</td>\n",
       "      <td>1</td>\n",
       "      <td>0</td>\n",
       "      <td>0</td>\n",
       "    </tr>\n",
       "    <tr>\n",
       "      <th>3</th>\n",
       "      <td>2277</td>\n",
       "      <td>1</td>\n",
       "      <td>1</td>\n",
       "      <td>0</td>\n",
       "      <td>1</td>\n",
       "      <td>1</td>\n",
       "      <td>0</td>\n",
       "      <td>1</td>\n",
       "      <td>1</td>\n",
       "    </tr>\n",
       "    <tr>\n",
       "      <th>4</th>\n",
       "      <td>1805</td>\n",
       "      <td>0</td>\n",
       "      <td>0</td>\n",
       "      <td>1</td>\n",
       "      <td>1</td>\n",
       "      <td>1</td>\n",
       "      <td>1</td>\n",
       "      <td>1</td>\n",
       "      <td>1</td>\n",
       "    </tr>\n",
       "    <tr>\n",
       "      <th>5</th>\n",
       "      <td>5136</td>\n",
       "      <td>1</td>\n",
       "      <td>0</td>\n",
       "      <td>1</td>\n",
       "      <td>1</td>\n",
       "      <td>0</td>\n",
       "      <td>1</td>\n",
       "      <td>1</td>\n",
       "      <td>1</td>\n",
       "    </tr>\n",
       "    <tr>\n",
       "      <th>6</th>\n",
       "      <td>1561</td>\n",
       "      <td>1</td>\n",
       "      <td>0</td>\n",
       "      <td>1</td>\n",
       "      <td>0</td>\n",
       "      <td>1</td>\n",
       "      <td>1</td>\n",
       "      <td>1</td>\n",
       "      <td>1</td>\n",
       "    </tr>\n",
       "    <tr>\n",
       "      <th>7</th>\n",
       "      <td>1105</td>\n",
       "      <td>1</td>\n",
       "      <td>1</td>\n",
       "      <td>1</td>\n",
       "      <td>0</td>\n",
       "      <td>1</td>\n",
       "      <td>0</td>\n",
       "      <td>1</td>\n",
       "      <td>1</td>\n",
       "    </tr>\n",
       "    <tr>\n",
       "      <th>8</th>\n",
       "      <td>1312</td>\n",
       "      <td>1</td>\n",
       "      <td>1</td>\n",
       "      <td>0</td>\n",
       "      <td>0</td>\n",
       "      <td>1</td>\n",
       "      <td>0</td>\n",
       "      <td>1</td>\n",
       "      <td>1</td>\n",
       "    </tr>\n",
       "    <tr>\n",
       "      <th>9</th>\n",
       "      <td>3189</td>\n",
       "      <td>1</td>\n",
       "      <td>0</td>\n",
       "      <td>1</td>\n",
       "      <td>0</td>\n",
       "      <td>1</td>\n",
       "      <td>1</td>\n",
       "      <td>0</td>\n",
       "      <td>1</td>\n",
       "    </tr>\n",
       "  </tbody>\n",
       "</table>\n",
       "</div>"
      ],
      "text/plain": [
       "     사용자  가위손  나 홀로 집에  대부  사운드 오브 뮤직  시네마 천국  아마데우스  죽은 시인의 사회  터미네이터 2:오리지널\n",
       "0   1917    1        0   1          1       1      1          1             1\n",
       "1  10418    1        1   1          1       0      0          1             1\n",
       "2   1980    1        1   1          1       1      1          0             0\n",
       "3   2277    1        1   0          1       1      0          1             1\n",
       "4   1805    0        0   1          1       1      1          1             1\n",
       "5   5136    1        0   1          1       0      1          1             1\n",
       "6   1561    1        0   1          0       1      1          1             1\n",
       "7   1105    1        1   1          0       1      0          1             1\n",
       "8   1312    1        1   0          0       1      0          1             1\n",
       "9   3189    1        0   1          0       1      1          0             1"
      ]
     },
     "execution_count": 2,
     "metadata": {},
     "output_type": "execute_result"
    }
   ],
   "source": [
    "data = {\n",
    "    \"사용자\": [1917, 10418, 1980, 2277, 1805, 5136, 1561, 1105, 1312, 3189],\n",
    "    \"가위손\": [1, 1, 1, 1, 0, 1, 1, 1, 1, 1],\n",
    "    \"나 홀로 집에\": [0, 1, 1, 1, 0, 0, 0, 1, 1, 0],\n",
    "    \"대부\": [1, 1, 1, 0, 1, 1, 1, 1, 0, 1],\n",
    "    \"사운드 오브 뮤직\": [1, 1, 1, 1, 1, 1, 0, 0, 0, 0],\n",
    "    \"시네마 천국\": [1, 0, 1, 1, 1, 0, 1, 1, 1, 1],\n",
    "    \"아마데우스\": [1, 0, 1, 0, 1, 1, 1, 0, 0, 1],\n",
    "    \"죽은 시인의 사회\": [1, 1, 0, 1, 1, 1, 1, 1, 1, 0],\n",
    "    \"터미네이터 2:오리지널\": [1, 1, 0, 1, 1, 1, 1, 1, 1, 1],\n",
    "}\n",
    "\n",
    "df = pd.DataFrame(data)\n",
    "df"
   ]
  },
  {
   "cell_type": "code",
   "execution_count": 3,
   "metadata": {},
   "outputs": [],
   "source": [
    "recommend_data = [\n",
    "    [\"가위손\", \"나 홀로 집에\", \"대부\"],\n",
    "    [\"가위손\", \"나 홀로 집에\", \"대부\", \"사운드 오브 뮤직\"],\n",
    "    [\"나 홀로 집에\", \"사운드 오브 뮤직\", \"아마데우스\"],\n",
    "    [\"가위손\", \"대부\", \"터미네이터 2:오리지널\"],\n",
    "    [\"가위손\", \"시네마 천국\", \"터미네이터 2:오리지널\"],\n",
    "    [\"가위손\", \"죽은 시인의 사회\", \"터미네이터 2:오리지널\"],\n",
    "    [\"아마데우스\", \"죽은 시인의 사회\", \"터미네이터 2:오리지널\"],\n",
    "]"
   ]
  },
  {
   "cell_type": "code",
   "execution_count": 4,
   "metadata": {},
   "outputs": [],
   "source": [
    "# Precision@K\n",
    "\n",
    "def precision_at_k(df, movies, k):\n",
    "    precisions = {}\n",
    "    for user in df[\"사용자\"]:\n",
    "        user_data = df[df[\"사용자\"] == user]\n",
    "\n",
    "        recommended_movies = movies\n",
    "        relevant_movies = user_data.columns[user_data.iloc[0] == 1]\n",
    "\n",
    "        precision = len(set(recommended_movies) & set(relevant_movies)) / len(recommended_movies)\n",
    "        precisions[user] = precision\n",
    "\n",
    "    return precisions"
   ]
  },
  {
   "cell_type": "code",
   "execution_count": 5,
   "metadata": {},
   "outputs": [
    {
     "data": {
      "text/plain": [
       "{1917: 0.75,\n",
       " 10418: 1.0,\n",
       " 1980: 1.0,\n",
       " 2277: 0.75,\n",
       " 1805: 0.5,\n",
       " 5136: 0.75,\n",
       " 1561: 0.5,\n",
       " 1105: 0.75,\n",
       " 1312: 0.5,\n",
       " 3189: 0.5}"
      ]
     },
     "execution_count": 5,
     "metadata": {},
     "output_type": "execute_result"
    }
   ],
   "source": [
    "movies = [\"가위손\", \"나 홀로 집에\", \"대부\", \"사운드 오브 뮤직\"]\n",
    "\n",
    "precision_results = precision_at_k(df, movies, k=len(movies))\n",
    "precision_results"
   ]
  },
  {
   "cell_type": "code",
   "execution_count": 6,
   "metadata": {},
   "outputs": [],
   "source": [
    "def ap_at_k(df, movies, k):\n",
    "    aps = {}\n",
    "    for user in df[\"사용자\"]:\n",
    "        user_data = df[df[\"사용자\"] == user]\n",
    "\n",
    "        recommended_movies = movies\n",
    "        relevant_movies = user_data.columns[user_data.iloc[0] == 1]\n",
    "\n",
    "        ap = 0.0\n",
    "        num_hits = 0.0\n",
    "        for i, movie in enumerate(recommended_movies, start=1):\n",
    "            if movie in relevant_movies:\n",
    "                num_hits += 1\n",
    "                ap += num_hits / i\n",
    "            if i >= k:\n",
    "                break\n",
    "\n",
    "        aps[user] = ap / len(relevant_movies) if len(relevant_movies) > 0 else 0.0\n",
    "\n",
    "    return aps"
   ]
  },
  {
   "cell_type": "code",
   "execution_count": 7,
   "metadata": {},
   "outputs": [
    {
     "data": {
      "text/plain": [
       "{1917: 0.34523809523809523,\n",
       " 10418: 0.6666666666666666,\n",
       " 1980: 0.6666666666666666,\n",
       " 2277: 0.4583333333333333,\n",
       " 1805: 0.13888888888888887,\n",
       " 5136: 0.40277777777777773,\n",
       " 1561: 0.27777777777777773,\n",
       " 1105: 0.5,\n",
       " 1312: 0.4,\n",
       " 3189: 0.3333333333333333}"
      ]
     },
     "execution_count": 7,
     "metadata": {},
     "output_type": "execute_result"
    }
   ],
   "source": [
    "result_ap = ap_at_k(df, movies, len(movies))\n",
    "result_ap"
   ]
  },
  {
   "cell_type": "code",
   "execution_count": 8,
   "metadata": {},
   "outputs": [
    {
     "data": {
      "text/plain": [
       "np.float64(0.4189682539682539)"
      ]
     },
     "execution_count": 8,
     "metadata": {},
     "output_type": "execute_result"
    }
   ],
   "source": [
    "map = np.mean(list(result_ap.values()))\n",
    "map"
   ]
  },
  {
   "cell_type": "code",
   "execution_count": 9,
   "metadata": {},
   "outputs": [],
   "source": [
    "def map_at_k(df, movies):\n",
    "    aps = ap_at_k(df, movies, len(movies))\n",
    "    map_value = np.mean(list(aps.values()))\n",
    "\n",
    "    return map_value"
   ]
  },
  {
   "cell_type": "code",
   "execution_count": 10,
   "metadata": {},
   "outputs": [
    {
     "name": "stdout",
     "output_type": "stream",
     "text": [
      "0.34158730158730155\n",
      "0.4189682539682539\n",
      "0.22111111111111112\n",
      "0.41674603174603175\n",
      "0.4211904761904762\n",
      "0.4223015873015873\n",
      "0.32452380952380955\n"
     ]
    }
   ],
   "source": [
    "for movies in recommend_data:\n",
    "    print(map_at_k(df, movies))"
   ]
  },
  {
   "cell_type": "code",
   "execution_count": null,
   "metadata": {},
   "outputs": [],
   "source": []
  }
 ],
 "metadata": {
  "kernelspec": {
   "display_name": ".venv",
   "language": "python",
   "name": "python3"
  },
  "language_info": {
   "codemirror_mode": {
    "name": "ipython",
    "version": 3
   },
   "file_extension": ".py",
   "mimetype": "text/x-python",
   "name": "python",
   "nbconvert_exporter": "python",
   "pygments_lexer": "ipython3",
   "version": "3.9.6"
  }
 },
 "nbformat": 4,
 "nbformat_minor": 2
}
