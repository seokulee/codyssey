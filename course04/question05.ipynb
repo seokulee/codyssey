{
 "cells": [
  {
   "cell_type": "markdown",
   "metadata": {},
   "source": [
    "# 수행목표\n",
    "- 영화, 사용자, 장르, 주연배우 평균을 조합해서 평균 평점으로 사용자별 평점과 비교한다.\n",
    "\n",
    "# 수행단계\n",
    "영화, 사용자, 장르, 주연배우 평균을 조합해서 평균 평점을 계산해서 비교한다.\n",
    "\n",
    "- 추천 코드 class 명을 `AvgMultiRecommender로` 한다.\n",
    "- 영화, 사용자, 장르, 주연배우 평균에 각각 가중치를 곱해서 더하고 가중치 합으로 나눈다.\n",
    "- 결과에 `rate_avg_multi` 필드를 추가해서 특징들의 가중치 평점을 계산한 다음 업데이트 한다.\n",
    "- `rate_avg_multi` 결과를 회귀 평가 한다.\n",
    "- `rate_avg_multi_class` 필드를 추가해서 `rate_avg_multi` 값을 반올림한 값을 업데이트 한다.\n",
    "- `rate_avg_multi_class` 결과를 분류 평가 한다.\n",
    "- 결과 데이터 평점 높은 순 n개를 출력하고 그 아래에 분석 결과를 출력한다.\n",
    "- 사용자 평균 평점 추천과 평가를 비교한다."
   ]
  },
  {
   "cell_type": "markdown",
   "metadata": {},
   "source": [
    "# Library 설치"
   ]
  },
  {
   "cell_type": "code",
   "execution_count": 1,
   "metadata": {},
   "outputs": [],
   "source": [
    "# Library\n",
    "\n",
    "import os\n",
    "import sys\n",
    "import pandas as pd\n",
    "import numpy as np\n",
    "import matplotlib as mpl\n",
    "import matplotlib.pyplot as plt\n",
    "import seaborn as sns\n",
    "\n",
    "mpl.rcParams['font.family'] = 'AppleGothic'\n",
    "mpl.rcParams['axes.unicode_minus'] = False"
   ]
  },
  {
   "cell_type": "markdown",
   "metadata": {},
   "source": [
    "# DataLoader"
   ]
  },
  {
   "cell_type": "code",
   "execution_count": 2,
   "metadata": {},
   "outputs": [],
   "source": [
    "class MovieDataLoader:\n",
    "    def __init__(self, file_path):\n",
    "        self.file_path = file_path\n",
    "        movie_path = os.path.join(self.file_path, 'movies.txt')\n",
    "        rate_path = os.path.join(self.file_path, 'rates.csv')\n",
    "        gerne_path = os.path.join(self.file_path, 'genres.csv')\n",
    "        casting_path = os.path.join(self.file_path, 'castings.csv')\n",
    "        self.movies = pd.read_csv(movie_path, sep='\\t')\n",
    "        self.rates = pd.read_csv(rate_path)\n",
    "        self.gernes = pd.read_csv(gerne_path)\n",
    "        self.castings = pd.read_csv(casting_path)\n",
    "\n",
    "    def load(self):\n",
    "        self._preprocess()\n",
    "\n",
    "        return self.movies, self.rates, self.gernes, self.castings\n",
    "\n",
    "    def _preprocess(self):\n",
    "        self.movies.dropna(subset=['title_eng'], inplace=True)\n",
    "\n",
    "        if self.movies['year'].isnull().sum() > 0:\n",
    "            non_year = self.movies[self.movies['year'].isnull()]\n",
    "            for row in non_year.iterrows():\n",
    "                movie = row[1]['movie']\n",
    "                title_eng = row[1]['title_eng'].split(' , ')[:-1]\n",
    "                title_eng = ' , '.join(title_eng)\n",
    "                year = row[1]['title_eng'].split(' , ')[-1]\n",
    "                self.movies.loc[self.movies['movie'] == movie, 'title_eng'] = title_eng\n",
    "                self.movies.loc[self.movies['movie'] == movie, 'year'] = year\n",
    "\n",
    "        if self.movies['grade'].isnull().sum() > 0:\n",
    "            self.movies['grade'] = self.movies['grade'].fillna('NR grade')\n"
   ]
  },
  {
   "cell_type": "code",
   "execution_count": 3,
   "metadata": {},
   "outputs": [
    {
     "name": "stdout",
     "output_type": "stream",
     "text": [
      "<class 'pandas.core.frame.DataFrame'>\n",
      "Index: 991 entries, 0 to 998\n",
      "Data columns (total 5 columns):\n",
      " #   Column     Non-Null Count  Dtype \n",
      "---  ------     --------------  ----- \n",
      " 0   movie      991 non-null    int64 \n",
      " 1   title      991 non-null    object\n",
      " 2   title_eng  991 non-null    object\n",
      " 3   year       991 non-null    object\n",
      " 4   grade      991 non-null    object\n",
      "dtypes: int64(1), object(4)\n",
      "memory usage: 46.5+ KB\n",
      "<class 'pandas.core.frame.DataFrame'>\n",
      "RangeIndex: 140710 entries, 0 to 140709\n",
      "Data columns (total 4 columns):\n",
      " #   Column  Non-Null Count   Dtype\n",
      "---  ------  --------------   -----\n",
      " 0   user    140710 non-null  int64\n",
      " 1   movie   140710 non-null  int64\n",
      " 2   rate    140710 non-null  int64\n",
      " 3   time    140710 non-null  int64\n",
      "dtypes: int64(4)\n",
      "memory usage: 4.3 MB\n",
      "<class 'pandas.core.frame.DataFrame'>\n",
      "RangeIndex: 2025 entries, 0 to 2024\n",
      "Data columns (total 2 columns):\n",
      " #   Column  Non-Null Count  Dtype \n",
      "---  ------  --------------  ----- \n",
      " 0   movie   2025 non-null   int64 \n",
      " 1   genre   2025 non-null   object\n",
      "dtypes: int64(1), object(1)\n",
      "memory usage: 31.8+ KB\n",
      "<class 'pandas.core.frame.DataFrame'>\n",
      "RangeIndex: 9776 entries, 0 to 9775\n",
      "Data columns (total 4 columns):\n",
      " #   Column   Non-Null Count  Dtype\n",
      "---  ------   --------------  -----\n",
      " 0   movie    9776 non-null   int64\n",
      " 1   people   9776 non-null   int64\n",
      " 2   order    9776 non-null   int64\n",
      " 3   leading  9776 non-null   int64\n",
      "dtypes: int64(4)\n",
      "memory usage: 305.6 KB\n"
     ]
    },
    {
     "name": "stderr",
     "output_type": "stream",
     "text": [
      "/var/folders/ph/w9kxghkd5959cwdbzq0m7_9m0000gn/T/ipykernel_87996/1053118207.py:29: FutureWarning: Setting an item of incompatible dtype is deprecated and will raise an error in a future version of pandas. Value '1983' has dtype incompatible with float64, please explicitly cast to a compatible dtype first.\n",
      "  self.movies.loc[self.movies['movie'] == movie, 'year'] = year\n"
     ]
    }
   ],
   "source": [
    "movies_df, rates_df, genres_df, castings_df = MovieDataLoader('../data/kmrd/').load()\n",
    "\n",
    "movies_df.info()\n",
    "rates_df.info()\n",
    "genres_df.info()\n",
    "castings_df.info()"
   ]
  },
  {
   "cell_type": "markdown",
   "metadata": {},
   "source": [
    "# Analyzer"
   ]
  },
  {
   "cell_type": "code",
   "execution_count": 4,
   "metadata": {},
   "outputs": [],
   "source": [
    "class Analyzer:\n",
    "    def __init__(self, y_true, y_pred, y_pred_class):\n",
    "        self.y_true = y_true\n",
    "        self.y_pred = y_pred\n",
    "        self.y_pred_class = y_pred_class\n",
    "\n",
    "    def analyze_error(self):\n",
    "        self._analyze_mae()\n",
    "        self._analyze_mse()\n",
    "        self._analyze_rmse()\n",
    "        self._analyze_mape()\n",
    "\n",
    "    def analyze_confusion_matrix(self):\n",
    "        self._make_confusion_matrix()\n",
    "        self._analyze_accuracy()\n",
    "        self._analyze_precision()\n",
    "        self._analyze_recall()\n",
    "        self._analyze_f1()\n",
    "\n",
    "    def _analyze_mae(self):\n",
    "        self.mae = np.abs(self.y_true - self.y_pred).mean()\n",
    "        print(f'MAE: {self.mae}')\n",
    "\n",
    "    def _analyze_mse(self):\n",
    "        self.mse = ((self.y_true - self.y_pred) ** 2).mean()\n",
    "        print(f'MSE: {self.mse}')\n",
    "\n",
    "    def _analyze_rmse(self):\n",
    "        self.rmse = np.sqrt(self.mse)\n",
    "        print(f'RMSE: {self.rmse}')\n",
    "\n",
    "    def _analyze_mape(self):\n",
    "        self.mape = (np.abs(self.y_true - self.y_pred) / self.y_true).mean()\n",
    "        print(f'MAPE: {self.mape}')\n",
    "\n",
    "    def _make_confusion_matrix(self):\n",
    "        unique_labels = np.unique(np.concatenate((self.y_true, self.y_pred_class)))\n",
    "        self.confusion_matrix = np.zeros((len(unique_labels), len(unique_labels)), dtype=int)\n",
    "\n",
    "        label_to_index = {label: index for index, label in enumerate(unique_labels)}\n",
    "        for true, pred in zip(self.y_true, self.y_pred_class):\n",
    "            self.confusion_matrix[label_to_index[true]][label_to_index[pred]] += 1\n",
    "\n",
    "        print('Confusion Matrix :')\n",
    "        print(self.confusion_matrix)\n",
    "\n",
    "    def _analyze_accuracy(self):\n",
    "        self.accuracy = np.diag(self.confusion_matrix).sum() / self.confusion_matrix.sum()\n",
    "        print(f'Accuracy: {self.accuracy}')\n",
    "\n",
    "    def _analyze_precision(self):\n",
    "        with np.errstate(divide='ignore', invalid='ignore'):\n",
    "            try:\n",
    "                self.precision = np.diag(self.confusion_matrix) / self.confusion_matrix.sum(axis=0)\n",
    "            except:\n",
    "                self.precision = np.nan\n",
    "        print(f'Precision: {self.precision}')\n",
    "\n",
    "    def _analyze_recall(self):\n",
    "        with np.errstate(divide='ignore', invalid='ignore'):\n",
    "            try:\n",
    "                self.recall = np.diag(self.confusion_matrix) / self.confusion_matrix.sum(axis=1)\n",
    "            except:\n",
    "                self.recall = np.nan\n",
    "        print(f'Recall: {self.recall}')\n",
    "\n",
    "    def _analyze_f1(self):\n",
    "        self.f1 = 2 * (self.precision * self.recall) / (self.precision + self.recall)\n",
    "        print(f'F1: {self.f1}')\n"
   ]
  },
  {
   "cell_type": "markdown",
   "metadata": {},
   "source": [
    "# Recommenders"
   ]
  },
  {
   "cell_type": "code",
   "execution_count": 5,
   "metadata": {},
   "outputs": [],
   "source": [
    "class BaseRecommender:\n",
    "    def __init__(self, movies_df, rates_df, genres_df=None, castings_df=None):\n",
    "        self.movies_df = movies_df\n",
    "        self.rates_df = rates_df\n",
    "        self.genres_df = genres_df\n",
    "        self.castings_df = castings_df\n",
    "\n",
    "    def get_top_n(self, df, score_col, n_items=10):\n",
    "        top_n = (\n",
    "            df.groupby('user', group_keys=False)\n",
    "            .apply(lambda x: x.nlargest(n_items, score_col))\n",
    "        )\n",
    "        top_n = top_n.reset_index(drop=True)\n",
    "\n",
    "        class_col = f'{score_col}_class'\n",
    "        top_n[class_col] = top_n[score_col].apply(lambda x: np.round(x))\n",
    "        return top_n\n",
    "\n",
    "    def run(self, n_items=10):\n",
    "        raise NotImplementedError\n"
   ]
  },
  {
   "cell_type": "code",
   "execution_count": 6,
   "metadata": {},
   "outputs": [],
   "source": [
    "class RandomRecommender(BaseRecommender):\n",
    "    def __init__(self, movies_df, rates_df, genres_df=None):\n",
    "        super().__init__(movies_df, rates_df, genres_df)\n",
    "\n",
    "    def run(self, n_items=10):\n",
    "        df = self.rates_df.copy()\n",
    "        df['rate_random'] = np.random.rand(len(df)) * 10\n",
    "\n",
    "        top_n = self.get_top_n(df, 'rate_random', n_items)\n",
    "        return top_n"
   ]
  },
  {
   "cell_type": "code",
   "execution_count": 7,
   "metadata": {},
   "outputs": [],
   "source": [
    "class AvgMovieRecommender(BaseRecommender):\n",
    "    def __init__(self, movies_df, rates_df, genres_df=None):\n",
    "        super().__init__(movies_df, rates_df, genres_df)\n",
    "\n",
    "    def run(self, n_items=10):\n",
    "        df = self.rates_df.copy()\n",
    "        df['rate_avg_movie'] = df.groupby('movie')['rate'].transform('mean')\n",
    "\n",
    "        top_n = self.get_top_n(df, 'rate_avg_movie', n_items)\n",
    "        return top_n"
   ]
  },
  {
   "cell_type": "code",
   "execution_count": 8,
   "metadata": {},
   "outputs": [],
   "source": [
    "class AvgUserRecommender(BaseRecommender):\n",
    "    def __init__(self, movies_df, rates_df, genres_df=None):\n",
    "        super().__init__(movies_df, rates_df, genres_df)\n",
    "\n",
    "    def run(self, n_items=10):\n",
    "        df = self.rates_df.copy()\n",
    "        df['rate_avg_user'] = df.groupby('user')['rate'].transform('mean')\n",
    "\n",
    "        top_n = self.get_top_n(df, 'rate_avg_user', n_items)\n",
    "        return top_n\n"
   ]
  },
  {
   "cell_type": "code",
   "execution_count": 9,
   "metadata": {},
   "outputs": [],
   "source": [
    "class AvgGenreRecommender(BaseRecommender):\n",
    "    def __init__(self, movies_df, rates_df, genres_df):\n",
    "        super().__init__(movies_df, rates_df, genres_df)\n",
    "\n",
    "    def run(self, n_items=10):\n",
    "        df = self.rates_df.copy()\n",
    "        df = pd.merge(df, self.genres_df, on='movie', how='left')\n",
    "\n",
    "        genre_avg = df.groupby('genre')['rate'].mean()\n",
    "        movie_genre = self.genres_df.groupby('movie')['genre'].apply(list)\n",
    "        movie_genre_rating = {}\n",
    "        for movie, g_list in movie_genre.items():\n",
    "            valid_avg = [genre_avg[g] for g in g_list if g in genre_avg]\n",
    "            movie_genre_rating[movie] = np.mean(valid_avg) if valid_avg else np.nan\n",
    "\n",
    "        df['rate_avg_genre'] = df['movie'].apply(lambda m: movie_genre_rating.get(m, np.nan))\n",
    "        df = df.dropna(subset=['rate_avg_genre'])  # NaN 제거\n",
    "\n",
    "        top_n = self.get_top_n(df, 'rate_avg_genre', n_items)\n",
    "\n",
    "        return top_n\n"
   ]
  },
  {
   "cell_type": "code",
   "execution_count": 10,
   "metadata": {},
   "outputs": [],
   "source": [
    "class AvgActorRecommender(BaseRecommender):\n",
    "    def __init__(self, movies_df, rates_df, castings_df):\n",
    "        super().__init__(movies_df, rates_df, castings_df=castings_df)\n",
    "\n",
    "    def run(self, n_items=10):\n",
    "        df = self.rates_df.copy()\n",
    "        df = pd.merge(df, self.castings_df, on='movie', how='left')\n",
    "\n",
    "        df = df[df['leading'] == 1]\n",
    "        df['rate_avg_actor'] = df.groupby('people')['rate'].transform('mean')\n",
    "\n",
    "        top_n = self.get_top_n(df, 'rate_avg_actor', n_items)\n",
    "\n",
    "        return top_n"
   ]
  },
  {
   "cell_type": "code",
   "execution_count": 11,
   "metadata": {},
   "outputs": [
    {
     "name": "stderr",
     "output_type": "stream",
     "text": [
      "/var/folders/ph/w9kxghkd5959cwdbzq0m7_9m0000gn/T/ipykernel_87996/1331135252.py:10: DeprecationWarning: DataFrameGroupBy.apply operated on the grouping columns. This behavior is deprecated, and in a future version of pandas the grouping columns will be excluded from the operation. Either pass `include_groups=False` to exclude the groupings or explicitly select the grouping columns after groupby to silence this warning.\n",
      "  df.groupby('user', group_keys=False)\n"
     ]
    },
    {
     "data": {
      "text/html": [
       "<div>\n",
       "<style scoped>\n",
       "    .dataframe tbody tr th:only-of-type {\n",
       "        vertical-align: middle;\n",
       "    }\n",
       "\n",
       "    .dataframe tbody tr th {\n",
       "        vertical-align: top;\n",
       "    }\n",
       "\n",
       "    .dataframe thead th {\n",
       "        text-align: right;\n",
       "    }\n",
       "</style>\n",
       "<table border=\"1\" class=\"dataframe\">\n",
       "  <thead>\n",
       "    <tr style=\"text-align: right;\">\n",
       "      <th></th>\n",
       "      <th>user</th>\n",
       "      <th>movie</th>\n",
       "      <th>rate</th>\n",
       "      <th>time</th>\n",
       "      <th>rate_random</th>\n",
       "      <th>rate_random_class</th>\n",
       "    </tr>\n",
       "  </thead>\n",
       "  <tbody>\n",
       "    <tr>\n",
       "      <th>0</th>\n",
       "      <td>0</td>\n",
       "      <td>10980</td>\n",
       "      <td>7</td>\n",
       "      <td>1452516180</td>\n",
       "      <td>9.983309</td>\n",
       "      <td>10.0</td>\n",
       "    </tr>\n",
       "    <tr>\n",
       "      <th>1</th>\n",
       "      <td>0</td>\n",
       "      <td>10330</td>\n",
       "      <td>10</td>\n",
       "      <td>1388915880</td>\n",
       "      <td>9.884021</td>\n",
       "      <td>10.0</td>\n",
       "    </tr>\n",
       "    <tr>\n",
       "      <th>2</th>\n",
       "      <td>0</td>\n",
       "      <td>10592</td>\n",
       "      <td>6</td>\n",
       "      <td>1505982840</td>\n",
       "      <td>9.865936</td>\n",
       "      <td>10.0</td>\n",
       "    </tr>\n",
       "    <tr>\n",
       "      <th>3</th>\n",
       "      <td>0</td>\n",
       "      <td>10561</td>\n",
       "      <td>8</td>\n",
       "      <td>1421476740</td>\n",
       "      <td>9.755048</td>\n",
       "      <td>10.0</td>\n",
       "    </tr>\n",
       "    <tr>\n",
       "      <th>4</th>\n",
       "      <td>0</td>\n",
       "      <td>10217</td>\n",
       "      <td>8</td>\n",
       "      <td>1423819860</td>\n",
       "      <td>9.750310</td>\n",
       "      <td>10.0</td>\n",
       "    </tr>\n",
       "  </tbody>\n",
       "</table>\n",
       "</div>"
      ],
      "text/plain": [
       "   user  movie  rate        time  rate_random  rate_random_class\n",
       "0     0  10980     7  1452516180     9.983309               10.0\n",
       "1     0  10330    10  1388915880     9.884021               10.0\n",
       "2     0  10592     6  1505982840     9.865936               10.0\n",
       "3     0  10561     8  1421476740     9.755048               10.0\n",
       "4     0  10217     8  1423819860     9.750310               10.0"
      ]
     },
     "execution_count": 11,
     "metadata": {},
     "output_type": "execute_result"
    }
   ],
   "source": [
    "random_df = RandomRecommender(movies_df, rates_df).run(20)\n",
    "random_df.head()"
   ]
  },
  {
   "cell_type": "code",
   "execution_count": 12,
   "metadata": {},
   "outputs": [
    {
     "name": "stderr",
     "output_type": "stream",
     "text": [
      "/var/folders/ph/w9kxghkd5959cwdbzq0m7_9m0000gn/T/ipykernel_87996/1331135252.py:10: DeprecationWarning: DataFrameGroupBy.apply operated on the grouping columns. This behavior is deprecated, and in a future version of pandas the grouping columns will be excluded from the operation. Either pass `include_groups=False` to exclude the groupings or explicitly select the grouping columns after groupby to silence this warning.\n",
      "  df.groupby('user', group_keys=False)\n"
     ]
    },
    {
     "data": {
      "text/html": [
       "<div>\n",
       "<style scoped>\n",
       "    .dataframe tbody tr th:only-of-type {\n",
       "        vertical-align: middle;\n",
       "    }\n",
       "\n",
       "    .dataframe tbody tr th {\n",
       "        vertical-align: top;\n",
       "    }\n",
       "\n",
       "    .dataframe thead th {\n",
       "        text-align: right;\n",
       "    }\n",
       "</style>\n",
       "<table border=\"1\" class=\"dataframe\">\n",
       "  <thead>\n",
       "    <tr style=\"text-align: right;\">\n",
       "      <th></th>\n",
       "      <th>user</th>\n",
       "      <th>movie</th>\n",
       "      <th>rate</th>\n",
       "      <th>time</th>\n",
       "      <th>rate_avg_movie</th>\n",
       "      <th>rate_avg_movie_class</th>\n",
       "    </tr>\n",
       "  </thead>\n",
       "  <tbody>\n",
       "    <tr>\n",
       "      <th>0</th>\n",
       "      <td>0</td>\n",
       "      <td>10200</td>\n",
       "      <td>10</td>\n",
       "      <td>1483582800</td>\n",
       "      <td>9.434136</td>\n",
       "      <td>9.0</td>\n",
       "    </tr>\n",
       "    <tr>\n",
       "      <th>1</th>\n",
       "      <td>0</td>\n",
       "      <td>10048</td>\n",
       "      <td>7</td>\n",
       "      <td>1394114760</td>\n",
       "      <td>9.378706</td>\n",
       "      <td>9.0</td>\n",
       "    </tr>\n",
       "    <tr>\n",
       "      <th>2</th>\n",
       "      <td>0</td>\n",
       "      <td>10038</td>\n",
       "      <td>9</td>\n",
       "      <td>1495625940</td>\n",
       "      <td>9.343516</td>\n",
       "      <td>9.0</td>\n",
       "    </tr>\n",
       "    <tr>\n",
       "      <th>3</th>\n",
       "      <td>0</td>\n",
       "      <td>10021</td>\n",
       "      <td>9</td>\n",
       "      <td>1424497980</td>\n",
       "      <td>9.317726</td>\n",
       "      <td>9.0</td>\n",
       "    </tr>\n",
       "    <tr>\n",
       "      <th>4</th>\n",
       "      <td>0</td>\n",
       "      <td>10185</td>\n",
       "      <td>7</td>\n",
       "      <td>1473424740</td>\n",
       "      <td>9.299180</td>\n",
       "      <td>9.0</td>\n",
       "    </tr>\n",
       "  </tbody>\n",
       "</table>\n",
       "</div>"
      ],
      "text/plain": [
       "   user  movie  rate        time  rate_avg_movie  rate_avg_movie_class\n",
       "0     0  10200    10  1483582800        9.434136                   9.0\n",
       "1     0  10048     7  1394114760        9.378706                   9.0\n",
       "2     0  10038     9  1495625940        9.343516                   9.0\n",
       "3     0  10021     9  1424497980        9.317726                   9.0\n",
       "4     0  10185     7  1473424740        9.299180                   9.0"
      ]
     },
     "execution_count": 12,
     "metadata": {},
     "output_type": "execute_result"
    }
   ],
   "source": [
    "avg_movie_df = AvgMovieRecommender(movies_df, rates_df).run(20)\n",
    "avg_movie_df.head()"
   ]
  },
  {
   "cell_type": "code",
   "execution_count": 13,
   "metadata": {},
   "outputs": [
    {
     "name": "stderr",
     "output_type": "stream",
     "text": [
      "/var/folders/ph/w9kxghkd5959cwdbzq0m7_9m0000gn/T/ipykernel_87996/1331135252.py:10: DeprecationWarning: DataFrameGroupBy.apply operated on the grouping columns. This behavior is deprecated, and in a future version of pandas the grouping columns will be excluded from the operation. Either pass `include_groups=False` to exclude the groupings or explicitly select the grouping columns after groupby to silence this warning.\n",
      "  df.groupby('user', group_keys=False)\n"
     ]
    },
    {
     "data": {
      "text/html": [
       "<div>\n",
       "<style scoped>\n",
       "    .dataframe tbody tr th:only-of-type {\n",
       "        vertical-align: middle;\n",
       "    }\n",
       "\n",
       "    .dataframe tbody tr th {\n",
       "        vertical-align: top;\n",
       "    }\n",
       "\n",
       "    .dataframe thead th {\n",
       "        text-align: right;\n",
       "    }\n",
       "</style>\n",
       "<table border=\"1\" class=\"dataframe\">\n",
       "  <thead>\n",
       "    <tr style=\"text-align: right;\">\n",
       "      <th></th>\n",
       "      <th>user</th>\n",
       "      <th>movie</th>\n",
       "      <th>rate</th>\n",
       "      <th>time</th>\n",
       "      <th>rate_avg_user</th>\n",
       "      <th>rate_avg_user_class</th>\n",
       "    </tr>\n",
       "  </thead>\n",
       "  <tbody>\n",
       "    <tr>\n",
       "      <th>0</th>\n",
       "      <td>0</td>\n",
       "      <td>10003</td>\n",
       "      <td>7</td>\n",
       "      <td>1494128040</td>\n",
       "      <td>7.388235</td>\n",
       "      <td>7.0</td>\n",
       "    </tr>\n",
       "    <tr>\n",
       "      <th>1</th>\n",
       "      <td>0</td>\n",
       "      <td>10004</td>\n",
       "      <td>7</td>\n",
       "      <td>1467529800</td>\n",
       "      <td>7.388235</td>\n",
       "      <td>7.0</td>\n",
       "    </tr>\n",
       "    <tr>\n",
       "      <th>2</th>\n",
       "      <td>0</td>\n",
       "      <td>10018</td>\n",
       "      <td>9</td>\n",
       "      <td>1513344120</td>\n",
       "      <td>7.388235</td>\n",
       "      <td>7.0</td>\n",
       "    </tr>\n",
       "    <tr>\n",
       "      <th>3</th>\n",
       "      <td>0</td>\n",
       "      <td>10021</td>\n",
       "      <td>9</td>\n",
       "      <td>1424497980</td>\n",
       "      <td>7.388235</td>\n",
       "      <td>7.0</td>\n",
       "    </tr>\n",
       "    <tr>\n",
       "      <th>4</th>\n",
       "      <td>0</td>\n",
       "      <td>10022</td>\n",
       "      <td>7</td>\n",
       "      <td>1427627340</td>\n",
       "      <td>7.388235</td>\n",
       "      <td>7.0</td>\n",
       "    </tr>\n",
       "  </tbody>\n",
       "</table>\n",
       "</div>"
      ],
      "text/plain": [
       "   user  movie  rate        time  rate_avg_user  rate_avg_user_class\n",
       "0     0  10003     7  1494128040       7.388235                  7.0\n",
       "1     0  10004     7  1467529800       7.388235                  7.0\n",
       "2     0  10018     9  1513344120       7.388235                  7.0\n",
       "3     0  10021     9  1424497980       7.388235                  7.0\n",
       "4     0  10022     7  1427627340       7.388235                  7.0"
      ]
     },
     "execution_count": 13,
     "metadata": {},
     "output_type": "execute_result"
    }
   ],
   "source": [
    "avg_user_df = AvgUserRecommender(movies_df, rates_df).run(20)\n",
    "avg_user_df.head()"
   ]
  },
  {
   "cell_type": "code",
   "execution_count": 14,
   "metadata": {},
   "outputs": [
    {
     "name": "stderr",
     "output_type": "stream",
     "text": [
      "/var/folders/ph/w9kxghkd5959cwdbzq0m7_9m0000gn/T/ipykernel_87996/1331135252.py:10: DeprecationWarning: DataFrameGroupBy.apply operated on the grouping columns. This behavior is deprecated, and in a future version of pandas the grouping columns will be excluded from the operation. Either pass `include_groups=False` to exclude the groupings or explicitly select the grouping columns after groupby to silence this warning.\n",
      "  df.groupby('user', group_keys=False)\n"
     ]
    },
    {
     "data": {
      "text/html": [
       "<div>\n",
       "<style scoped>\n",
       "    .dataframe tbody tr th:only-of-type {\n",
       "        vertical-align: middle;\n",
       "    }\n",
       "\n",
       "    .dataframe tbody tr th {\n",
       "        vertical-align: top;\n",
       "    }\n",
       "\n",
       "    .dataframe thead th {\n",
       "        text-align: right;\n",
       "    }\n",
       "</style>\n",
       "<table border=\"1\" class=\"dataframe\">\n",
       "  <thead>\n",
       "    <tr style=\"text-align: right;\">\n",
       "      <th></th>\n",
       "      <th>user</th>\n",
       "      <th>movie</th>\n",
       "      <th>rate</th>\n",
       "      <th>time</th>\n",
       "      <th>genre</th>\n",
       "      <th>rate_avg_genre</th>\n",
       "      <th>rate_avg_genre_class</th>\n",
       "    </tr>\n",
       "  </thead>\n",
       "  <tbody>\n",
       "    <tr>\n",
       "      <th>0</th>\n",
       "      <td>0</td>\n",
       "      <td>10087</td>\n",
       "      <td>6</td>\n",
       "      <td>1455366120</td>\n",
       "      <td>멜로/로맨스</td>\n",
       "      <td>9.068975</td>\n",
       "      <td>9.0</td>\n",
       "    </tr>\n",
       "    <tr>\n",
       "      <th>1</th>\n",
       "      <td>0</td>\n",
       "      <td>10087</td>\n",
       "      <td>6</td>\n",
       "      <td>1455366120</td>\n",
       "      <td>드라마</td>\n",
       "      <td>9.068975</td>\n",
       "      <td>9.0</td>\n",
       "    </tr>\n",
       "    <tr>\n",
       "      <th>2</th>\n",
       "      <td>0</td>\n",
       "      <td>10087</td>\n",
       "      <td>6</td>\n",
       "      <td>1455366120</td>\n",
       "      <td>뮤지컬</td>\n",
       "      <td>9.068975</td>\n",
       "      <td>9.0</td>\n",
       "    </tr>\n",
       "    <tr>\n",
       "      <th>3</th>\n",
       "      <td>0</td>\n",
       "      <td>10395</td>\n",
       "      <td>8</td>\n",
       "      <td>1452179460</td>\n",
       "      <td>멜로/로맨스</td>\n",
       "      <td>9.068975</td>\n",
       "      <td>9.0</td>\n",
       "    </tr>\n",
       "    <tr>\n",
       "      <th>4</th>\n",
       "      <td>0</td>\n",
       "      <td>10395</td>\n",
       "      <td>8</td>\n",
       "      <td>1452179460</td>\n",
       "      <td>드라마</td>\n",
       "      <td>9.068975</td>\n",
       "      <td>9.0</td>\n",
       "    </tr>\n",
       "  </tbody>\n",
       "</table>\n",
       "</div>"
      ],
      "text/plain": [
       "   user  movie  rate        time   genre  rate_avg_genre  rate_avg_genre_class\n",
       "0     0  10087     6  1455366120  멜로/로맨스        9.068975                   9.0\n",
       "1     0  10087     6  1455366120     드라마        9.068975                   9.0\n",
       "2     0  10087     6  1455366120     뮤지컬        9.068975                   9.0\n",
       "3     0  10395     8  1452179460  멜로/로맨스        9.068975                   9.0\n",
       "4     0  10395     8  1452179460     드라마        9.068975                   9.0"
      ]
     },
     "execution_count": 14,
     "metadata": {},
     "output_type": "execute_result"
    }
   ],
   "source": [
    "avg_genre_df = AvgGenreRecommender(movies_df, rates_df, genres_df).run(20)\n",
    "avg_genre_df.head()"
   ]
  },
  {
   "cell_type": "code",
   "execution_count": 15,
   "metadata": {},
   "outputs": [
    {
     "name": "stderr",
     "output_type": "stream",
     "text": [
      "/var/folders/ph/w9kxghkd5959cwdbzq0m7_9m0000gn/T/ipykernel_87996/1331135252.py:10: DeprecationWarning: DataFrameGroupBy.apply operated on the grouping columns. This behavior is deprecated, and in a future version of pandas the grouping columns will be excluded from the operation. Either pass `include_groups=False` to exclude the groupings or explicitly select the grouping columns after groupby to silence this warning.\n",
      "  df.groupby('user', group_keys=False)\n"
     ]
    },
    {
     "data": {
      "text/html": [
       "<div>\n",
       "<style scoped>\n",
       "    .dataframe tbody tr th:only-of-type {\n",
       "        vertical-align: middle;\n",
       "    }\n",
       "\n",
       "    .dataframe tbody tr th {\n",
       "        vertical-align: top;\n",
       "    }\n",
       "\n",
       "    .dataframe thead th {\n",
       "        text-align: right;\n",
       "    }\n",
       "</style>\n",
       "<table border=\"1\" class=\"dataframe\">\n",
       "  <thead>\n",
       "    <tr style=\"text-align: right;\">\n",
       "      <th></th>\n",
       "      <th>user</th>\n",
       "      <th>movie</th>\n",
       "      <th>rate</th>\n",
       "      <th>time</th>\n",
       "      <th>people</th>\n",
       "      <th>order</th>\n",
       "      <th>leading</th>\n",
       "      <th>rate_avg_actor</th>\n",
       "      <th>rate_avg_actor_class</th>\n",
       "    </tr>\n",
       "  </thead>\n",
       "  <tbody>\n",
       "    <tr>\n",
       "      <th>0</th>\n",
       "      <td>0</td>\n",
       "      <td>10048</td>\n",
       "      <td>7</td>\n",
       "      <td>1394114760</td>\n",
       "      <td>1349.0</td>\n",
       "      <td>1.0</td>\n",
       "      <td>1.0</td>\n",
       "      <td>9.367127</td>\n",
       "      <td>9.0</td>\n",
       "    </tr>\n",
       "    <tr>\n",
       "      <th>1</th>\n",
       "      <td>0</td>\n",
       "      <td>10004</td>\n",
       "      <td>7</td>\n",
       "      <td>1467529800</td>\n",
       "      <td>5104.0</td>\n",
       "      <td>4.0</td>\n",
       "      <td>1.0</td>\n",
       "      <td>9.360691</td>\n",
       "      <td>9.0</td>\n",
       "    </tr>\n",
       "    <tr>\n",
       "      <th>2</th>\n",
       "      <td>0</td>\n",
       "      <td>10038</td>\n",
       "      <td>9</td>\n",
       "      <td>1495625940</td>\n",
       "      <td>7049.0</td>\n",
       "      <td>3.0</td>\n",
       "      <td>1.0</td>\n",
       "      <td>9.343516</td>\n",
       "      <td>9.0</td>\n",
       "    </tr>\n",
       "    <tr>\n",
       "      <th>3</th>\n",
       "      <td>0</td>\n",
       "      <td>10038</td>\n",
       "      <td>9</td>\n",
       "      <td>1495625940</td>\n",
       "      <td>10587.0</td>\n",
       "      <td>5.0</td>\n",
       "      <td>1.0</td>\n",
       "      <td>9.343516</td>\n",
       "      <td>9.0</td>\n",
       "    </tr>\n",
       "    <tr>\n",
       "      <th>4</th>\n",
       "      <td>0</td>\n",
       "      <td>10003</td>\n",
       "      <td>7</td>\n",
       "      <td>1494128040</td>\n",
       "      <td>1076.0</td>\n",
       "      <td>1.0</td>\n",
       "      <td>1.0</td>\n",
       "      <td>9.336012</td>\n",
       "      <td>9.0</td>\n",
       "    </tr>\n",
       "  </tbody>\n",
       "</table>\n",
       "</div>"
      ],
      "text/plain": [
       "   user  movie  rate        time   people  order  leading  rate_avg_actor  \\\n",
       "0     0  10048     7  1394114760   1349.0    1.0      1.0        9.367127   \n",
       "1     0  10004     7  1467529800   5104.0    4.0      1.0        9.360691   \n",
       "2     0  10038     9  1495625940   7049.0    3.0      1.0        9.343516   \n",
       "3     0  10038     9  1495625940  10587.0    5.0      1.0        9.343516   \n",
       "4     0  10003     7  1494128040   1076.0    1.0      1.0        9.336012   \n",
       "\n",
       "   rate_avg_actor_class  \n",
       "0                   9.0  \n",
       "1                   9.0  \n",
       "2                   9.0  \n",
       "3                   9.0  \n",
       "4                   9.0  "
      ]
     },
     "execution_count": 15,
     "metadata": {},
     "output_type": "execute_result"
    }
   ],
   "source": [
    "avg_actor_df = AvgActorRecommender(movies_df, rates_df, castings_df).run(20)\n",
    "avg_actor_df.head()"
   ]
  },
  {
   "cell_type": "code",
   "execution_count": 16,
   "metadata": {},
   "outputs": [],
   "source": [
    "# analysis all recommenders\n",
    "\n",
    "random_analyzer = Analyzer(random_df['rate'], random_df['rate_random'], random_df['rate_random_class'])\n",
    "avg_movie_analyzer = Analyzer(avg_movie_df['rate'], avg_movie_df['rate_avg_movie'], avg_movie_df['rate_avg_movie_class'])\n",
    "avg_user_analyzer = Analyzer(avg_user_df['rate'], avg_user_df['rate_avg_user'], avg_user_df['rate_avg_user_class'])\n",
    "avg_genre_analyzer = Analyzer(avg_genre_df['rate'], avg_genre_df['rate_avg_genre'], avg_genre_df['rate_avg_genre_class'])\n",
    "avg_actor_analyzer = Analyzer(avg_actor_df['rate'], avg_actor_df['rate_avg_actor'], avg_actor_df['rate_avg_actor_class'])"
   ]
  },
  {
   "cell_type": "code",
   "execution_count": 17,
   "metadata": {},
   "outputs": [
    {
     "name": "stdout",
     "output_type": "stream",
     "text": [
      "MAE: 4.361968570800101\n",
      "MSE: 27.143180688332453\n",
      "RMSE: 5.2099117735651195\n",
      "MAPE: 0.6170737387712044\n"
     ]
    }
   ],
   "source": [
    "random_analyzer.analyze_error()"
   ]
  },
  {
   "cell_type": "code",
   "execution_count": 18,
   "metadata": {},
   "outputs": [
    {
     "name": "stdout",
     "output_type": "stream",
     "text": [
      "Confusion Matrix :\n",
      "[[   0    0    0    0    0    0    0    0    0    0    0]\n",
      " [ 178  418  414  379  432  424  474  468  483  520  264]\n",
      " [  32   50   49   51   57   46   50   55   53   70   33]\n",
      " [  14   47   42   40   41   48   44   63   60   74   40]\n",
      " [  22   55   60   67   53   73   71   78   76   93   63]\n",
      " [  53   96  122  120  113  127  109  143  170  202  105]\n",
      " [  85  175  190  172  207  207  224  262  261  328  205]\n",
      " [ 160  278  311  324  345  366  426  486  595  617  326]\n",
      " [ 349  663  609  709  727  767  878  872 1013 1096  610]\n",
      " [ 475  975 1033  971 1080 1102 1157 1271 1307 1433  728]\n",
      " [3743 7430 7815 7832 8203 8268 8614 8873 9076 9165 4784]]\n",
      "Accuracy: 0.0732579270053158\n",
      "Precision: [0.         0.04103269 0.0046031  0.00375059 0.00470776 0.01111306\n",
      " 0.01859384 0.03866041 0.07736368 0.10538314 0.66834311]\n",
      "Recall: [       nan 0.09384823 0.08974359 0.07797271 0.0745429  0.09338235\n",
      " 0.09671848 0.11478507 0.12215121 0.12426292 0.05708626]\n",
      "F1: [       nan 0.05709992 0.00875704 0.00715692 0.00885621 0.01986237\n",
      " 0.03119126 0.05783993 0.09473044 0.11404696 0.10518794]\n"
     ]
    }
   ],
   "source": [
    "random_analyzer.analyze_confusion_matrix()"
   ]
  },
  {
   "cell_type": "code",
   "execution_count": 19,
   "metadata": {},
   "outputs": [
    {
     "name": "stdout",
     "output_type": "stream",
     "text": [
      "MAE: 1.255901668956898\n",
      "MSE: 3.952888516210945\n",
      "RMSE: 1.9881872437501817\n",
      "MAPE: 0.42152373306057334\n"
     ]
    }
   ],
   "source": [
    "avg_movie_analyzer.analyze_error()"
   ]
  },
  {
   "cell_type": "code",
   "execution_count": 20,
   "metadata": {},
   "outputs": [
    {
     "name": "stdout",
     "output_type": "stream",
     "text": [
      "Confusion Matrix :\n",
      "[[    0     1     1    11    68    56   316   406  3570     4]\n",
      " [    0     0     0     4     9    13    27   117   321     0]\n",
      " [    0     0     0     0    11    13    47    88   283     0]\n",
      " [    0     0     0     3     5    14    45   166   424     0]\n",
      " [    0     0     1     2     8    25    70   256   846     0]\n",
      " [    0     0     0     0    16    27   105   484  1456     5]\n",
      " [    0     0     0     2    14    31   146   746  2903     7]\n",
      " [    0     0     0     0    14    31   238  1357  6288    17]\n",
      " [    0     0     0     1    14    22   151  1416  9957    40]\n",
      " [    0     0     0     7    41   114   878  5497 78155   351]]\n",
      "Accuracy: 0.10061819602248603\n",
      "Precision: [       nan 0.         0.         0.1        0.04       0.07803468\n",
      " 0.07217004 0.12883319 0.09555387 0.82783019]\n",
      "Recall: [0.         0.         0.         0.00456621 0.00662252 0.01290014\n",
      " 0.03793193 0.17079924 0.85828808 0.00412732]\n",
      "F1: [       nan        nan        nan 0.00873362 0.01136364 0.02214022\n",
      " 0.04972752 0.14687737 0.17196297 0.0082137 ]\n"
     ]
    },
    {
     "name": "stderr",
     "output_type": "stream",
     "text": [
      "/var/folders/ph/w9kxghkd5959cwdbzq0m7_9m0000gn/T/ipykernel_87996/2850479046.py:68: RuntimeWarning: invalid value encountered in divide\n",
      "  self.f1 = 2 * (self.precision * self.recall) / (self.precision + self.recall)\n"
     ]
    }
   ],
   "source": [
    "avg_movie_analyzer.analyze_confusion_matrix()"
   ]
  },
  {
   "cell_type": "code",
   "execution_count": 21,
   "metadata": {},
   "outputs": [
    {
     "name": "stdout",
     "output_type": "stream",
     "text": [
      "MAE: 0.6168470944568313\n",
      "MSE: 1.7458033564580981\n",
      "RMSE: 1.3212885212769003\n",
      "MAPE: 0.18796969777773848\n"
     ]
    }
   ],
   "source": [
    "avg_user_analyzer.analyze_error()"
   ]
  },
  {
   "cell_type": "code",
   "execution_count": 22,
   "metadata": {},
   "outputs": [
    {
     "name": "stdout",
     "output_type": "stream",
     "text": [
      "Confusion Matrix :\n",
      "[[ 1842   101   180   225   163   538   420   499   456    10]\n",
      " [    2   163     9    21    39    78    68    88    66     2]\n",
      " [    0     5   148     8    30    76    62    83    75     6]\n",
      " [    0     6     3   205    33    87   122   141    91     5]\n",
      " [    0     8    11    14   354   139   202   352   207    22]\n",
      " [    0     0     6    22    33   601   408   621   495    53]\n",
      " [    0     0     6    19    41   194  1238  1391  1058   127]\n",
      " [    0     0    14    16    37   167   638  3734  2896   630]\n",
      " [    0     0     1    11    55    97   413  1801  6567  2591]\n",
      " [    4     8    34    91    88   649  1156  4181 14421 63684]]\n",
      "Accuracy: 0.6669044343676228\n",
      "Precision: [0.99675325 0.56013746 0.3592233  0.32436709 0.40549828 0.22886519\n",
      " 0.26189972 0.28965945 0.24939237 0.94866677]\n",
      "Recall: [0.41542625 0.30410448 0.30020284 0.2958153  0.27043545 0.2684234\n",
      " 0.30387825 0.45917364 0.56926144 0.75530148]\n",
      "F1: [0.58643744 0.39419589 0.32707182 0.30943396 0.32447296 0.24707091\n",
      " 0.28133167 0.35522999 0.34683638 0.84101264]\n"
     ]
    }
   ],
   "source": [
    "avg_user_analyzer.analyze_confusion_matrix()"
   ]
  },
  {
   "cell_type": "code",
   "execution_count": 23,
   "metadata": {},
   "outputs": [
    {
     "name": "stdout",
     "output_type": "stream",
     "text": [
      "MAE: 1.362633892775186\n",
      "MSE: 4.2375135853945505\n",
      "RMSE: 2.0585221848196222\n",
      "MAPE: 0.4528222011236738\n"
     ]
    }
   ],
   "source": [
    "avg_genre_analyzer.analyze_error()"
   ]
  },
  {
   "cell_type": "code",
   "execution_count": 24,
   "metadata": {},
   "outputs": [
    {
     "name": "stdout",
     "output_type": "stream",
     "text": [
      "Confusion Matrix :\n",
      "[[     0      0      0      0      0      1      6      0   9851      0]\n",
      " [     0      0      0      0      0      0      6      0   1060      0]\n",
      " [     0      0      0      0      0      1      6      0    909      0]\n",
      " [     0      0      0      0      0      0      0      0   1354      0]\n",
      " [     0      0      0      0      0      1     12      0   2459      0]\n",
      " [     0      0      0      0      0      1      2      0   4004      0]\n",
      " [     0      0      0      0      0      0      4      0   7172      0]\n",
      " [     0      0      0      0      0      2      2      2  14895      0]\n",
      " [     0      0      0      0      0      0      2      0  22249      0]\n",
      " [     0      0      0      0      0      2     22      3 184171      0]]\n",
      "Accuracy: 0.08966998255432133\n",
      "Precision: [       nan        nan        nan        nan        nan 0.125\n",
      " 0.06451613 0.4        0.08966888        nan]\n",
      "Recall: [0.00000000e+00 0.00000000e+00 0.00000000e+00 0.00000000e+00\n",
      " 0.00000000e+00 2.49563264e-04 5.57413601e-04 1.34219180e-04\n",
      " 9.99910116e-01 0.00000000e+00]\n",
      "F1: [       nan        nan        nan        nan        nan 0.00049813\n",
      " 0.00110528 0.00026835 0.16457883        nan]\n"
     ]
    }
   ],
   "source": [
    "avg_genre_analyzer.analyze_confusion_matrix()"
   ]
  },
  {
   "cell_type": "code",
   "execution_count": 25,
   "metadata": {},
   "outputs": [
    {
     "name": "stdout",
     "output_type": "stream",
     "text": [
      "MAE: 1.2355143346378739\n",
      "MSE: 3.8636906313595714\n",
      "RMSE: 1.9656272869899754\n",
      "MAPE: 0.4157085561502365\n"
     ]
    }
   ],
   "source": [
    "avg_actor_analyzer.analyze_error()"
   ]
  },
  {
   "cell_type": "code",
   "execution_count": 26,
   "metadata": {},
   "outputs": [
    {
     "name": "stdout",
     "output_type": "stream",
     "text": [
      "Confusion Matrix :\n",
      "[[     0      0      2     11     72     84    424    778   9191      2]\n",
      " [     0      0      0      6      3     11     34    182    822      0]\n",
      " [     0      0      0      0      2     10     46    170    711      0]\n",
      " [     0      0      0      2      0     11     43    294   1099      0]\n",
      " [     0      0      2      0      8     33     65    397   2015      0]\n",
      " [     0      0      0      0     25     31     78    745   3176     18]\n",
      " [     0      0      0      6     14     32    123   1050   6126      8]\n",
      " [     0      0      0      0     16     30    236   2303  13723     28]\n",
      " [     0      0      0      0     12     33    142   2449  22847     98]\n",
      " [     0      0      1      9     28    165   1025  10656 203254    782]]\n",
      "Accuracy: 0.09130892690317322\n",
      "Precision: [       nan        nan 0.         0.05882353 0.04444444 0.07045455\n",
      " 0.05550542 0.12105761 0.08688262 0.83547009]\n",
      "Recall: [0.         0.         0.         0.00138026 0.0031746  0.0076111\n",
      " 0.01671423 0.14097698 0.8931238  0.00362171]\n",
      "F1: [       nan        nan        nan 0.00269724 0.00592593 0.01373809\n",
      " 0.02569191 0.13026018 0.15836005 0.00721216]\n"
     ]
    },
    {
     "name": "stderr",
     "output_type": "stream",
     "text": [
      "/var/folders/ph/w9kxghkd5959cwdbzq0m7_9m0000gn/T/ipykernel_87996/2850479046.py:68: RuntimeWarning: invalid value encountered in divide\n",
      "  self.f1 = 2 * (self.precision * self.recall) / (self.precision + self.recall)\n"
     ]
    }
   ],
   "source": [
    "avg_actor_analyzer.analyze_confusion_matrix()"
   ]
  },
  {
   "cell_type": "code",
   "execution_count": 28,
   "metadata": {},
   "outputs": [],
   "source": [
    "class AvgMultiRecommender(BaseRecommender):\n",
    "    def __init__(self, movies_df, rates_df, genres_df, castings_df, weights=(1, 1, 1, 1)):\n",
    "        super().__init__(movies_df, rates_df, genres_df, castings_df)\n",
    "        self.weights = weights\n",
    "\n",
    "    def run(self, n_items=10):\n",
    "        df = self.rates_df.copy()\n",
    "\n",
    "        # avg_movie\n",
    "        df['rate_avg_movie'] = df.groupby('movie')['rate'].transform('mean')\n",
    "\n",
    "        # avg_user\n",
    "        df['rate_avg_user'] = df.groupby('user')['rate'].transform('mean')\n",
    "\n",
    "        # avg_genre\n",
    "        df = pd.merge(df, self.genres_df, on='movie', how='left')\n",
    "        genre_avg = df.groupby('genre')['rate'].mean()\n",
    "        movie_genre = self.genres_df.groupby('movie')['genre'].apply(list)\n",
    "        movie_genre_rating = {}\n",
    "        for movie, g_list in movie_genre.items():\n",
    "            valid_avg = [genre_avg[g] for g in g_list if g in genre_avg]\n",
    "            movie_genre_rating[movie] = np.mean(valid_avg) if valid_avg else np.nan\n",
    "        df['rate_avg_genre'] = df['movie'].apply(lambda m: movie_genre_rating.get(m, np.nan))\n",
    "        df = df.dropna(subset=['rate_avg_genre'])\n",
    "\n",
    "        # avg_actor\n",
    "        df = pd.merge(df, self.castings_df, on='movie', how='left')\n",
    "        df = df[df['leading'] == 1]\n",
    "        df['rate_avg_actor'] = df.groupby('people')['rate'].transform('mean')\n",
    "\n",
    "        # avg_multi\n",
    "        df['rate_avg_multi'] = (\n",
    "            self.weights[0] * df['rate_avg_movie'] +\n",
    "            self.weights[1] * df['rate_avg_user'] +\n",
    "            self.weights[2] * df['rate_avg_genre'] +\n",
    "            self.weights[3] * df['rate_avg_actor']\n",
    "        ) / sum(self.weights)\n",
    "\n",
    "        top_n = self.get_top_n(df, 'rate_avg_multi', n_items)\n",
    "\n",
    "        return top_n\n"
   ]
  },
  {
   "cell_type": "code",
   "execution_count": 29,
   "metadata": {},
   "outputs": [
    {
     "name": "stderr",
     "output_type": "stream",
     "text": [
      "/var/folders/ph/w9kxghkd5959cwdbzq0m7_9m0000gn/T/ipykernel_87996/1331135252.py:10: DeprecationWarning: DataFrameGroupBy.apply operated on the grouping columns. This behavior is deprecated, and in a future version of pandas the grouping columns will be excluded from the operation. Either pass `include_groups=False` to exclude the groupings or explicitly select the grouping columns after groupby to silence this warning.\n",
      "  df.groupby('user', group_keys=False)\n"
     ]
    },
    {
     "data": {
      "text/html": [
       "<div>\n",
       "<style scoped>\n",
       "    .dataframe tbody tr th:only-of-type {\n",
       "        vertical-align: middle;\n",
       "    }\n",
       "\n",
       "    .dataframe tbody tr th {\n",
       "        vertical-align: top;\n",
       "    }\n",
       "\n",
       "    .dataframe thead th {\n",
       "        text-align: right;\n",
       "    }\n",
       "</style>\n",
       "<table border=\"1\" class=\"dataframe\">\n",
       "  <thead>\n",
       "    <tr style=\"text-align: right;\">\n",
       "      <th></th>\n",
       "      <th>user</th>\n",
       "      <th>movie</th>\n",
       "      <th>rate</th>\n",
       "      <th>time</th>\n",
       "      <th>rate_avg_movie</th>\n",
       "      <th>rate_avg_user</th>\n",
       "      <th>genre</th>\n",
       "      <th>rate_avg_genre</th>\n",
       "      <th>people</th>\n",
       "      <th>order</th>\n",
       "      <th>leading</th>\n",
       "      <th>rate_avg_actor</th>\n",
       "      <th>rate_avg_multi</th>\n",
       "      <th>rate_avg_multi_class</th>\n",
       "    </tr>\n",
       "  </thead>\n",
       "  <tbody>\n",
       "    <tr>\n",
       "      <th>0</th>\n",
       "      <td>0</td>\n",
       "      <td>10200</td>\n",
       "      <td>10</td>\n",
       "      <td>1483582800</td>\n",
       "      <td>9.434136</td>\n",
       "      <td>7.388235</td>\n",
       "      <td>SF</td>\n",
       "      <td>8.980535</td>\n",
       "      <td>99</td>\n",
       "      <td>1</td>\n",
       "      <td>1</td>\n",
       "      <td>9.318143</td>\n",
       "      <td>8.780263</td>\n",
       "      <td>9.0</td>\n",
       "    </tr>\n",
       "    <tr>\n",
       "      <th>1</th>\n",
       "      <td>0</td>\n",
       "      <td>10200</td>\n",
       "      <td>10</td>\n",
       "      <td>1483582800</td>\n",
       "      <td>9.434136</td>\n",
       "      <td>7.388235</td>\n",
       "      <td>액션</td>\n",
       "      <td>8.980535</td>\n",
       "      <td>99</td>\n",
       "      <td>1</td>\n",
       "      <td>1</td>\n",
       "      <td>9.318143</td>\n",
       "      <td>8.780263</td>\n",
       "      <td>9.0</td>\n",
       "    </tr>\n",
       "    <tr>\n",
       "      <th>2</th>\n",
       "      <td>0</td>\n",
       "      <td>10200</td>\n",
       "      <td>10</td>\n",
       "      <td>1483582800</td>\n",
       "      <td>9.434136</td>\n",
       "      <td>7.388235</td>\n",
       "      <td>스릴러</td>\n",
       "      <td>8.980535</td>\n",
       "      <td>99</td>\n",
       "      <td>1</td>\n",
       "      <td>1</td>\n",
       "      <td>9.318143</td>\n",
       "      <td>8.780263</td>\n",
       "      <td>9.0</td>\n",
       "    </tr>\n",
       "    <tr>\n",
       "      <th>3</th>\n",
       "      <td>0</td>\n",
       "      <td>10048</td>\n",
       "      <td>7</td>\n",
       "      <td>1394114760</td>\n",
       "      <td>9.378706</td>\n",
       "      <td>7.388235</td>\n",
       "      <td>드라마</td>\n",
       "      <td>8.965973</td>\n",
       "      <td>1349</td>\n",
       "      <td>1</td>\n",
       "      <td>1</td>\n",
       "      <td>9.338617</td>\n",
       "      <td>8.767883</td>\n",
       "      <td>9.0</td>\n",
       "    </tr>\n",
       "    <tr>\n",
       "      <th>4</th>\n",
       "      <td>0</td>\n",
       "      <td>10038</td>\n",
       "      <td>9</td>\n",
       "      <td>1495625940</td>\n",
       "      <td>9.343516</td>\n",
       "      <td>7.388235</td>\n",
       "      <td>SF</td>\n",
       "      <td>8.943981</td>\n",
       "      <td>7049</td>\n",
       "      <td>3</td>\n",
       "      <td>1</td>\n",
       "      <td>9.343516</td>\n",
       "      <td>8.754812</td>\n",
       "      <td>9.0</td>\n",
       "    </tr>\n",
       "  </tbody>\n",
       "</table>\n",
       "</div>"
      ],
      "text/plain": [
       "   user  movie  rate        time  rate_avg_movie  rate_avg_user genre  \\\n",
       "0     0  10200    10  1483582800        9.434136       7.388235    SF   \n",
       "1     0  10200    10  1483582800        9.434136       7.388235    액션   \n",
       "2     0  10200    10  1483582800        9.434136       7.388235   스릴러   \n",
       "3     0  10048     7  1394114760        9.378706       7.388235   드라마   \n",
       "4     0  10038     9  1495625940        9.343516       7.388235    SF   \n",
       "\n",
       "   rate_avg_genre  people  order  leading  rate_avg_actor  rate_avg_multi  \\\n",
       "0        8.980535      99      1        1        9.318143        8.780263   \n",
       "1        8.980535      99      1        1        9.318143        8.780263   \n",
       "2        8.980535      99      1        1        9.318143        8.780263   \n",
       "3        8.965973    1349      1        1        9.338617        8.767883   \n",
       "4        8.943981    7049      3        1        9.343516        8.754812   \n",
       "\n",
       "   rate_avg_multi_class  \n",
       "0                   9.0  \n",
       "1                   9.0  \n",
       "2                   9.0  \n",
       "3                   9.0  \n",
       "4                   9.0  "
      ]
     },
     "execution_count": 29,
     "metadata": {},
     "output_type": "execute_result"
    }
   ],
   "source": [
    "avg_multi_df = AvgMultiRecommender(movies_df, rates_df, genres_df, castings_df, weights=(1, 1, 1, 1)).run(20)\n",
    "avg_multi_df.head()"
   ]
  },
  {
   "cell_type": "code",
   "execution_count": 30,
   "metadata": {},
   "outputs": [
    {
     "name": "stdout",
     "output_type": "stream",
     "text": [
      "MAE: 1.01168918780073\n",
      "MSE: 2.567496611301981\n",
      "RMSE: 1.6023409784755493\n",
      "MAPE: 0.34056344349677065\n"
     ]
    }
   ],
   "source": [
    "avg_multi_analyzer = Analyzer(avg_multi_df['rate'], avg_multi_df['rate_avg_multi'], avg_multi_df['rate_avg_multi_class'])\n",
    "avg_multi_analyzer.analyze_error()"
   ]
  },
  {
   "cell_type": "code",
   "execution_count": 31,
   "metadata": {},
   "outputs": [
    {
     "name": "stdout",
     "output_type": "stream",
     "text": [
      "Confusion Matrix :\n",
      "[[     0      0      0     16    136   1436  10837   4366   3269      0]\n",
      " [     0      0      0      0     18     97   1077    450    265      0]\n",
      " [     0      0      0      0      0     65    583    698    253      0]\n",
      " [     0      0      0      0      6      9    466   1409    538      0]\n",
      " [     0      0      0      2      2     27    476   2725   1195      0]\n",
      " [     0      0      0      0      0     42    209   3776   2088      0]\n",
      " [     0      0      0      0      0      4    156   3796   7264      0]\n",
      " [     0      0      0      0      0      0     98   4147  21278      0]\n",
      " [     0      0      0      0      0      0     50   1977  39431     22]\n",
      " [     0      0      0      0      0      4    201   7829 411867    596]]\n",
      "Accuracy: 0.08290238689524265\n",
      "Precision: [       nan        nan        nan 0.         0.01234568 0.02494062\n",
      " 0.0110224  0.13303179 0.08089273 0.96440129]\n",
      "Recall: [0.00000000e+00 0.00000000e+00 0.00000000e+00 0.00000000e+00\n",
      " 4.51773210e-04 6.86835650e-03 1.39037433e-02 1.62480900e-01\n",
      " 9.50602700e-01 1.41737040e-03]\n",
      "F1: [       nan        nan        nan        nan 0.00087165 0.01077061\n",
      " 0.01229654 0.14628898 0.1490978  0.00283058]\n"
     ]
    },
    {
     "name": "stderr",
     "output_type": "stream",
     "text": [
      "/var/folders/ph/w9kxghkd5959cwdbzq0m7_9m0000gn/T/ipykernel_87996/2850479046.py:68: RuntimeWarning: invalid value encountered in divide\n",
      "  self.f1 = 2 * (self.precision * self.recall) / (self.precision + self.recall)\n"
     ]
    }
   ],
   "source": [
    "avg_multi_analyzer.analyze_confusion_matrix()"
   ]
  },
  {
   "cell_type": "code",
   "execution_count": 32,
   "metadata": {},
   "outputs": [
    {
     "name": "stderr",
     "output_type": "stream",
     "text": [
      "/var/folders/ph/w9kxghkd5959cwdbzq0m7_9m0000gn/T/ipykernel_87996/1331135252.py:10: DeprecationWarning: DataFrameGroupBy.apply operated on the grouping columns. This behavior is deprecated, and in a future version of pandas the grouping columns will be excluded from the operation. Either pass `include_groups=False` to exclude the groupings or explicitly select the grouping columns after groupby to silence this warning.\n",
      "  df.groupby('user', group_keys=False)\n"
     ]
    },
    {
     "data": {
      "text/html": [
       "<div>\n",
       "<style scoped>\n",
       "    .dataframe tbody tr th:only-of-type {\n",
       "        vertical-align: middle;\n",
       "    }\n",
       "\n",
       "    .dataframe tbody tr th {\n",
       "        vertical-align: top;\n",
       "    }\n",
       "\n",
       "    .dataframe thead th {\n",
       "        text-align: right;\n",
       "    }\n",
       "</style>\n",
       "<table border=\"1\" class=\"dataframe\">\n",
       "  <thead>\n",
       "    <tr style=\"text-align: right;\">\n",
       "      <th></th>\n",
       "      <th>user</th>\n",
       "      <th>movie</th>\n",
       "      <th>rate</th>\n",
       "      <th>time</th>\n",
       "      <th>rate_avg_movie</th>\n",
       "      <th>rate_avg_user</th>\n",
       "      <th>genre</th>\n",
       "      <th>rate_avg_genre</th>\n",
       "      <th>people</th>\n",
       "      <th>order</th>\n",
       "      <th>leading</th>\n",
       "      <th>rate_avg_actor</th>\n",
       "      <th>rate_avg_multi</th>\n",
       "      <th>rate_avg_multi_class</th>\n",
       "    </tr>\n",
       "  </thead>\n",
       "  <tbody>\n",
       "    <tr>\n",
       "      <th>0</th>\n",
       "      <td>0</td>\n",
       "      <td>10200</td>\n",
       "      <td>10</td>\n",
       "      <td>1483582800</td>\n",
       "      <td>9.434136</td>\n",
       "      <td>7.388235</td>\n",
       "      <td>SF</td>\n",
       "      <td>8.980535</td>\n",
       "      <td>99</td>\n",
       "      <td>1</td>\n",
       "      <td>1</td>\n",
       "      <td>9.318143</td>\n",
       "      <td>7.945046</td>\n",
       "      <td>8.0</td>\n",
       "    </tr>\n",
       "    <tr>\n",
       "      <th>1</th>\n",
       "      <td>0</td>\n",
       "      <td>10200</td>\n",
       "      <td>10</td>\n",
       "      <td>1483582800</td>\n",
       "      <td>9.434136</td>\n",
       "      <td>7.388235</td>\n",
       "      <td>액션</td>\n",
       "      <td>8.980535</td>\n",
       "      <td>99</td>\n",
       "      <td>1</td>\n",
       "      <td>1</td>\n",
       "      <td>9.318143</td>\n",
       "      <td>7.945046</td>\n",
       "      <td>8.0</td>\n",
       "    </tr>\n",
       "    <tr>\n",
       "      <th>2</th>\n",
       "      <td>0</td>\n",
       "      <td>10200</td>\n",
       "      <td>10</td>\n",
       "      <td>1483582800</td>\n",
       "      <td>9.434136</td>\n",
       "      <td>7.388235</td>\n",
       "      <td>스릴러</td>\n",
       "      <td>8.980535</td>\n",
       "      <td>99</td>\n",
       "      <td>1</td>\n",
       "      <td>1</td>\n",
       "      <td>9.318143</td>\n",
       "      <td>7.945046</td>\n",
       "      <td>8.0</td>\n",
       "    </tr>\n",
       "    <tr>\n",
       "      <th>3</th>\n",
       "      <td>0</td>\n",
       "      <td>10048</td>\n",
       "      <td>7</td>\n",
       "      <td>1394114760</td>\n",
       "      <td>9.378706</td>\n",
       "      <td>7.388235</td>\n",
       "      <td>드라마</td>\n",
       "      <td>8.965973</td>\n",
       "      <td>1349</td>\n",
       "      <td>1</td>\n",
       "      <td>1</td>\n",
       "      <td>9.338617</td>\n",
       "      <td>7.940094</td>\n",
       "      <td>8.0</td>\n",
       "    </tr>\n",
       "    <tr>\n",
       "      <th>4</th>\n",
       "      <td>0</td>\n",
       "      <td>10038</td>\n",
       "      <td>9</td>\n",
       "      <td>1495625940</td>\n",
       "      <td>9.343516</td>\n",
       "      <td>7.388235</td>\n",
       "      <td>SF</td>\n",
       "      <td>8.943981</td>\n",
       "      <td>7049</td>\n",
       "      <td>3</td>\n",
       "      <td>1</td>\n",
       "      <td>9.343516</td>\n",
       "      <td>7.934866</td>\n",
       "      <td>8.0</td>\n",
       "    </tr>\n",
       "  </tbody>\n",
       "</table>\n",
       "</div>"
      ],
      "text/plain": [
       "   user  movie  rate        time  rate_avg_movie  rate_avg_user genre  \\\n",
       "0     0  10200    10  1483582800        9.434136       7.388235    SF   \n",
       "1     0  10200    10  1483582800        9.434136       7.388235    액션   \n",
       "2     0  10200    10  1483582800        9.434136       7.388235   스릴러   \n",
       "3     0  10048     7  1394114760        9.378706       7.388235   드라마   \n",
       "4     0  10038     9  1495625940        9.343516       7.388235    SF   \n",
       "\n",
       "   rate_avg_genre  people  order  leading  rate_avg_actor  rate_avg_multi  \\\n",
       "0        8.980535      99      1        1        9.318143        7.945046   \n",
       "1        8.980535      99      1        1        9.318143        7.945046   \n",
       "2        8.980535      99      1        1        9.318143        7.945046   \n",
       "3        8.965973    1349      1        1        9.338617        7.940094   \n",
       "4        8.943981    7049      3        1        9.343516        7.934866   \n",
       "\n",
       "   rate_avg_multi_class  \n",
       "0                   8.0  \n",
       "1                   8.0  \n",
       "2                   8.0  \n",
       "3                   8.0  \n",
       "4                   8.0  "
      ]
     },
     "execution_count": 32,
     "metadata": {},
     "output_type": "execute_result"
    }
   ],
   "source": [
    "avg_multi_df = AvgMultiRecommender(movies_df, rates_df, genres_df, castings_df, weights=(1, 7, 1, 1)).run(20)\n",
    "avg_multi_df.head()"
   ]
  },
  {
   "cell_type": "code",
   "execution_count": 33,
   "metadata": {},
   "outputs": [
    {
     "name": "stdout",
     "output_type": "stream",
     "text": [
      "MAE: 0.6201643636429537\n",
      "MSE: 1.2702337352117594\n",
      "RMSE: 1.127046465418245\n",
      "MAPE: 0.2046322787991987\n"
     ]
    }
   ],
   "source": [
    "avg_multi_analyzer = Analyzer(avg_multi_df['rate'], avg_multi_df['rate_avg_multi'], avg_multi_df['rate_avg_multi_class'])\n",
    "avg_multi_analyzer.analyze_error()"
   ]
  },
  {
   "cell_type": "code",
   "execution_count": 34,
   "metadata": {},
   "outputs": [
    {
     "name": "stdout",
     "output_type": "stream",
     "text": [
      "Confusion Matrix :\n",
      "[[     0     18  11502    444    911   1508   2560   1894   1207     16]\n",
      " [     0      0     23   1101     66    145    277    217     78      0]\n",
      " [     0      0      0    124    929     74    237    122    113      0]\n",
      " [     0      0      0     27    779    661    366    438    157      0]\n",
      " [     0      0      0     34    112   2313    656    873    429     10]\n",
      " [     0      0      0      0    101    275   3430   1522    762     25]\n",
      " [     0      0      0      0     49    193   1750   6150   3054     24]\n",
      " [     0      0      0      0     28    210    838  15054   9242    151]\n",
      " [     0      0      0      0     18    225    627   3470  34833   2307]\n",
      " [     0      0      0     36    156    747   3916  11523  60483 343636]]\n",
      "Accuracy: 0.7392481354716248\n",
      "Precision: [       nan 0.         0.         0.01528879 0.03556685 0.04330027\n",
      " 0.11939688 0.36483048 0.31563638 0.99268276]\n",
      "Recall: [0.         0.         0.         0.01112026 0.0252993  0.04497138\n",
      " 0.15597148 0.58982095 0.8397541  0.81721392]\n",
      "F1: [       nan        nan        nan 0.01287554 0.02956705 0.04412001\n",
      " 0.13525525 0.45081304 0.45881795 0.89644252]\n"
     ]
    },
    {
     "name": "stderr",
     "output_type": "stream",
     "text": [
      "/var/folders/ph/w9kxghkd5959cwdbzq0m7_9m0000gn/T/ipykernel_87996/2850479046.py:68: RuntimeWarning: invalid value encountered in divide\n",
      "  self.f1 = 2 * (self.precision * self.recall) / (self.precision + self.recall)\n"
     ]
    }
   ],
   "source": [
    "avg_multi_analyzer.analyze_confusion_matrix()"
   ]
  },
  {
   "cell_type": "code",
   "execution_count": null,
   "metadata": {},
   "outputs": [],
   "source": []
  }
 ],
 "metadata": {
  "kernelspec": {
   "display_name": ".venv",
   "language": "python",
   "name": "python3"
  },
  "language_info": {
   "codemirror_mode": {
    "name": "ipython",
    "version": 3
   },
   "file_extension": ".py",
   "mimetype": "text/x-python",
   "name": "python",
   "nbconvert_exporter": "python",
   "pygments_lexer": "ipython3",
   "version": "3.9.6"
  }
 },
 "nbformat": 4,
 "nbformat_minor": 2
}
