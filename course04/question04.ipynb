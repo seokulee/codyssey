{
 "cells": [
  {
   "cell_type": "markdown",
   "metadata": {},
   "source": [
    "# 수행목표\n",
    "- 주연 배우별 평균 평점으로 사용자별 평점과 비교한다.\n",
    "\n",
    "# 수행단계\n",
    "주연 배우별로 평균 평점을 계산해서 비교한다.\n",
    "\n",
    "- 추천 코드 class 명을 `AvgActorRecommender로` 한다.\n",
    "- 주연배우의 경우 별도 파일(castings.csv)에 있으므로 `MovieDataLoader에` 추가로 data를 load 한다.\n",
    "- 주연 배우(단수,복수)가 출연한 모든 영화의 평균을 고려해야 한다.\n",
    "- 결과에 `rate_avg_actor` 필드를 추가해서 주연배우 평점 평균을 계산한 다음 업데이트 한다.\n",
    "- `rate_avg_actor` 결과를 회귀 평가 한다.\n",
    "- `rate_avg_actor_class` 필드를 추가해서 `rate_avg_actor` 값을 반올림한 값을 업데이트 한다.\n",
    "- `rate_avg_actor_class` 결과를 분류 평가 한다.\n",
    "- 결과 데이터 평점 높은 순 n개를 출력하고 그 아래에 분석 결과를 출력한다.\n",
    "- 랜덤, 영화 평균 평점, 사용자 평균 평점, 장르 평균 평점 추천과 평가를 비교한다."
   ]
  },
  {
   "cell_type": "markdown",
   "metadata": {},
   "source": [
    "# Library 설치"
   ]
  },
  {
   "cell_type": "code",
   "execution_count": 1,
   "metadata": {},
   "outputs": [],
   "source": [
    "# Library\n",
    "\n",
    "import os\n",
    "import sys\n",
    "import pandas as pd\n",
    "import numpy as np\n",
    "import matplotlib as mpl\n",
    "import matplotlib.pyplot as plt\n",
    "import seaborn as sns\n",
    "\n",
    "mpl.rcParams['font.family'] = 'AppleGothic'\n",
    "mpl.rcParams['axes.unicode_minus'] = False"
   ]
  },
  {
   "cell_type": "markdown",
   "metadata": {},
   "source": [
    "# DataLoader"
   ]
  },
  {
   "cell_type": "code",
   "execution_count": 27,
   "metadata": {},
   "outputs": [],
   "source": [
    "class MovieDataLoader:\n",
    "    def __init__(self, file_path):\n",
    "        self.file_path = file_path\n",
    "        movie_path = os.path.join(self.file_path, 'movies.txt')\n",
    "        rate_path = os.path.join(self.file_path, 'rates.csv')\n",
    "        gerne_path = os.path.join(self.file_path, 'genres.csv')\n",
    "        casting_path = os.path.join(self.file_path, 'castings.csv')\n",
    "        self.movies = pd.read_csv(movie_path, sep='\\t')\n",
    "        self.rates = pd.read_csv(rate_path)\n",
    "        self.gernes = pd.read_csv(gerne_path)\n",
    "        self.castings = pd.read_csv(casting_path)\n",
    "\n",
    "    def load(self):\n",
    "        self._preprocess()\n",
    "\n",
    "        return self.movies, self.rates, self.gernes, self.castings\n",
    "\n",
    "    def _preprocess(self):\n",
    "        self.movies.dropna(subset=['title_eng'], inplace=True)\n",
    "\n",
    "        if self.movies['year'].isnull().sum() > 0:\n",
    "            non_year = self.movies[self.movies['year'].isnull()]\n",
    "            for row in non_year.iterrows():\n",
    "                movie = row[1]['movie']\n",
    "                title_eng = row[1]['title_eng'].split(' , ')[:-1]\n",
    "                title_eng = ' , '.join(title_eng)\n",
    "                year = row[1]['title_eng'].split(' , ')[-1]\n",
    "                self.movies.loc[self.movies['movie'] == movie, 'title_eng'] = title_eng\n",
    "                self.movies.loc[self.movies['movie'] == movie, 'year'] = year\n",
    "\n",
    "        if self.movies['grade'].isnull().sum() > 0:\n",
    "            self.movies['grade'] = self.movies['grade'].fillna('NR grade')\n"
   ]
  },
  {
   "cell_type": "code",
   "execution_count": 28,
   "metadata": {},
   "outputs": [
    {
     "name": "stdout",
     "output_type": "stream",
     "text": [
      "<class 'pandas.core.frame.DataFrame'>\n",
      "Index: 991 entries, 0 to 998\n",
      "Data columns (total 5 columns):\n",
      " #   Column     Non-Null Count  Dtype \n",
      "---  ------     --------------  ----- \n",
      " 0   movie      991 non-null    int64 \n",
      " 1   title      991 non-null    object\n",
      " 2   title_eng  991 non-null    object\n",
      " 3   year       991 non-null    object\n",
      " 4   grade      991 non-null    object\n",
      "dtypes: int64(1), object(4)\n",
      "memory usage: 46.5+ KB\n",
      "<class 'pandas.core.frame.DataFrame'>\n",
      "RangeIndex: 140710 entries, 0 to 140709\n",
      "Data columns (total 4 columns):\n",
      " #   Column  Non-Null Count   Dtype\n",
      "---  ------  --------------   -----\n",
      " 0   user    140710 non-null  int64\n",
      " 1   movie   140710 non-null  int64\n",
      " 2   rate    140710 non-null  int64\n",
      " 3   time    140710 non-null  int64\n",
      "dtypes: int64(4)\n",
      "memory usage: 4.3 MB\n",
      "<class 'pandas.core.frame.DataFrame'>\n",
      "RangeIndex: 2025 entries, 0 to 2024\n",
      "Data columns (total 2 columns):\n",
      " #   Column  Non-Null Count  Dtype \n",
      "---  ------  --------------  ----- \n",
      " 0   movie   2025 non-null   int64 \n",
      " 1   genre   2025 non-null   object\n",
      "dtypes: int64(1), object(1)\n",
      "memory usage: 31.8+ KB\n",
      "<class 'pandas.core.frame.DataFrame'>\n",
      "RangeIndex: 9776 entries, 0 to 9775\n",
      "Data columns (total 4 columns):\n",
      " #   Column   Non-Null Count  Dtype\n",
      "---  ------   --------------  -----\n",
      " 0   movie    9776 non-null   int64\n",
      " 1   people   9776 non-null   int64\n",
      " 2   order    9776 non-null   int64\n",
      " 3   leading  9776 non-null   int64\n",
      "dtypes: int64(4)\n",
      "memory usage: 305.6 KB\n"
     ]
    },
    {
     "name": "stderr",
     "output_type": "stream",
     "text": [
      "/var/folders/ph/w9kxghkd5959cwdbzq0m7_9m0000gn/T/ipykernel_75653/1053118207.py:29: FutureWarning: Setting an item of incompatible dtype is deprecated and will raise an error in a future version of pandas. Value '1983' has dtype incompatible with float64, please explicitly cast to a compatible dtype first.\n",
      "  self.movies.loc[self.movies['movie'] == movie, 'year'] = year\n"
     ]
    }
   ],
   "source": [
    "movies_df, rates_df, genres_df, castings_df = MovieDataLoader('../data/kmrd/').load()\n",
    "\n",
    "movies_df.info()\n",
    "rates_df.info()\n",
    "genres_df.info()\n",
    "castings_df.info()"
   ]
  },
  {
   "cell_type": "markdown",
   "metadata": {},
   "source": [
    "# Analyzer"
   ]
  },
  {
   "cell_type": "code",
   "execution_count": 19,
   "metadata": {},
   "outputs": [],
   "source": [
    "class Analyzer:\n",
    "    def __init__(self, y_true, y_pred, y_pred_class):\n",
    "        self.y_true = y_true\n",
    "        self.y_pred = y_pred\n",
    "        self.y_pred_class = y_pred_class\n",
    "\n",
    "    def analyze_error(self):\n",
    "        self._analyze_mae()\n",
    "        self._analyze_mse()\n",
    "        self._analyze_rmse()\n",
    "        self._analyze_mape()\n",
    "\n",
    "    def analyze_confusion_matrix(self):\n",
    "        self._make_confusion_matrix()\n",
    "        self._analyze_accuracy()\n",
    "        self._analyze_precision()\n",
    "        self._analyze_recall()\n",
    "        self._analyze_f1()\n",
    "\n",
    "    def _analyze_mae(self):\n",
    "        self.mae = np.abs(self.y_true - self.y_pred).mean()\n",
    "        print(f'MAE: {self.mae}')\n",
    "\n",
    "    def _analyze_mse(self):\n",
    "        self.mse = ((self.y_true - self.y_pred) ** 2).mean()\n",
    "        print(f'MSE: {self.mse}')\n",
    "\n",
    "    def _analyze_rmse(self):\n",
    "        self.rmse = np.sqrt(self.mse)\n",
    "        print(f'RMSE: {self.rmse}')\n",
    "\n",
    "    def _analyze_mape(self):\n",
    "        self.mape = (np.abs(self.y_true - self.y_pred) / self.y_true).mean()\n",
    "        print(f'MAPE: {self.mape}')\n",
    "\n",
    "    def _make_confusion_matrix(self):\n",
    "        unique_labels = np.unique(np.concatenate((self.y_true, self.y_pred_class)))\n",
    "        self.confusion_matrix = np.zeros((len(unique_labels), len(unique_labels)), dtype=int)\n",
    "\n",
    "        label_to_index = {label: index for index, label in enumerate(unique_labels)}\n",
    "        for true, pred in zip(self.y_true, self.y_pred_class):\n",
    "            self.confusion_matrix[label_to_index[true]][label_to_index[pred]] += 1\n",
    "\n",
    "        print('Confusion Matrix :')\n",
    "        print(self.confusion_matrix)\n",
    "\n",
    "    def _analyze_accuracy(self):\n",
    "        self.accuracy = np.diag(self.confusion_matrix).sum() / self.confusion_matrix.sum()\n",
    "        print(f'Accuracy: {self.accuracy}')\n",
    "\n",
    "    def _analyze_precision(self):\n",
    "        with np.errstate(divide='ignore', invalid='ignore'):\n",
    "            try:\n",
    "                self.precision = np.diag(self.confusion_matrix) / self.confusion_matrix.sum(axis=0)\n",
    "            except:\n",
    "                self.precision = np.nan\n",
    "        print(f'Precision: {self.precision}')\n",
    "\n",
    "    def _analyze_recall(self):\n",
    "        with np.errstate(divide='ignore', invalid='ignore'):\n",
    "            try:\n",
    "                self.recall = np.diag(self.confusion_matrix) / self.confusion_matrix.sum(axis=1)\n",
    "            except:\n",
    "                self.recall = np.nan\n",
    "        print(f'Recall: {self.recall}')\n",
    "\n",
    "    def _analyze_f1(self):\n",
    "        self.f1 = 2 * (self.precision * self.recall) / (self.precision + self.recall)\n",
    "        print(f'F1: {self.f1}')\n"
   ]
  },
  {
   "cell_type": "markdown",
   "metadata": {},
   "source": [
    "# Recommenders"
   ]
  },
  {
   "cell_type": "code",
   "execution_count": 54,
   "metadata": {},
   "outputs": [],
   "source": [
    "class BaseRecommender:\n",
    "    def __init__(self, movies_df, rates_df, genres_df=None, castings_df=None):\n",
    "        self.movies_df = movies_df\n",
    "        self.rates_df = rates_df\n",
    "        self.genres_df = genres_df\n",
    "        self.castings_df = castings_df\n",
    "\n",
    "    def get_top_n(self, df, score_col, n_items=10):\n",
    "        top_n = (\n",
    "            df.groupby('user', group_keys=False)\n",
    "            .apply(lambda x: x.nlargest(n_items, score_col))\n",
    "        )\n",
    "        top_n = top_n.reset_index(drop=True)\n",
    "\n",
    "        class_col = f'{score_col}_class'\n",
    "        top_n[class_col] = top_n[score_col].apply(lambda x: np.round(x))\n",
    "        return top_n\n",
    "\n",
    "    def run(self, n_items=10):\n",
    "        raise NotImplementedError\n"
   ]
  },
  {
   "cell_type": "code",
   "execution_count": 55,
   "metadata": {},
   "outputs": [],
   "source": [
    "class RandomRecommender(BaseRecommender):\n",
    "    def __init__(self, movies_df, rates_df, genres_df=None):\n",
    "        super().__init__(movies_df, rates_df, genres_df)\n",
    "\n",
    "    def run(self, n_items=10):\n",
    "        df = self.rates_df.copy()\n",
    "        df['rate_random'] = np.random.rand(len(df)) * 10\n",
    "\n",
    "        top_n = self.get_top_n(df, 'rate_random', n_items)\n",
    "        return top_n"
   ]
  },
  {
   "cell_type": "code",
   "execution_count": 56,
   "metadata": {},
   "outputs": [],
   "source": [
    "class AvgMovieRecommender(BaseRecommender):\n",
    "    def __init__(self, movies_df, rates_df, genres_df=None):\n",
    "        super().__init__(movies_df, rates_df, genres_df)\n",
    "\n",
    "    def run(self, n_items=10):\n",
    "        df = self.rates_df.copy()\n",
    "        df['rate_avg_movie'] = df.groupby('movie')['rate'].transform('mean')\n",
    "\n",
    "        top_n = self.get_top_n(df, 'rate_avg_movie', n_items)\n",
    "        return top_n"
   ]
  },
  {
   "cell_type": "code",
   "execution_count": 57,
   "metadata": {},
   "outputs": [],
   "source": [
    "class AvgUserRecommender(BaseRecommender):\n",
    "    def __init__(self, movies_df, rates_df, genres_df=None):\n",
    "        super().__init__(movies_df, rates_df, genres_df)\n",
    "\n",
    "    def run(self, n_items=10):\n",
    "        df = self.rates_df.copy()\n",
    "        df['rate_avg_user'] = df.groupby('user')['rate'].transform('mean')\n",
    "\n",
    "        top_n = self.get_top_n(df, 'rate_avg_user', n_items)\n",
    "        return top_n\n"
   ]
  },
  {
   "cell_type": "code",
   "execution_count": 58,
   "metadata": {},
   "outputs": [],
   "source": [
    "class AvgGenreRecommender(BaseRecommender):\n",
    "    def __init__(self, movies_df, rates_df, genres_df):\n",
    "        super().__init__(movies_df, rates_df, genres_df)\n",
    "\n",
    "    def run(self, n_items=10):\n",
    "        df = self.rates_df.copy()\n",
    "        df = pd.merge(df, self.genres_df, on='movie', how='left')\n",
    "\n",
    "        genre_avg = df.groupby('genre')['rate'].mean()\n",
    "        movie_genre = self.genres_df.groupby('movie')['genre'].apply(list)\n",
    "        movie_genre_rating = {}\n",
    "        for movie, g_list in movie_genre.items():\n",
    "            valid_avg = [genre_avg[g] for g in g_list if g in genre_avg]\n",
    "            movie_genre_rating[movie] = np.mean(valid_avg) if valid_avg else np.nan\n",
    "\n",
    "        df['rate_avg_genre'] = df['movie'].apply(lambda m: movie_genre_rating.get(m, np.nan))\n",
    "        df = df.dropna(subset=['rate_avg_genre'])  # NaN 제거\n",
    "\n",
    "        top_n = self.get_top_n(df, 'rate_avg_genre', n_items)\n",
    "\n",
    "        return top_n\n"
   ]
  },
  {
   "cell_type": "code",
   "execution_count": 59,
   "metadata": {},
   "outputs": [
    {
     "name": "stderr",
     "output_type": "stream",
     "text": [
      "/var/folders/ph/w9kxghkd5959cwdbzq0m7_9m0000gn/T/ipykernel_75653/1331135252.py:10: DeprecationWarning: DataFrameGroupBy.apply operated on the grouping columns. This behavior is deprecated, and in a future version of pandas the grouping columns will be excluded from the operation. Either pass `include_groups=False` to exclude the groupings or explicitly select the grouping columns after groupby to silence this warning.\n",
      "  df.groupby('user', group_keys=False)\n"
     ]
    },
    {
     "data": {
      "text/html": [
       "<div>\n",
       "<style scoped>\n",
       "    .dataframe tbody tr th:only-of-type {\n",
       "        vertical-align: middle;\n",
       "    }\n",
       "\n",
       "    .dataframe tbody tr th {\n",
       "        vertical-align: top;\n",
       "    }\n",
       "\n",
       "    .dataframe thead th {\n",
       "        text-align: right;\n",
       "    }\n",
       "</style>\n",
       "<table border=\"1\" class=\"dataframe\">\n",
       "  <thead>\n",
       "    <tr style=\"text-align: right;\">\n",
       "      <th></th>\n",
       "      <th>user</th>\n",
       "      <th>movie</th>\n",
       "      <th>rate</th>\n",
       "      <th>time</th>\n",
       "      <th>rate_random</th>\n",
       "      <th>rate_random_class</th>\n",
       "    </tr>\n",
       "  </thead>\n",
       "  <tbody>\n",
       "    <tr>\n",
       "      <th>0</th>\n",
       "      <td>0</td>\n",
       "      <td>10746</td>\n",
       "      <td>7</td>\n",
       "      <td>1442579400</td>\n",
       "      <td>9.843231</td>\n",
       "      <td>10.0</td>\n",
       "    </tr>\n",
       "    <tr>\n",
       "      <th>1</th>\n",
       "      <td>0</td>\n",
       "      <td>10073</td>\n",
       "      <td>7</td>\n",
       "      <td>1421845740</td>\n",
       "      <td>9.499658</td>\n",
       "      <td>9.0</td>\n",
       "    </tr>\n",
       "    <tr>\n",
       "      <th>2</th>\n",
       "      <td>0</td>\n",
       "      <td>10096</td>\n",
       "      <td>5</td>\n",
       "      <td>1427543880</td>\n",
       "      <td>9.410215</td>\n",
       "      <td>9.0</td>\n",
       "    </tr>\n",
       "    <tr>\n",
       "      <th>3</th>\n",
       "      <td>0</td>\n",
       "      <td>10024</td>\n",
       "      <td>4</td>\n",
       "      <td>1429359420</td>\n",
       "      <td>9.385105</td>\n",
       "      <td>9.0</td>\n",
       "    </tr>\n",
       "    <tr>\n",
       "      <th>4</th>\n",
       "      <td>0</td>\n",
       "      <td>10132</td>\n",
       "      <td>9</td>\n",
       "      <td>1403325360</td>\n",
       "      <td>9.366862</td>\n",
       "      <td>9.0</td>\n",
       "    </tr>\n",
       "  </tbody>\n",
       "</table>\n",
       "</div>"
      ],
      "text/plain": [
       "   user  movie  rate        time  rate_random  rate_random_class\n",
       "0     0  10746     7  1442579400     9.843231               10.0\n",
       "1     0  10073     7  1421845740     9.499658                9.0\n",
       "2     0  10096     5  1427543880     9.410215                9.0\n",
       "3     0  10024     4  1429359420     9.385105                9.0\n",
       "4     0  10132     9  1403325360     9.366862                9.0"
      ]
     },
     "execution_count": 59,
     "metadata": {},
     "output_type": "execute_result"
    }
   ],
   "source": [
    "random_df = RandomRecommender(movies_df, rates_df).run(20)\n",
    "random_df.head()"
   ]
  },
  {
   "cell_type": "code",
   "execution_count": 60,
   "metadata": {},
   "outputs": [
    {
     "name": "stderr",
     "output_type": "stream",
     "text": [
      "/var/folders/ph/w9kxghkd5959cwdbzq0m7_9m0000gn/T/ipykernel_75653/1331135252.py:10: DeprecationWarning: DataFrameGroupBy.apply operated on the grouping columns. This behavior is deprecated, and in a future version of pandas the grouping columns will be excluded from the operation. Either pass `include_groups=False` to exclude the groupings or explicitly select the grouping columns after groupby to silence this warning.\n",
      "  df.groupby('user', group_keys=False)\n"
     ]
    },
    {
     "data": {
      "text/html": [
       "<div>\n",
       "<style scoped>\n",
       "    .dataframe tbody tr th:only-of-type {\n",
       "        vertical-align: middle;\n",
       "    }\n",
       "\n",
       "    .dataframe tbody tr th {\n",
       "        vertical-align: top;\n",
       "    }\n",
       "\n",
       "    .dataframe thead th {\n",
       "        text-align: right;\n",
       "    }\n",
       "</style>\n",
       "<table border=\"1\" class=\"dataframe\">\n",
       "  <thead>\n",
       "    <tr style=\"text-align: right;\">\n",
       "      <th></th>\n",
       "      <th>user</th>\n",
       "      <th>movie</th>\n",
       "      <th>rate</th>\n",
       "      <th>time</th>\n",
       "      <th>rate_avg_movie</th>\n",
       "      <th>rate_avg_movie_class</th>\n",
       "    </tr>\n",
       "  </thead>\n",
       "  <tbody>\n",
       "    <tr>\n",
       "      <th>0</th>\n",
       "      <td>0</td>\n",
       "      <td>10200</td>\n",
       "      <td>10</td>\n",
       "      <td>1483582800</td>\n",
       "      <td>9.434136</td>\n",
       "      <td>9.0</td>\n",
       "    </tr>\n",
       "    <tr>\n",
       "      <th>1</th>\n",
       "      <td>0</td>\n",
       "      <td>10048</td>\n",
       "      <td>7</td>\n",
       "      <td>1394114760</td>\n",
       "      <td>9.378706</td>\n",
       "      <td>9.0</td>\n",
       "    </tr>\n",
       "    <tr>\n",
       "      <th>2</th>\n",
       "      <td>0</td>\n",
       "      <td>10038</td>\n",
       "      <td>9</td>\n",
       "      <td>1495625940</td>\n",
       "      <td>9.343516</td>\n",
       "      <td>9.0</td>\n",
       "    </tr>\n",
       "    <tr>\n",
       "      <th>3</th>\n",
       "      <td>0</td>\n",
       "      <td>10021</td>\n",
       "      <td>9</td>\n",
       "      <td>1424497980</td>\n",
       "      <td>9.317726</td>\n",
       "      <td>9.0</td>\n",
       "    </tr>\n",
       "    <tr>\n",
       "      <th>4</th>\n",
       "      <td>0</td>\n",
       "      <td>10185</td>\n",
       "      <td>7</td>\n",
       "      <td>1473424740</td>\n",
       "      <td>9.299180</td>\n",
       "      <td>9.0</td>\n",
       "    </tr>\n",
       "  </tbody>\n",
       "</table>\n",
       "</div>"
      ],
      "text/plain": [
       "   user  movie  rate        time  rate_avg_movie  rate_avg_movie_class\n",
       "0     0  10200    10  1483582800        9.434136                   9.0\n",
       "1     0  10048     7  1394114760        9.378706                   9.0\n",
       "2     0  10038     9  1495625940        9.343516                   9.0\n",
       "3     0  10021     9  1424497980        9.317726                   9.0\n",
       "4     0  10185     7  1473424740        9.299180                   9.0"
      ]
     },
     "execution_count": 60,
     "metadata": {},
     "output_type": "execute_result"
    }
   ],
   "source": [
    "avg_movie_df = AvgMovieRecommender(movies_df, rates_df).run(20)\n",
    "avg_movie_df.head()"
   ]
  },
  {
   "cell_type": "code",
   "execution_count": 61,
   "metadata": {},
   "outputs": [
    {
     "name": "stderr",
     "output_type": "stream",
     "text": [
      "/var/folders/ph/w9kxghkd5959cwdbzq0m7_9m0000gn/T/ipykernel_75653/1331135252.py:10: DeprecationWarning: DataFrameGroupBy.apply operated on the grouping columns. This behavior is deprecated, and in a future version of pandas the grouping columns will be excluded from the operation. Either pass `include_groups=False` to exclude the groupings or explicitly select the grouping columns after groupby to silence this warning.\n",
      "  df.groupby('user', group_keys=False)\n"
     ]
    },
    {
     "data": {
      "text/html": [
       "<div>\n",
       "<style scoped>\n",
       "    .dataframe tbody tr th:only-of-type {\n",
       "        vertical-align: middle;\n",
       "    }\n",
       "\n",
       "    .dataframe tbody tr th {\n",
       "        vertical-align: top;\n",
       "    }\n",
       "\n",
       "    .dataframe thead th {\n",
       "        text-align: right;\n",
       "    }\n",
       "</style>\n",
       "<table border=\"1\" class=\"dataframe\">\n",
       "  <thead>\n",
       "    <tr style=\"text-align: right;\">\n",
       "      <th></th>\n",
       "      <th>user</th>\n",
       "      <th>movie</th>\n",
       "      <th>rate</th>\n",
       "      <th>time</th>\n",
       "      <th>rate_avg_user</th>\n",
       "      <th>rate_avg_user_class</th>\n",
       "    </tr>\n",
       "  </thead>\n",
       "  <tbody>\n",
       "    <tr>\n",
       "      <th>0</th>\n",
       "      <td>0</td>\n",
       "      <td>10003</td>\n",
       "      <td>7</td>\n",
       "      <td>1494128040</td>\n",
       "      <td>7.388235</td>\n",
       "      <td>7.0</td>\n",
       "    </tr>\n",
       "    <tr>\n",
       "      <th>1</th>\n",
       "      <td>0</td>\n",
       "      <td>10004</td>\n",
       "      <td>7</td>\n",
       "      <td>1467529800</td>\n",
       "      <td>7.388235</td>\n",
       "      <td>7.0</td>\n",
       "    </tr>\n",
       "    <tr>\n",
       "      <th>2</th>\n",
       "      <td>0</td>\n",
       "      <td>10018</td>\n",
       "      <td>9</td>\n",
       "      <td>1513344120</td>\n",
       "      <td>7.388235</td>\n",
       "      <td>7.0</td>\n",
       "    </tr>\n",
       "    <tr>\n",
       "      <th>3</th>\n",
       "      <td>0</td>\n",
       "      <td>10021</td>\n",
       "      <td>9</td>\n",
       "      <td>1424497980</td>\n",
       "      <td>7.388235</td>\n",
       "      <td>7.0</td>\n",
       "    </tr>\n",
       "    <tr>\n",
       "      <th>4</th>\n",
       "      <td>0</td>\n",
       "      <td>10022</td>\n",
       "      <td>7</td>\n",
       "      <td>1427627340</td>\n",
       "      <td>7.388235</td>\n",
       "      <td>7.0</td>\n",
       "    </tr>\n",
       "  </tbody>\n",
       "</table>\n",
       "</div>"
      ],
      "text/plain": [
       "   user  movie  rate        time  rate_avg_user  rate_avg_user_class\n",
       "0     0  10003     7  1494128040       7.388235                  7.0\n",
       "1     0  10004     7  1467529800       7.388235                  7.0\n",
       "2     0  10018     9  1513344120       7.388235                  7.0\n",
       "3     0  10021     9  1424497980       7.388235                  7.0\n",
       "4     0  10022     7  1427627340       7.388235                  7.0"
      ]
     },
     "execution_count": 61,
     "metadata": {},
     "output_type": "execute_result"
    }
   ],
   "source": [
    "avg_user_df = AvgUserRecommender(movies_df, rates_df).run(20)\n",
    "avg_user_df.head()"
   ]
  },
  {
   "cell_type": "code",
   "execution_count": 62,
   "metadata": {},
   "outputs": [
    {
     "name": "stderr",
     "output_type": "stream",
     "text": [
      "/var/folders/ph/w9kxghkd5959cwdbzq0m7_9m0000gn/T/ipykernel_75653/1331135252.py:10: DeprecationWarning: DataFrameGroupBy.apply operated on the grouping columns. This behavior is deprecated, and in a future version of pandas the grouping columns will be excluded from the operation. Either pass `include_groups=False` to exclude the groupings or explicitly select the grouping columns after groupby to silence this warning.\n",
      "  df.groupby('user', group_keys=False)\n"
     ]
    },
    {
     "data": {
      "text/html": [
       "<div>\n",
       "<style scoped>\n",
       "    .dataframe tbody tr th:only-of-type {\n",
       "        vertical-align: middle;\n",
       "    }\n",
       "\n",
       "    .dataframe tbody tr th {\n",
       "        vertical-align: top;\n",
       "    }\n",
       "\n",
       "    .dataframe thead th {\n",
       "        text-align: right;\n",
       "    }\n",
       "</style>\n",
       "<table border=\"1\" class=\"dataframe\">\n",
       "  <thead>\n",
       "    <tr style=\"text-align: right;\">\n",
       "      <th></th>\n",
       "      <th>user</th>\n",
       "      <th>movie</th>\n",
       "      <th>rate</th>\n",
       "      <th>time</th>\n",
       "      <th>genre</th>\n",
       "      <th>rate_avg_genre</th>\n",
       "      <th>rate_avg_genre_class</th>\n",
       "    </tr>\n",
       "  </thead>\n",
       "  <tbody>\n",
       "    <tr>\n",
       "      <th>0</th>\n",
       "      <td>0</td>\n",
       "      <td>10087</td>\n",
       "      <td>6</td>\n",
       "      <td>1455366120</td>\n",
       "      <td>멜로/로맨스</td>\n",
       "      <td>9.068975</td>\n",
       "      <td>9.0</td>\n",
       "    </tr>\n",
       "    <tr>\n",
       "      <th>1</th>\n",
       "      <td>0</td>\n",
       "      <td>10087</td>\n",
       "      <td>6</td>\n",
       "      <td>1455366120</td>\n",
       "      <td>드라마</td>\n",
       "      <td>9.068975</td>\n",
       "      <td>9.0</td>\n",
       "    </tr>\n",
       "    <tr>\n",
       "      <th>2</th>\n",
       "      <td>0</td>\n",
       "      <td>10087</td>\n",
       "      <td>6</td>\n",
       "      <td>1455366120</td>\n",
       "      <td>뮤지컬</td>\n",
       "      <td>9.068975</td>\n",
       "      <td>9.0</td>\n",
       "    </tr>\n",
       "    <tr>\n",
       "      <th>3</th>\n",
       "      <td>0</td>\n",
       "      <td>10395</td>\n",
       "      <td>8</td>\n",
       "      <td>1452179460</td>\n",
       "      <td>멜로/로맨스</td>\n",
       "      <td>9.068975</td>\n",
       "      <td>9.0</td>\n",
       "    </tr>\n",
       "    <tr>\n",
       "      <th>4</th>\n",
       "      <td>0</td>\n",
       "      <td>10395</td>\n",
       "      <td>8</td>\n",
       "      <td>1452179460</td>\n",
       "      <td>드라마</td>\n",
       "      <td>9.068975</td>\n",
       "      <td>9.0</td>\n",
       "    </tr>\n",
       "  </tbody>\n",
       "</table>\n",
       "</div>"
      ],
      "text/plain": [
       "   user  movie  rate        time   genre  rate_avg_genre  rate_avg_genre_class\n",
       "0     0  10087     6  1455366120  멜로/로맨스        9.068975                   9.0\n",
       "1     0  10087     6  1455366120     드라마        9.068975                   9.0\n",
       "2     0  10087     6  1455366120     뮤지컬        9.068975                   9.0\n",
       "3     0  10395     8  1452179460  멜로/로맨스        9.068975                   9.0\n",
       "4     0  10395     8  1452179460     드라마        9.068975                   9.0"
      ]
     },
     "execution_count": 62,
     "metadata": {},
     "output_type": "execute_result"
    }
   ],
   "source": [
    "avg_genre_df = AvgGenreRecommender(movies_df, rates_df, genres_df).run(20)\n",
    "avg_genre_df.head()"
   ]
  },
  {
   "cell_type": "code",
   "execution_count": 63,
   "metadata": {},
   "outputs": [],
   "source": [
    "class AvgActorRecommender(BaseRecommender):\n",
    "    def __init__(self, movies_df, rates_df, castings_df):\n",
    "        super().__init__(movies_df, rates_df, castings_df=castings_df)\n",
    "\n",
    "    def run(self, n_items=10):\n",
    "        df = self.rates_df.copy()\n",
    "        df = pd.merge(df, self.castings_df, on='movie', how='left')\n",
    "\n",
    "        df = df[df['leading'] == 1]\n",
    "        df['rate_avg_actor'] = df.groupby('people')['rate'].transform('mean')\n",
    "\n",
    "        top_n = self.get_top_n(df, 'rate_avg_actor', n_items)\n",
    "\n",
    "        return top_n"
   ]
  },
  {
   "cell_type": "code",
   "execution_count": 64,
   "metadata": {},
   "outputs": [
    {
     "name": "stderr",
     "output_type": "stream",
     "text": [
      "/var/folders/ph/w9kxghkd5959cwdbzq0m7_9m0000gn/T/ipykernel_75653/1331135252.py:10: DeprecationWarning: DataFrameGroupBy.apply operated on the grouping columns. This behavior is deprecated, and in a future version of pandas the grouping columns will be excluded from the operation. Either pass `include_groups=False` to exclude the groupings or explicitly select the grouping columns after groupby to silence this warning.\n",
      "  df.groupby('user', group_keys=False)\n"
     ]
    },
    {
     "data": {
      "text/html": [
       "<div>\n",
       "<style scoped>\n",
       "    .dataframe tbody tr th:only-of-type {\n",
       "        vertical-align: middle;\n",
       "    }\n",
       "\n",
       "    .dataframe tbody tr th {\n",
       "        vertical-align: top;\n",
       "    }\n",
       "\n",
       "    .dataframe thead th {\n",
       "        text-align: right;\n",
       "    }\n",
       "</style>\n",
       "<table border=\"1\" class=\"dataframe\">\n",
       "  <thead>\n",
       "    <tr style=\"text-align: right;\">\n",
       "      <th></th>\n",
       "      <th>user</th>\n",
       "      <th>movie</th>\n",
       "      <th>rate</th>\n",
       "      <th>time</th>\n",
       "      <th>people</th>\n",
       "      <th>order</th>\n",
       "      <th>leading</th>\n",
       "      <th>rate_avg_actor</th>\n",
       "      <th>rate_avg_actor_class</th>\n",
       "    </tr>\n",
       "  </thead>\n",
       "  <tbody>\n",
       "    <tr>\n",
       "      <th>0</th>\n",
       "      <td>0</td>\n",
       "      <td>10048</td>\n",
       "      <td>7</td>\n",
       "      <td>1394114760</td>\n",
       "      <td>1349.0</td>\n",
       "      <td>1.0</td>\n",
       "      <td>1.0</td>\n",
       "      <td>9.367127</td>\n",
       "      <td>9.0</td>\n",
       "    </tr>\n",
       "    <tr>\n",
       "      <th>1</th>\n",
       "      <td>0</td>\n",
       "      <td>10004</td>\n",
       "      <td>7</td>\n",
       "      <td>1467529800</td>\n",
       "      <td>5104.0</td>\n",
       "      <td>4.0</td>\n",
       "      <td>1.0</td>\n",
       "      <td>9.360691</td>\n",
       "      <td>9.0</td>\n",
       "    </tr>\n",
       "    <tr>\n",
       "      <th>2</th>\n",
       "      <td>0</td>\n",
       "      <td>10038</td>\n",
       "      <td>9</td>\n",
       "      <td>1495625940</td>\n",
       "      <td>7049.0</td>\n",
       "      <td>3.0</td>\n",
       "      <td>1.0</td>\n",
       "      <td>9.343516</td>\n",
       "      <td>9.0</td>\n",
       "    </tr>\n",
       "    <tr>\n",
       "      <th>3</th>\n",
       "      <td>0</td>\n",
       "      <td>10038</td>\n",
       "      <td>9</td>\n",
       "      <td>1495625940</td>\n",
       "      <td>10587.0</td>\n",
       "      <td>5.0</td>\n",
       "      <td>1.0</td>\n",
       "      <td>9.343516</td>\n",
       "      <td>9.0</td>\n",
       "    </tr>\n",
       "    <tr>\n",
       "      <th>4</th>\n",
       "      <td>0</td>\n",
       "      <td>10003</td>\n",
       "      <td>7</td>\n",
       "      <td>1494128040</td>\n",
       "      <td>1076.0</td>\n",
       "      <td>1.0</td>\n",
       "      <td>1.0</td>\n",
       "      <td>9.336012</td>\n",
       "      <td>9.0</td>\n",
       "    </tr>\n",
       "  </tbody>\n",
       "</table>\n",
       "</div>"
      ],
      "text/plain": [
       "   user  movie  rate        time   people  order  leading  rate_avg_actor  \\\n",
       "0     0  10048     7  1394114760   1349.0    1.0      1.0        9.367127   \n",
       "1     0  10004     7  1467529800   5104.0    4.0      1.0        9.360691   \n",
       "2     0  10038     9  1495625940   7049.0    3.0      1.0        9.343516   \n",
       "3     0  10038     9  1495625940  10587.0    5.0      1.0        9.343516   \n",
       "4     0  10003     7  1494128040   1076.0    1.0      1.0        9.336012   \n",
       "\n",
       "   rate_avg_actor_class  \n",
       "0                   9.0  \n",
       "1                   9.0  \n",
       "2                   9.0  \n",
       "3                   9.0  \n",
       "4                   9.0  "
      ]
     },
     "execution_count": 64,
     "metadata": {},
     "output_type": "execute_result"
    }
   ],
   "source": [
    "avg_actor_df = AvgActorRecommender(movies_df, rates_df, castings_df).run(20)\n",
    "avg_actor_df.head()"
   ]
  },
  {
   "cell_type": "code",
   "execution_count": 66,
   "metadata": {},
   "outputs": [],
   "source": [
    "# analysis all recommenders\n",
    "\n",
    "random_analyzer = Analyzer(random_df['rate'], random_df['rate_random'], random_df['rate_random_class'])\n",
    "avg_movie_analyzer = Analyzer(avg_movie_df['rate'], avg_movie_df['rate_avg_movie'], avg_movie_df['rate_avg_movie_class'])\n",
    "avg_user_analyzer = Analyzer(avg_user_df['rate'], avg_user_df['rate_avg_user'], avg_user_df['rate_avg_user_class'])\n",
    "avg_genre_analyzer = Analyzer(avg_genre_df['rate'], avg_genre_df['rate_avg_genre'], avg_genre_df['rate_avg_genre_class'])\n",
    "avg_actor_analyzer = Analyzer(avg_actor_df['rate'], avg_actor_df['rate_avg_actor'], avg_actor_df['rate_avg_actor_class'])"
   ]
  },
  {
   "cell_type": "code",
   "execution_count": 67,
   "metadata": {},
   "outputs": [
    {
     "name": "stdout",
     "output_type": "stream",
     "text": [
      "MAE: 4.3769186819542565\n",
      "MSE: 27.287828738770077\n",
      "RMSE: 5.2237753338720525\n",
      "MAPE: 0.620532870691746\n"
     ]
    }
   ],
   "source": [
    "random_analyzer.analyze_error()"
   ]
  },
  {
   "cell_type": "code",
   "execution_count": 68,
   "metadata": {},
   "outputs": [
    {
     "name": "stdout",
     "output_type": "stream",
     "text": [
      "Confusion Matrix :\n",
      "[[   0    0    0    0    0    0    0    0    0    0    0]\n",
      " [ 151  409  426  411  421  445  463  468  480  513  290]\n",
      " [  23   42   50   47   58   54   47   49   57   76   44]\n",
      " [  18   32   38   46   36   36   54   67   79   75   38]\n",
      " [  27   54   60   72   59   67   72   84   90   96   46]\n",
      " [  30  112  123  108  133  131  135  146  152  175  108]\n",
      " [  69  186  185  203  190  226  231  260  298  328  168]\n",
      " [ 164  323  291  330  360  406  400  499  497  622  314]\n",
      " [ 300  607  678  717  756  808  809  892 1032 1119  551]\n",
      " [ 459  989 1002 1048 1083 1080 1184 1259 1344 1390  719]\n",
      " [3793 7423 7854 8130 8084 8404 8318 8758 8984 9341 4674]]\n",
      "Accuracy: 0.0723578064231246\n",
      "Precision: [0.         0.04018866 0.00466984 0.00413967 0.00527728 0.01123788\n",
      " 0.01972168 0.03997757 0.07930531 0.10120131 0.67232451]\n",
      "Recall: [       nan 0.09135582 0.09140768 0.08863198 0.08115543 0.09682188\n",
      " 0.09854949 0.11864004 0.12480348 0.12027343 0.05580029]\n",
      "F1: [       nan 0.05582094 0.00888573 0.0079099  0.00991014 0.02013836\n",
      " 0.03286619 0.05980345 0.09698337 0.10991618 0.10304801]\n"
     ]
    }
   ],
   "source": [
    "random_analyzer.analyze_confusion_matrix()"
   ]
  },
  {
   "cell_type": "code",
   "execution_count": 69,
   "metadata": {},
   "outputs": [
    {
     "name": "stdout",
     "output_type": "stream",
     "text": [
      "MAE: 1.255901668956898\n",
      "MSE: 3.952888516210945\n",
      "RMSE: 1.9881872437501817\n",
      "MAPE: 0.42152373306057334\n"
     ]
    }
   ],
   "source": [
    "avg_movie_analyzer.analyze_error()"
   ]
  },
  {
   "cell_type": "code",
   "execution_count": 70,
   "metadata": {},
   "outputs": [
    {
     "name": "stdout",
     "output_type": "stream",
     "text": [
      "Confusion Matrix :\n",
      "[[    0     1     1    11    68    56   316   406  3570     4]\n",
      " [    0     0     0     4     9    13    27   117   321     0]\n",
      " [    0     0     0     0    11    13    47    88   283     0]\n",
      " [    0     0     0     3     5    14    45   166   424     0]\n",
      " [    0     0     1     2     8    25    70   256   846     0]\n",
      " [    0     0     0     0    16    27   105   484  1456     5]\n",
      " [    0     0     0     2    14    31   146   746  2903     7]\n",
      " [    0     0     0     0    14    31   238  1357  6288    17]\n",
      " [    0     0     0     1    14    22   151  1416  9957    40]\n",
      " [    0     0     0     7    41   114   878  5497 78155   351]]\n",
      "Accuracy: 0.10061819602248603\n",
      "Precision: [       nan 0.         0.         0.1        0.04       0.07803468\n",
      " 0.07217004 0.12883319 0.09555387 0.82783019]\n",
      "Recall: [0.         0.         0.         0.00456621 0.00662252 0.01290014\n",
      " 0.03793193 0.17079924 0.85828808 0.00412732]\n",
      "F1: [       nan        nan        nan 0.00873362 0.01136364 0.02214022\n",
      " 0.04972752 0.14687737 0.17196297 0.0082137 ]\n"
     ]
    },
    {
     "name": "stderr",
     "output_type": "stream",
     "text": [
      "/var/folders/ph/w9kxghkd5959cwdbzq0m7_9m0000gn/T/ipykernel_75653/2850479046.py:68: RuntimeWarning: invalid value encountered in divide\n",
      "  self.f1 = 2 * (self.precision * self.recall) / (self.precision + self.recall)\n"
     ]
    }
   ],
   "source": [
    "avg_movie_analyzer.analyze_confusion_matrix()"
   ]
  },
  {
   "cell_type": "code",
   "execution_count": 71,
   "metadata": {},
   "outputs": [
    {
     "name": "stdout",
     "output_type": "stream",
     "text": [
      "MAE: 0.6168470944568313\n",
      "MSE: 1.7458033564580981\n",
      "RMSE: 1.3212885212769003\n",
      "MAPE: 0.18796969777773848\n"
     ]
    }
   ],
   "source": [
    "avg_user_analyzer.analyze_error()"
   ]
  },
  {
   "cell_type": "code",
   "execution_count": 72,
   "metadata": {},
   "outputs": [
    {
     "name": "stdout",
     "output_type": "stream",
     "text": [
      "Confusion Matrix :\n",
      "[[ 1842   101   180   225   163   538   420   499   456    10]\n",
      " [    2   163     9    21    39    78    68    88    66     2]\n",
      " [    0     5   148     8    30    76    62    83    75     6]\n",
      " [    0     6     3   205    33    87   122   141    91     5]\n",
      " [    0     8    11    14   354   139   202   352   207    22]\n",
      " [    0     0     6    22    33   601   408   621   495    53]\n",
      " [    0     0     6    19    41   194  1238  1391  1058   127]\n",
      " [    0     0    14    16    37   167   638  3734  2896   630]\n",
      " [    0     0     1    11    55    97   413  1801  6567  2591]\n",
      " [    4     8    34    91    88   649  1156  4181 14421 63684]]\n",
      "Accuracy: 0.6669044343676228\n",
      "Precision: [0.99675325 0.56013746 0.3592233  0.32436709 0.40549828 0.22886519\n",
      " 0.26189972 0.28965945 0.24939237 0.94866677]\n",
      "Recall: [0.41542625 0.30410448 0.30020284 0.2958153  0.27043545 0.2684234\n",
      " 0.30387825 0.45917364 0.56926144 0.75530148]\n",
      "F1: [0.58643744 0.39419589 0.32707182 0.30943396 0.32447296 0.24707091\n",
      " 0.28133167 0.35522999 0.34683638 0.84101264]\n"
     ]
    }
   ],
   "source": [
    "avg_user_analyzer.analyze_confusion_matrix()"
   ]
  },
  {
   "cell_type": "code",
   "execution_count": 73,
   "metadata": {},
   "outputs": [
    {
     "name": "stdout",
     "output_type": "stream",
     "text": [
      "MAE: 1.362633892775186\n",
      "MSE: 4.2375135853945505\n",
      "RMSE: 2.0585221848196222\n",
      "MAPE: 0.4528222011236738\n"
     ]
    }
   ],
   "source": [
    "avg_genre_analyzer.analyze_error()"
   ]
  },
  {
   "cell_type": "code",
   "execution_count": 74,
   "metadata": {},
   "outputs": [
    {
     "name": "stdout",
     "output_type": "stream",
     "text": [
      "Confusion Matrix :\n",
      "[[     0      0      0      0      0      1      6      0   9851      0]\n",
      " [     0      0      0      0      0      0      6      0   1060      0]\n",
      " [     0      0      0      0      0      1      6      0    909      0]\n",
      " [     0      0      0      0      0      0      0      0   1354      0]\n",
      " [     0      0      0      0      0      1     12      0   2459      0]\n",
      " [     0      0      0      0      0      1      2      0   4004      0]\n",
      " [     0      0      0      0      0      0      4      0   7172      0]\n",
      " [     0      0      0      0      0      2      2      2  14895      0]\n",
      " [     0      0      0      0      0      0      2      0  22249      0]\n",
      " [     0      0      0      0      0      2     22      3 184171      0]]\n",
      "Accuracy: 0.08966998255432133\n",
      "Precision: [       nan        nan        nan        nan        nan 0.125\n",
      " 0.06451613 0.4        0.08966888        nan]\n",
      "Recall: [0.00000000e+00 0.00000000e+00 0.00000000e+00 0.00000000e+00\n",
      " 0.00000000e+00 2.49563264e-04 5.57413601e-04 1.34219180e-04\n",
      " 9.99910116e-01 0.00000000e+00]\n",
      "F1: [       nan        nan        nan        nan        nan 0.00049813\n",
      " 0.00110528 0.00026835 0.16457883        nan]\n"
     ]
    }
   ],
   "source": [
    "avg_genre_analyzer.analyze_confusion_matrix()"
   ]
  },
  {
   "cell_type": "code",
   "execution_count": 75,
   "metadata": {},
   "outputs": [
    {
     "name": "stdout",
     "output_type": "stream",
     "text": [
      "MAE: 1.2355143346378739\n",
      "MSE: 3.8636906313595714\n",
      "RMSE: 1.9656272869899754\n",
      "MAPE: 0.4157085561502365\n"
     ]
    }
   ],
   "source": [
    "avg_actor_analyzer.analyze_error()"
   ]
  },
  {
   "cell_type": "code",
   "execution_count": 76,
   "metadata": {},
   "outputs": [
    {
     "name": "stdout",
     "output_type": "stream",
     "text": [
      "Confusion Matrix :\n",
      "[[     0      0      2     11     72     84    424    778   9191      2]\n",
      " [     0      0      0      6      3     11     34    182    822      0]\n",
      " [     0      0      0      0      2     10     46    170    711      0]\n",
      " [     0      0      0      2      0     11     43    294   1099      0]\n",
      " [     0      0      2      0      8     33     65    397   2015      0]\n",
      " [     0      0      0      0     25     31     78    745   3176     18]\n",
      " [     0      0      0      6     14     32    123   1050   6126      8]\n",
      " [     0      0      0      0     16     30    236   2303  13723     28]\n",
      " [     0      0      0      0     12     33    142   2449  22847     98]\n",
      " [     0      0      1      9     28    165   1025  10656 203254    782]]\n",
      "Accuracy: 0.09130892690317322\n",
      "Precision: [       nan        nan 0.         0.05882353 0.04444444 0.07045455\n",
      " 0.05550542 0.12105761 0.08688262 0.83547009]\n",
      "Recall: [0.         0.         0.         0.00138026 0.0031746  0.0076111\n",
      " 0.01671423 0.14097698 0.8931238  0.00362171]\n",
      "F1: [       nan        nan        nan 0.00269724 0.00592593 0.01373809\n",
      " 0.02569191 0.13026018 0.15836005 0.00721216]\n"
     ]
    },
    {
     "name": "stderr",
     "output_type": "stream",
     "text": [
      "/var/folders/ph/w9kxghkd5959cwdbzq0m7_9m0000gn/T/ipykernel_75653/2850479046.py:68: RuntimeWarning: invalid value encountered in divide\n",
      "  self.f1 = 2 * (self.precision * self.recall) / (self.precision + self.recall)\n"
     ]
    }
   ],
   "source": [
    "avg_actor_analyzer.analyze_confusion_matrix()"
   ]
  },
  {
   "cell_type": "code",
   "execution_count": null,
   "metadata": {},
   "outputs": [],
   "source": []
  }
 ],
 "metadata": {
  "kernelspec": {
   "display_name": ".venv",
   "language": "python",
   "name": "python3"
  },
  "language_info": {
   "codemirror_mode": {
    "name": "ipython",
    "version": 3
   },
   "file_extension": ".py",
   "mimetype": "text/x-python",
   "name": "python",
   "nbconvert_exporter": "python",
   "pygments_lexer": "ipython3",
   "version": "3.9.6"
  }
 },
 "nbformat": 4,
 "nbformat_minor": 2
}
